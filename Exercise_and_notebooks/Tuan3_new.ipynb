{
  "nbformat": 4,
  "nbformat_minor": 0,
  "metadata": {
    "colab": {
      "name": "Tuan3.ipynb",
      "provenance": [],
      "toc_visible": true,
      "authorship_tag": "ABX9TyOLgqg6by08P4TfXbEhC2VZ",
      "include_colab_link": true
    },
    "kernelspec": {
      "name": "python3",
      "display_name": "Python 3"
    }
  },
  "cells": [
    {
      "cell_type": "markdown",
      "metadata": {
        "id": "view-in-github",
        "colab_type": "text"
      },
      "source": [
        "<a href=\"https://colab.research.google.com/github/quangnhat1395/python-dataviz-course/blob/master/Tuan3_new.ipynb\" target=\"_parent\"><img src=\"https://colab.research.google.com/assets/colab-badge.svg\" alt=\"Open In Colab\"/></a>"
      ]
    },
    {
      "cell_type": "markdown",
      "metadata": {
        "id": "boCWKdzlHk1s"
      },
      "source": [
        "Ở trong phần này chúng ta sẽ làm quen với thư viện numpy, đồng thời tìm hiểu một số thao tác với dataFrame.\n",
        "\n",
        "#Làm quen thư viện `numpy`"
      ]
    },
    {
      "cell_type": "markdown",
      "metadata": {
        "id": "tm3CcbtlBMBF"
      },
      "source": [
        "## Cài đặt\n",
        "Ta có thể cài đặt `numpy` thông qua trình quản lý `pip` của Python như sau:"
      ]
    },
    {
      "cell_type": "code",
      "metadata": {
        "id": "_nFse48NBHOM",
        "outputId": "36e34144-b8db-422a-fdf7-6aae7b52b7b9",
        "colab": {
          "base_uri": "https://localhost:8080/",
          "height": 55
        }
      },
      "source": [
        "pip install numpy"
      ],
      "execution_count": null,
      "outputs": [
        {
          "output_type": "stream",
          "text": [
            "Requirement already satisfied: numpy in /usr/local/lib/python3.6/dist-packages (1.18.5)\n"
          ],
          "name": "stdout"
        }
      ]
    },
    {
      "cell_type": "markdown",
      "metadata": {
        "id": "gRBYfeyyBvbG"
      },
      "source": [
        "##Sử dụng\n",
        "Để sử dụng thư viện `numpy`, ta tiến hành import nó vào, tương tự như các thư viện khác như sau:"
      ]
    },
    {
      "cell_type": "code",
      "metadata": {
        "id": "ha67cpCbBuAK"
      },
      "source": [
        "import numpy as np\n"
      ],
      "execution_count": null,
      "outputs": []
    },
    {
      "cell_type": "markdown",
      "metadata": {
        "id": "e0K2_J0oIwPD"
      },
      "source": [
        "## Mảng (array) trong numpy\n",
        "\n",
        "Thư viện numpy chủ yếu được sử dụng để tính toán trên các dữ liệu kiểu mảng. Nôm na có thể hiểu, đây là dữ liệu có dạng vecto n chiều.\n",
        "\n",
        "Ta thử tạo một mảng đơn giản bằng numpy như sau:"
      ]
    },
    {
      "cell_type": "code",
      "metadata": {
        "id": "QNo94cTzIsSn"
      },
      "source": [
        "a = np.array([1, 2, 3])"
      ],
      "execution_count": null,
      "outputs": []
    },
    {
      "cell_type": "code",
      "metadata": {
        "id": "ppmKZF5hJK0h",
        "outputId": "ac959824-cd88-4cf2-cbe6-c5be3ba7f684",
        "colab": {
          "base_uri": "https://localhost:8080/",
          "height": 53
        }
      },
      "source": [
        "#kiem tra kich co cua mang a\n",
        "print(a.shape)\n",
        "print(a)"
      ],
      "execution_count": null,
      "outputs": [
        {
          "output_type": "stream",
          "text": [
            "(3,)\n",
            "[1 2 3]\n"
          ],
          "name": "stdout"
        }
      ]
    },
    {
      "cell_type": "markdown",
      "metadata": {
        "id": "QXEyWNXGKz3r"
      },
      "source": [
        "Ta có thể hình dung quá trình trên như hình dưới đây:\n",
        "\n",
        "![Untitled.png](https://2.pik.vn/202000257f8a-7bf1-460a-b51d-485e4d96df81.png)\n",
        "\n",
        "\n",
        "Các lệnh trong numpy có nét tương đồng với matlab. Bạn đọc có thể tìm hiểu thêm ở [đây](https://numpy.org/doc/stable/user/numpy-for-matlab-users.html). Ở bài viết này, chúng tôi chỉ sơ lược một vài lệnh cơ bản hay được sử dụng trong numpy."
      ]
    },
    {
      "cell_type": "code",
      "metadata": {
        "id": "xIvivP4SJR9k",
        "outputId": "dbf470d1-296a-4724-d87e-ce539bab484e",
        "colab": {
          "base_uri": "https://localhost:8080/",
          "height": 35
        }
      },
      "source": [
        "np.zeros(2) #Tao vecto  co 2 phan tu deu la 0\n",
        "print(np.zeros(2))"
      ],
      "execution_count": null,
      "outputs": [
        {
          "output_type": "stream",
          "text": [
            "[0. 0.]\n"
          ],
          "name": "stdout"
        }
      ]
    },
    {
      "cell_type": "code",
      "metadata": {
        "id": "oATtv9PPOC7f",
        "outputId": "a2504680-097f-4bec-e141-f551b0b3a8f3",
        "colab": {
          "base_uri": "https://localhost:8080/",
          "height": 35
        }
      },
      "source": [
        " np.ones(2) #tao vecto co 2 phan tu deu la 1\n",
        " print( np.ones(2))"
      ],
      "execution_count": null,
      "outputs": [
        {
          "output_type": "stream",
          "text": [
            "[1. 1.]\n"
          ],
          "name": "stdout"
        }
      ]
    },
    {
      "cell_type": "code",
      "metadata": {
        "id": "eRkKrSb2QCim",
        "outputId": "a72df2e8-0e69-46df-9116-abe6f4e7e678",
        "colab": {
          "base_uri": "https://localhost:8080/",
          "height": 53
        }
      },
      "source": [
        "np.arange(4)# tao vecto tu 0-->3 (tuong ung voi lenh range)\n",
        "print(np.arange(4))\n",
        "np.arange(2, 9, 2)\n",
        "print(np.arange(2, 9, 2))"
      ],
      "execution_count": null,
      "outputs": [
        {
          "output_type": "stream",
          "text": [
            "[0 1 2 3]\n",
            "[2 4 6 8]\n"
          ],
          "name": "stdout"
        }
      ]
    },
    {
      "cell_type": "code",
      "metadata": {
        "id": "IHPijkt9QlN1",
        "outputId": "eb98fc9c-1b2c-48c1-c967-6c805399dfcf",
        "colab": {
          "base_uri": "https://localhost:8080/",
          "height": 35
        }
      },
      "source": [
        "np.linspace(0, 10, num=5)#Tao vecto tu 0-->10 voi khoang cach bang nhau"
      ],
      "execution_count": null,
      "outputs": [
        {
          "output_type": "execute_result",
          "data": {
            "text/plain": [
              "array([ 0. ,  2.5,  5. ,  7.5, 10. ])"
            ]
          },
          "metadata": {
            "tags": []
          },
          "execution_count": 18
        }
      ]
    },
    {
      "cell_type": "code",
      "metadata": {
        "id": "wA9LnqpnSpeD",
        "outputId": "1f8bd558-4360-4fed-8b57-1b6f5f2d3f6b",
        "colab": {
          "base_uri": "https://localhost:8080/",
          "height": 35
        }
      },
      "source": [
        "x = np.ones(2, dtype=np.int64) #ep kieu du lieu tu thuc-->nguyen\n",
        "print(x)"
      ],
      "execution_count": null,
      "outputs": [
        {
          "output_type": "stream",
          "text": [
            "[1 1]\n"
          ],
          "name": "stdout"
        }
      ]
    },
    {
      "cell_type": "code",
      "metadata": {
        "id": "UJFxGONlSxeH",
        "outputId": "6aa7aa16-9009-4301-84a9-e24ad497db54",
        "colab": {
          "base_uri": "https://localhost:8080/",
          "height": 35
        }
      },
      "source": [
        "a = np.array([1, 2, 3])\n",
        "print(a[0]) #Lay ra phan tu dau tien cua mang"
      ],
      "execution_count": null,
      "outputs": [
        {
          "output_type": "stream",
          "text": [
            "1\n"
          ],
          "name": "stdout"
        }
      ]
    },
    {
      "cell_type": "markdown",
      "metadata": {
        "id": "ZHICZFgFUDjd"
      },
      "source": [
        "## Thêm, bớt, sắp xếp các phần tử trong mảng\n",
        "Để thêm, bớt hoặc sắp xếp các phần tử trong numpy, ta tiến hành như sau:"
      ]
    },
    {
      "cell_type": "code",
      "metadata": {
        "id": "mgc4W28tTk-V",
        "outputId": "2b50f911-77c9-451e-b56f-bd1a6a1a75c3",
        "colab": {
          "base_uri": "https://localhost:8080/",
          "height": 53
        }
      },
      "source": [
        "arr = np.array([2, 1, 5, 3, 7, 4, 6, 8]) #mang ban dau\n",
        "print(arr)\n",
        "np.sort(arr) #Sap xep tang dan"
      ],
      "execution_count": null,
      "outputs": [
        {
          "output_type": "stream",
          "text": [
            "[2 1 5 3 7 4 6 8]\n"
          ],
          "name": "stdout"
        },
        {
          "output_type": "execute_result",
          "data": {
            "text/plain": [
              "array([1, 2, 3, 4, 5, 6, 7, 8])"
            ]
          },
          "metadata": {
            "tags": []
          },
          "execution_count": 23
        }
      ]
    },
    {
      "cell_type": "code",
      "metadata": {
        "id": "vtJB4Te6Vj6s",
        "outputId": "f50b14aa-5e3d-4306-dd36-64b2fa40a08c",
        "colab": {
          "base_uri": "https://localhost:8080/",
          "height": 35
        }
      },
      "source": [
        "a = np.array([1, 2, 3, 4])\n",
        "b = np.array([5, 6, 7, 8])\n",
        "np.concatenate((a, b)) #Ghep 2 mang lai"
      ],
      "execution_count": null,
      "outputs": [
        {
          "output_type": "execute_result",
          "data": {
            "text/plain": [
              "array([1, 2, 3, 4, 5, 6, 7, 8])"
            ]
          },
          "metadata": {
            "tags": []
          },
          "execution_count": 24
        }
      ]
    },
    {
      "cell_type": "code",
      "metadata": {
        "id": "X-BPJDLKV_9n",
        "outputId": "69f40829-9b16-4df8-d711-032d7a0967fa",
        "colab": {
          "base_uri": "https://localhost:8080/",
          "height": 72
        }
      },
      "source": [
        "x = np.array([[1, 2], [3, 4]])\n",
        "y = np.array([[5, 6]])\n",
        "np.concatenate((x, y), axis=0)"
      ],
      "execution_count": null,
      "outputs": [
        {
          "output_type": "execute_result",
          "data": {
            "text/plain": [
              "array([[1, 2],\n",
              "       [3, 4],\n",
              "       [5, 6]])"
            ]
          },
          "metadata": {
            "tags": []
          },
          "execution_count": 25
        }
      ]
    },
    {
      "cell_type": "markdown",
      "metadata": {
        "id": "WSLAqkbMaRMw"
      },
      "source": [
        "## Thay đổi kích cỡ mảng\n"
      ]
    },
    {
      "cell_type": "code",
      "metadata": {
        "id": "qpnRkHF7WIcv",
        "outputId": "1253209a-1c1f-419c-ef86-cddc091ba6a3",
        "colab": {
          "base_uri": "https://localhost:8080/",
          "height": 72
        }
      },
      "source": [
        "a = np.array([[1,2,3],[4,5,6]])\n",
        "print(a)\n",
        "print('Ma tran da cho co',a.shape[0], 'dong', a.shape[1], 'cot')"
      ],
      "execution_count": null,
      "outputs": [
        {
          "output_type": "stream",
          "text": [
            "[[1 2 3]\n",
            " [4 5 6]]\n",
            "Ma tran da cho co 2 dong 3 cot\n"
          ],
          "name": "stdout"
        }
      ]
    },
    {
      "cell_type": "markdown",
      "metadata": {
        "id": "pJLLd8HrdDWR"
      },
      "source": [
        "Ta sẽ trải phẳng ma trận đã cho thành ma trận bằng lệnh `ravel()` như sau:"
      ]
    },
    {
      "cell_type": "code",
      "metadata": {
        "id": "BQ5NQhPgcZzE",
        "outputId": "970c6856-1b3a-42b5-add8-292324277eaf",
        "colab": {
          "base_uri": "https://localhost:8080/",
          "height": 35
        }
      },
      "source": [
        "a.ravel()"
      ],
      "execution_count": null,
      "outputs": [
        {
          "output_type": "execute_result",
          "data": {
            "text/plain": [
              "array([1, 2, 3, 4, 5, 6])"
            ]
          },
          "metadata": {
            "tags": []
          },
          "execution_count": 19
        }
      ]
    },
    {
      "cell_type": "markdown",
      "metadata": {
        "id": "vcST1Fg7eMFG"
      },
      "source": [
        "Hoặc ta có thể thay đổi sang dạng ma trận với số dòng, số cột khác bằng lệnh `reshape` như sau:"
      ]
    },
    {
      "cell_type": "code",
      "metadata": {
        "id": "kjwZGrDWd9V2",
        "outputId": "43b654c5-a2df-49be-dac9-5e8e42174f3b",
        "colab": {
          "base_uri": "https://localhost:8080/",
          "height": 72
        }
      },
      "source": [
        "a.reshape(3,2)"
      ],
      "execution_count": null,
      "outputs": [
        {
          "output_type": "execute_result",
          "data": {
            "text/plain": [
              "array([[1, 2],\n",
              "       [3, 4],\n",
              "       [5, 6]])"
            ]
          },
          "metadata": {
            "tags": []
          },
          "execution_count": 20
        }
      ]
    },
    {
      "cell_type": "markdown",
      "metadata": {
        "id": "N95RNk2EgNiN"
      },
      "source": [
        "Ngoài ra, ta có thể sử dụng lệnh `resize` như sau:"
      ]
    },
    {
      "cell_type": "code",
      "metadata": {
        "id": "HQ9FpgHLgZi3",
        "outputId": "44b9d859-e4ff-429b-8ff5-074d9093b60b",
        "colab": {
          "base_uri": "https://localhost:8080/",
          "height": 126
        }
      },
      "source": [
        "print('ma tran ban dau\\n', a)\n",
        "a.resize((2,3))\n",
        "print('ma tran sau khi bien doi\\n', a)\n"
      ],
      "execution_count": null,
      "outputs": [
        {
          "output_type": "stream",
          "text": [
            "ma tran ban dau\n",
            " [[1 2 3]\n",
            " [4 5 6]]\n",
            "ma tran sau khi bien doi\n",
            " [[1 2 3]\n",
            " [4 5 6]]\n"
          ],
          "name": "stdout"
        }
      ]
    },
    {
      "cell_type": "markdown",
      "metadata": {
        "id": "AReWX7P0ey2Q"
      },
      "source": [
        "Ta có thể sử dụng lệnh `a.T` để tạo ma trận chuyển vị của ma trận a như sau:\n"
      ]
    },
    {
      "cell_type": "code",
      "metadata": {
        "id": "I94TGiwpeY9O",
        "outputId": "56938843-1be7-4b20-d2e7-546fe9e1aec6",
        "colab": {
          "base_uri": "https://localhost:8080/",
          "height": 108
        }
      },
      "source": [
        "print(a)\n",
        "print(a.T)"
      ],
      "execution_count": null,
      "outputs": [
        {
          "output_type": "stream",
          "text": [
            "[[1 2 3]\n",
            " [4 5 6]]\n",
            "[[1 4]\n",
            " [2 5]\n",
            " [3 6]]\n"
          ],
          "name": "stdout"
        }
      ]
    },
    {
      "cell_type": "markdown",
      "metadata": {
        "id": "fnLEb6nuO25o"
      },
      "source": [
        "## Chỉ số trong numpy"
      ]
    },
    {
      "cell_type": "code",
      "metadata": {
        "id": "04F5r9mqe5rs",
        "outputId": "7b1dc2ac-a046-4ea6-9b98-b191cdb4974e",
        "colab": {
          "base_uri": "https://localhost:8080/",
          "height": 90
        }
      },
      "source": [
        "data = np.array([1, 2, 3])\n",
        "print(data[1])\n",
        "print(data[0:2])\n",
        "print(data[1:])\n",
        "print(data[-2:])"
      ],
      "execution_count": null,
      "outputs": [
        {
          "output_type": "stream",
          "text": [
            "2\n",
            "[1 2]\n",
            "[2 3]\n",
            "[2 3]\n"
          ],
          "name": "stdout"
        }
      ]
    },
    {
      "cell_type": "markdown",
      "metadata": {
        "id": "-dkdOG9XP8Rj"
      },
      "source": [
        "Ta có thể minh hoạ các lệnh trên như hình dưới đây.\n",
        "\n",
        "![11.png](https://2.pik.vn/20209565fee9-392d-4952-b12f-a721ff7e962d.png)\n",
        "\n"
      ]
    },
    {
      "cell_type": "markdown",
      "metadata": {
        "id": "ne56zlgxQj02"
      },
      "source": [
        "Ngoài ra, ta có thể lọc các phần tử thoả mãn một yêu cầu nào đó. Cụ thể như sau:"
      ]
    },
    {
      "cell_type": "code",
      "metadata": {
        "id": "-PpqznFmPGgT",
        "outputId": "5faea2ed-1c6d-4796-cf78-5dfb2b2f45e0",
        "colab": {
          "base_uri": "https://localhost:8080/",
          "height": 35
        }
      },
      "source": [
        "a = np.array([[1 , 2, 3, 4], [5, 6, 7, 8], [9, 10, 11, 12]])\n",
        "print(a[a < 5])"
      ],
      "execution_count": null,
      "outputs": [
        {
          "output_type": "stream",
          "text": [
            "[1 2 3 4]\n"
          ],
          "name": "stdout"
        }
      ]
    },
    {
      "cell_type": "code",
      "metadata": {
        "id": "FsG6HE_4RCIS",
        "outputId": "ce9eadac-3379-49fb-f518-cedb909c2b16",
        "colab": {
          "base_uri": "https://localhost:8080/",
          "height": 35
        }
      },
      "source": [
        "five_up = (a >= 5)\n",
        "print(a[five_up])"
      ],
      "execution_count": null,
      "outputs": [
        {
          "output_type": "stream",
          "text": [
            "[ 5  6  7  8  9 10 11 12]\n"
          ],
          "name": "stdout"
        }
      ]
    },
    {
      "cell_type": "code",
      "metadata": {
        "id": "z6KAzktwRIXl",
        "outputId": "6ac55d6b-6d62-4e6b-83c1-f6a3b028e6e7",
        "colab": {
          "base_uri": "https://localhost:8080/",
          "height": 35
        }
      },
      "source": [
        "divisible_by_2 = a[a%2==0]\n",
        "print(divisible_by_2)"
      ],
      "execution_count": null,
      "outputs": [
        {
          "output_type": "stream",
          "text": [
            "[ 2  4  6  8 10 12]\n"
          ],
          "name": "stdout"
        }
      ]
    },
    {
      "cell_type": "code",
      "metadata": {
        "id": "Ahj27UIlRMui",
        "outputId": "d2fb6901-dacd-46c0-9a6a-06422bbe89fa",
        "colab": {
          "base_uri": "https://localhost:8080/",
          "height": 35
        }
      },
      "source": [
        "c = a[(a > 2) & (a < 11)]\n",
        "print(c)"
      ],
      "execution_count": null,
      "outputs": [
        {
          "output_type": "stream",
          "text": [
            "[ 3  4  5  6  7  8  9 10]\n"
          ],
          "name": "stdout"
        }
      ]
    },
    {
      "cell_type": "code",
      "metadata": {
        "id": "rLU1yAR5RVQf",
        "outputId": "9b3dba88-8f38-41fc-87fe-32b2f4b78f6b",
        "colab": {
          "base_uri": "https://localhost:8080/",
          "height": 72
        }
      },
      "source": [
        "five_up = (a > 5) | (a == 5)\n",
        "print(five_up)"
      ],
      "execution_count": null,
      "outputs": [
        {
          "output_type": "stream",
          "text": [
            "[[False False False False]\n",
            " [ True  True  True  True]\n",
            " [ True  True  True  True]]\n"
          ],
          "name": "stdout"
        }
      ]
    },
    {
      "cell_type": "markdown",
      "metadata": {
        "id": "HPAaaEpeSJh8"
      },
      "source": [
        "## Ma trận trong numpy\n",
        "Trong numpy, ta cũng làm việc với ma trận y như một vector nhiều chiều. Cụ thể như sau:\n"
      ]
    },
    {
      "cell_type": "code",
      "metadata": {
        "id": "Zewa6X_SRj4B"
      },
      "source": [
        "# Tao ma tran\n",
        "data = np.array([[1, 2], [3, 4]])"
      ],
      "execution_count": null,
      "outputs": []
    },
    {
      "cell_type": "markdown",
      "metadata": {
        "id": "5Eju5QsASypx"
      },
      "source": [
        "![11.png](https://2.pik.vn/202035becd37-33e6-41ce-a8ac-e9a3e065ef0b.png)"
      ]
    },
    {
      "cell_type": "code",
      "metadata": {
        "id": "GrZM4nkySvPy",
        "outputId": "2a06333a-ba14-4c70-b9c7-bcc19df21062",
        "colab": {
          "base_uri": "https://localhost:8080/",
          "height": 91
        }
      },
      "source": [
        "data = np.array([[1, 2], [3, 4], [5, 6]])\n",
        "print(data[0, 1])\n",
        "print(data[1:3])\n",
        "print(data[0:2, 0])"
      ],
      "execution_count": null,
      "outputs": [
        {
          "output_type": "stream",
          "text": [
            "2\n",
            "[[3 4]\n",
            " [5 6]]\n",
            "[1 3]\n"
          ],
          "name": "stdout"
        }
      ]
    },
    {
      "cell_type": "markdown",
      "metadata": {
        "id": "Wr4M6XlDTb4L"
      },
      "source": [
        "![222.png](https://2.pik.vn/202043855f10-dfb9-491c-8623-f108daf168ff.png)"
      ]
    },
    {
      "cell_type": "code",
      "metadata": {
        "id": "iJqhRF9bTgAR",
        "outputId": "b93cfde3-9894-4e9a-e544-277a9e5aa7c5",
        "colab": {
          "base_uri": "https://localhost:8080/",
          "height": 72
        }
      },
      "source": [
        "print(data.max())\n",
        "print(data.min())\n",
        "print(data.sum())"
      ],
      "execution_count": null,
      "outputs": [
        {
          "output_type": "stream",
          "text": [
            "6\n",
            "1\n",
            "21\n"
          ],
          "name": "stdout"
        }
      ]
    },
    {
      "cell_type": "markdown",
      "metadata": {
        "id": "RfLnVZXpTyK2"
      },
      "source": [
        "![222.png](https://2.pik.vn/202018a3cc82-5a62-48bf-af66-f9b3597ad788.png)"
      ]
    },
    {
      "cell_type": "code",
      "metadata": {
        "id": "aT1FBv4GToaz",
        "outputId": "d9f460dd-8bb7-44c9-b42e-0db2e37fd2ea",
        "colab": {
          "base_uri": "https://localhost:8080/",
          "height": 36
        }
      },
      "source": [
        "data.max(axis=0)"
      ],
      "execution_count": null,
      "outputs": [
        {
          "output_type": "execute_result",
          "data": {
            "text/plain": [
              "array([5, 6])"
            ]
          },
          "metadata": {
            "tags": []
          },
          "execution_count": 5
        }
      ]
    },
    {
      "cell_type": "code",
      "metadata": {
        "id": "AtHbH159CkTf",
        "outputId": "e740b087-a879-4366-c8d6-2360cdfbde5b",
        "colab": {
          "base_uri": "https://localhost:8080/",
          "height": 36
        }
      },
      "source": [
        "data.max(axis=1)"
      ],
      "execution_count": null,
      "outputs": [
        {
          "output_type": "execute_result",
          "data": {
            "text/plain": [
              "array([2, 4, 6])"
            ]
          },
          "metadata": {
            "tags": []
          },
          "execution_count": 6
        }
      ]
    },
    {
      "cell_type": "markdown",
      "metadata": {
        "id": "sMWG8FzMCmkq"
      },
      "source": [
        "![333.png](https://2.pik.vn/20201b3d773c-dc66-411c-88be-193ad70beb36.png)\n"
      ]
    },
    {
      "cell_type": "code",
      "metadata": {
        "id": "P44noftGC6ll",
        "outputId": "e40ad667-7bc1-4f5f-ffed-934f085fd7d2",
        "colab": {
          "base_uri": "https://localhost:8080/",
          "height": 54
        }
      },
      "source": [
        "data = np.array([[1, 2], [3, 4]])\n",
        "ones = np.array([[1, 1], [1, 1]])\n",
        "data + ones"
      ],
      "execution_count": null,
      "outputs": [
        {
          "output_type": "execute_result",
          "data": {
            "text/plain": [
              "array([[2, 3],\n",
              "       [4, 5]])"
            ]
          },
          "metadata": {
            "tags": []
          },
          "execution_count": 7
        }
      ]
    },
    {
      "cell_type": "markdown",
      "metadata": {
        "id": "QxLmKcmwDQ02"
      },
      "source": [
        "![333.png](https://2.pik.vn/2020cdeeccea-65bb-4e47-a65d-209c84328b3a.png)"
      ]
    },
    {
      "cell_type": "code",
      "metadata": {
        "id": "MpwKC75CDjeC",
        "outputId": "ce6b27c0-db4d-4432-8804-53a37be55a92",
        "colab": {
          "base_uri": "https://localhost:8080/",
          "height": 73
        }
      },
      "source": [
        "data = np.array([[1, 2], [3, 4], [5, 6]])\n",
        "ones_row = np.array([[1, 1]])\n",
        "data + ones_row"
      ],
      "execution_count": null,
      "outputs": [
        {
          "output_type": "execute_result",
          "data": {
            "text/plain": [
              "array([[2, 3],\n",
              "       [4, 5],\n",
              "       [6, 7]])"
            ]
          },
          "metadata": {
            "tags": []
          },
          "execution_count": 8
        }
      ]
    },
    {
      "cell_type": "markdown",
      "metadata": {
        "id": "4HVw9CQoEHZF"
      },
      "source": [
        "![333.png](https://2.pik.vn/20204f55a0c7-b867-41cf-a92d-232622be3f35.png)"
      ]
    },
    {
      "cell_type": "markdown",
      "metadata": {
        "id": "y_ChiB_HHM6t"
      },
      "source": [
        "# Các thao tác với DataFrame\n",
        "\n"
      ]
    },
    {
      "cell_type": "markdown",
      "metadata": {
        "id": "tuT85BYjHR_Z"
      },
      "source": [
        "## Sắp xếp \n",
        "Trong pandas, ta có thể sắp xếp dataFrame bằng lệnh `df.sort_values`, cụ thể như sau:"
      ]
    },
    {
      "cell_type": "code",
      "metadata": {
        "id": "9ibN_1M8EH2X",
        "outputId": "64f53a78-cbd0-4ac4-fa41-4cea64981659",
        "colab": {
          "base_uri": "https://localhost:8080/",
          "height": 110
        }
      },
      "source": [
        "# Tao dataFrame\n",
        "import pandas as pd\n",
        " \n",
        "cars = {'Brand': ['Honda Civic','Toyota Corolla','Ford Focus','Audi A4'],\n",
        "        'Price': [22000,25000,27000,35000],\n",
        "        'Year': [2015,2013,2018,2018]\n",
        "        }\n",
        " \n",
        "df = pd.DataFrame(cars, columns= ['Brand', 'Price','Year'])\n",
        "\n",
        "print (df)"
      ],
      "execution_count": null,
      "outputs": [
        {
          "output_type": "stream",
          "text": [
            "            Brand  Price  Year\n",
            "0     Honda Civic  22000  2015\n",
            "1  Toyota Corolla  25000  2013\n",
            "2      Ford Focus  27000  2018\n",
            "3         Audi A4  35000  2018\n"
          ],
          "name": "stdout"
        }
      ]
    },
    {
      "cell_type": "code",
      "metadata": {
        "id": "r8ft0oT-JDMw",
        "outputId": "e296f337-b742-4675-c555-ac35510da25a",
        "colab": {
          "base_uri": "https://localhost:8080/",
          "height": 110
        }
      },
      "source": [
        "#Sap xep tang dan theo Brand\n",
        "df.sort_values(by=['Brand'], inplace=True)\n",
        "print(df)"
      ],
      "execution_count": null,
      "outputs": [
        {
          "output_type": "stream",
          "text": [
            "            Brand  Price  Year\n",
            "3         Audi A4  35000  2018\n",
            "2      Ford Focus  27000  2018\n",
            "0     Honda Civic  22000  2015\n",
            "1  Toyota Corolla  25000  2013\n"
          ],
          "name": "stdout"
        }
      ]
    },
    {
      "cell_type": "code",
      "metadata": {
        "id": "kEr3lN5mJD4A",
        "outputId": "0c6b9980-8db4-4e05-9a8f-6488da607036",
        "colab": {
          "base_uri": "https://localhost:8080/",
          "height": 110
        }
      },
      "source": [
        "#Sap xep giam dan theo brand\n",
        "df.sort_values(by=['Brand'], inplace=True, ascending=False)\n",
        "print(df)"
      ],
      "execution_count": null,
      "outputs": [
        {
          "output_type": "stream",
          "text": [
            "            Brand  Price  Year\n",
            "1  Toyota Corolla  25000  2013\n",
            "0     Honda Civic  22000  2015\n",
            "2      Ford Focus  27000  2018\n",
            "3         Audi A4  35000  2018\n"
          ],
          "name": "stdout"
        }
      ]
    },
    {
      "cell_type": "code",
      "metadata": {
        "id": "SjgRx5OwJoVe",
        "outputId": "5ccd20e9-5c8d-49cd-e154-534c624e8f83",
        "colab": {
          "base_uri": "https://localhost:8080/",
          "height": 110
        }
      },
      "source": [
        "#Sap xep theo nhieu bien\n",
        "df.sort_values(by=['Year','Price'], inplace=True)\n",
        "print(df)"
      ],
      "execution_count": null,
      "outputs": [
        {
          "output_type": "stream",
          "text": [
            "            Brand  Price  Year\n",
            "1  Toyota Corolla  25000  2013\n",
            "0     Honda Civic  22000  2015\n",
            "2      Ford Focus  27000  2018\n",
            "3         Audi A4  35000  2018\n"
          ],
          "name": "stdout"
        }
      ]
    },
    {
      "cell_type": "markdown",
      "metadata": {
        "id": "VbA-ZHRwLA08"
      },
      "source": [
        "## Mean\n",
        "Ta có thể sử dụng lệnh `mean()` để tính giá trị mean của một dataFrame, cụ thể như sau:"
      ]
    },
    {
      "cell_type": "code",
      "metadata": {
        "id": "dgqf-GyGJ9nY",
        "outputId": "e46b1ee3-46cb-4d94-d647-aeb782978060",
        "colab": {
          "base_uri": "https://localhost:8080/",
          "height": 73
        }
      },
      "source": [
        "print(df.mean())"
      ],
      "execution_count": null,
      "outputs": [
        {
          "output_type": "stream",
          "text": [
            "Price    27250.0\n",
            "Year      2016.0\n",
            "dtype: float64\n"
          ],
          "name": "stdout"
        }
      ]
    },
    {
      "cell_type": "markdown",
      "metadata": {
        "id": "u52_TNBJLgVc"
      },
      "source": [
        "## Độ lệch chuẩn\n",
        "Để tính độ lệch chuẩn của một dataFrame, ta sử dụng lệnh `std()`, cụ thể như sau:"
      ]
    },
    {
      "cell_type": "code",
      "metadata": {
        "id": "pNgvbKE9LVG-",
        "outputId": "ce1afb12-2384-4e00-afb8-39561d455a24",
        "colab": {
          "base_uri": "https://localhost:8080/",
          "height": 174
        }
      },
      "source": [
        "print(df.std())"
      ],
      "execution_count": null,
      "outputs": [
        {
          "output_type": "error",
          "ename": "NameError",
          "evalue": "ignored",
          "traceback": [
            "\u001b[0;31m---------------------------------------------------------------------------\u001b[0m",
            "\u001b[0;31mNameError\u001b[0m                                 Traceback (most recent call last)",
            "\u001b[0;32m<ipython-input-1-c12939f2b3b0>\u001b[0m in \u001b[0;36m<module>\u001b[0;34m()\u001b[0m\n\u001b[0;32m----> 1\u001b[0;31m \u001b[0mprint\u001b[0m\u001b[0;34m(\u001b[0m\u001b[0mdf\u001b[0m\u001b[0;34m.\u001b[0m\u001b[0mstd\u001b[0m\u001b[0;34m(\u001b[0m\u001b[0;34m)\u001b[0m\u001b[0;34m)\u001b[0m\u001b[0;34m\u001b[0m\u001b[0;34m\u001b[0m\u001b[0m\n\u001b[0m",
            "\u001b[0;31mNameError\u001b[0m: name 'df' is not defined"
          ]
        }
      ]
    },
    {
      "cell_type": "markdown",
      "metadata": {
        "id": "MKEtp9OYNAXt"
      },
      "source": [
        "## Min max trong dataFrame\n"
      ]
    },
    {
      "cell_type": "code",
      "metadata": {
        "id": "aG0yk_AdMxUy",
        "outputId": "31d8f1ad-c05d-4733-d818-1fb27bd5f57d",
        "colab": {
          "base_uri": "https://localhost:8080/",
          "height": 91
        }
      },
      "source": [
        "print(df.min())"
      ],
      "execution_count": null,
      "outputs": [
        {
          "output_type": "stream",
          "text": [
            "Brand    Audi A4\n",
            "Price      22000\n",
            "Year        2013\n",
            "dtype: object\n"
          ],
          "name": "stdout"
        }
      ]
    },
    {
      "cell_type": "code",
      "metadata": {
        "id": "z-TOUw7DNedW",
        "outputId": "8f7a859f-891f-429f-9c7f-80508357d29e",
        "colab": {
          "base_uri": "https://localhost:8080/",
          "height": 91
        }
      },
      "source": [
        "print(df.max())"
      ],
      "execution_count": null,
      "outputs": [
        {
          "output_type": "stream",
          "text": [
            "Brand    Toyota Corolla\n",
            "Price             35000\n",
            "Year               2018\n",
            "dtype: object\n"
          ],
          "name": "stdout"
        }
      ]
    },
    {
      "cell_type": "markdown",
      "metadata": {
        "id": "5r2yB7oBNw2g"
      },
      "source": [
        "## Median trong dataFrame"
      ]
    },
    {
      "cell_type": "code",
      "metadata": {
        "id": "f9wPPO1PNhkS",
        "outputId": "4b4a4c84-f810-4bd0-9e9f-5060474fca91",
        "colab": {
          "base_uri": "https://localhost:8080/",
          "height": 73
        }
      },
      "source": [
        "print(df.median())"
      ],
      "execution_count": null,
      "outputs": [
        {
          "output_type": "stream",
          "text": [
            "Price    26000.0\n",
            "Year      2016.5\n",
            "dtype: float64\n"
          ],
          "name": "stdout"
        }
      ]
    },
    {
      "cell_type": "markdown",
      "metadata": {
        "id": "Mwe9MoWEOYnC"
      },
      "source": [
        "## Correlation trong dataFrame"
      ]
    },
    {
      "cell_type": "code",
      "metadata": {
        "id": "8JAgm3V_N6Ju",
        "outputId": "6c572421-3f30-4bcc-baf9-cb1b962422ee",
        "colab": {
          "base_uri": "https://localhost:8080/",
          "height": 73
        }
      },
      "source": [
        "print(df.corr())"
      ],
      "execution_count": null,
      "outputs": [
        {
          "output_type": "stream",
          "text": [
            "          Price      Year\n",
            "Price  1.000000  0.660801\n",
            "Year   0.660801  1.000000\n"
          ],
          "name": "stdout"
        }
      ]
    },
    {
      "cell_type": "markdown",
      "metadata": {
        "id": "DUWU347zcKKu"
      },
      "source": [
        "#Function trong Python\n",
        "Trong Python, ta sử dụng `def` để định nghĩa một `function`. Để gọi hàm, ta chỉ việc gọi tên hàm. Cụ thể như sau:"
      ]
    },
    {
      "cell_type": "code",
      "metadata": {
        "id": "rxVaTD3Pc13h",
        "outputId": "1db86c3a-cefc-4c7c-e027-66cad083e589",
        "colab": {
          "base_uri": "https://localhost:8080/",
          "height": 36
        }
      },
      "source": [
        "def my_function():\n",
        "  print(\"Hello from a function\")\n",
        "\n",
        "my_function()"
      ],
      "execution_count": 2,
      "outputs": [
        {
          "output_type": "stream",
          "text": [
            "Hello from a function\n"
          ],
          "name": "stdout"
        }
      ]
    },
    {
      "cell_type": "markdown",
      "metadata": {
        "id": "AqcnCGeHgtFV"
      },
      "source": [
        "## Tham số trong function\n",
        "Ta có thể truyền một hoặc nhiều tham số vào trong `function` thông qua dấu ngoặc đơn. Cụ thể, cú pháp là:\n",
        "\n",
        "\n",
        "```\n",
        "def ten_ham(tham_so):\n",
        "  Cau_lenh_trong_ham\n",
        "```\n",
        "Ta có thể xem xét ví dụ dưới đây:\n"
      ]
    },
    {
      "cell_type": "code",
      "metadata": {
        "id": "PTN8wgqohupY",
        "outputId": "f7ccb654-727f-4e8a-ff44-0a69c1988a0d",
        "colab": {
          "base_uri": "https://localhost:8080/",
          "height": 73
        }
      },
      "source": [
        "def my_function(fname):\n",
        "  print(fname + \"An\")\n",
        "\n",
        "my_function(\"Tran \")\n",
        "my_function(\"Nguyen \")\n",
        "my_function(\"Le \") "
      ],
      "execution_count": 4,
      "outputs": [
        {
          "output_type": "stream",
          "text": [
            "Tran An\n",
            "Nguyen An\n",
            "Le An\n"
          ],
          "name": "stdout"
        }
      ]
    },
    {
      "cell_type": "markdown",
      "metadata": {
        "id": "dXlDcKIGjsXk"
      },
      "source": [
        "Hoặc function tính tổng của 2 số cho trước như sau:\n"
      ]
    },
    {
      "cell_type": "code",
      "metadata": {
        "id": "RcnAVqv8jyat",
        "outputId": "a33e5c68-b2e8-4e88-be3a-981894de1680",
        "colab": {
          "base_uri": "https://localhost:8080/",
          "height": 36
        }
      },
      "source": [
        "def tong(a, b):\n",
        "  print(\"Tong cua 2 so da cho la: \",a+b)\n",
        "\n",
        "tong(2, 3)"
      ],
      "execution_count": 6,
      "outputs": [
        {
          "output_type": "stream",
          "text": [
            "Tong cua 2 so da cho la:  5\n"
          ],
          "name": "stdout"
        }
      ]
    },
    {
      "cell_type": "markdown",
      "metadata": {
        "id": "_3ogT_qen5YY"
      },
      "source": [
        "##Tham số bất kỳ\n",
        "Trong trường hợp ta không biết chính xác số lượng tham số truyền vào (chẳng hạn, tính tổng các phần tử của một vector) ta có thể sử dụng dấu `*` trước tham số chưa xác định số phần tử.\n",
        "\n",
        "Ta xem xét ví dụ dưới đây:"
      ]
    },
    {
      "cell_type": "code",
      "metadata": {
        "id": "_QK69th8pASA",
        "outputId": "75a9698c-594d-4e28-d977-b6680e1e992d",
        "colab": {
          "base_uri": "https://localhost:8080/",
          "height": 36
        }
      },
      "source": [
        "def my_function(*kids):\n",
        "  print(\"The youngest child is \" + kids[2])\n",
        "\n",
        "my_function(\"Emil\", \"Tobias\", \"Linus\") \n",
        "\n"
      ],
      "execution_count": 8,
      "outputs": [
        {
          "output_type": "stream",
          "text": [
            "The youngest child is Linus\n"
          ],
          "name": "stdout"
        }
      ]
    },
    {
      "cell_type": "markdown",
      "metadata": {
        "id": "2RPn0UtztRJ8"
      },
      "source": [
        "Ngoài ra, ta có thể gán trực tiếp giá trị vào tham số trong trường hợp số tham số chưa biết bằng dấu `**` như sau:"
      ]
    },
    {
      "cell_type": "code",
      "metadata": {
        "id": "WZw0avNCyhgh",
        "outputId": "9f724e3d-45d9-4f6c-ca02-2a8c4ebc1cff",
        "colab": {
          "base_uri": "https://localhost:8080/",
          "height": 36
        }
      },
      "source": [
        "def my_function(**kid):\n",
        "  print(\"His last name is \" + kid[\"lname\"])\n",
        "\n",
        "my_function(fname = \"Tobias\", lname = \"Refsnes\") "
      ],
      "execution_count": 9,
      "outputs": [
        {
          "output_type": "stream",
          "text": [
            "His last name is Refsnes\n"
          ],
          "name": "stdout"
        }
      ]
    },
    {
      "cell_type": "markdown",
      "metadata": {
        "id": "iW2u_udGy10L"
      },
      "source": [
        "## Tham số mặc định\n",
        "Ta có thể truyền các giá trị mặc định cho tham số trong trường hợp không nhận được giá trị cụ thể. Chẳng hạn, xét ví dụ dưới đây:"
      ]
    },
    {
      "cell_type": "code",
      "metadata": {
        "id": "oX3HPURp0Aui",
        "outputId": "f3a1f141-f995-4a8d-8cf2-8dacc59fa1d7",
        "colab": {
          "base_uri": "https://localhost:8080/",
          "height": 73
        }
      },
      "source": [
        "def my_function(country = \"Sai Gon\"):\n",
        "  print(\"I am from \" + country)\n",
        "\n",
        "my_function(\"Ha Noi\")\n",
        "my_function()\n",
        "my_function(\"Da Nang\") "
      ],
      "execution_count": 10,
      "outputs": [
        {
          "output_type": "stream",
          "text": [
            "I am from Ha Noi\n",
            "I am from Sai Gon\n",
            "I am from Da Nang\n"
          ],
          "name": "stdout"
        }
      ]
    },
    {
      "cell_type": "markdown",
      "metadata": {
        "id": "8X_Essc71dx3"
      },
      "source": [
        "## Kiểu dữ liệu của tham số\n",
        "Trong Python, ta có thể truyền vào tham số với bất kỳ kiểu dữ liệu nào. Chẳng hạn, ta có thể truyền vào một list như sau:"
      ]
    },
    {
      "cell_type": "code",
      "metadata": {
        "id": "pOqW0A6Q28ID",
        "outputId": "6d540171-48aa-4f84-d69f-96f9002e3723",
        "colab": {
          "base_uri": "https://localhost:8080/",
          "height": 73
        }
      },
      "source": [
        "def my_function(food):\n",
        "  for x in food:\n",
        "    print(x)\n",
        "\n",
        "fruits = [\"apple\", \"banana\", \"cherry\"]\n",
        "\n",
        "my_function(fruits)"
      ],
      "execution_count": 11,
      "outputs": [
        {
          "output_type": "stream",
          "text": [
            "apple\n",
            "banana\n",
            "cherry\n"
          ],
          "name": "stdout"
        }
      ]
    },
    {
      "cell_type": "markdown",
      "metadata": {
        "id": "jE5WxSeV6XXK"
      },
      "source": [
        "## Lệnh return \n",
        "Trong Python, ta sử dụng lệnh `return` để hàm trả về một giá trị cụ thể. Chẳng hạn, xét function dưới đây:"
      ]
    },
    {
      "cell_type": "code",
      "metadata": {
        "id": "vbGwC9eF6oNE",
        "outputId": "f7f2b032-99f9-4923-d707-cf042371a2a4",
        "colab": {
          "base_uri": "https://localhost:8080/",
          "height": 73
        }
      },
      "source": [
        "def my_function(x):\n",
        "  return 5 * x\n",
        "\n",
        "print(my_function(3))\n",
        "print(my_function(5))\n",
        "print(my_function(9)) "
      ],
      "execution_count": 12,
      "outputs": [
        {
          "output_type": "stream",
          "text": [
            "15\n",
            "25\n",
            "45\n"
          ],
          "name": "stdout"
        }
      ]
    },
    {
      "cell_type": "markdown",
      "metadata": {
        "id": "Uc4hyxij7XLr"
      },
      "source": [
        "## Lệnh `pass`\n",
        "Mặc định, trong Python function không được để trống. Tuy nhiên, vì nhiều lý do, ta có thể sử dụng lệnh `pass` trong function để lách luật. Cụ thể như sau:"
      ]
    },
    {
      "cell_type": "code",
      "metadata": {
        "id": "cs1RUhhR7nLs"
      },
      "source": [
        "def myfunction():\n",
        "  pass"
      ],
      "execution_count": 13,
      "outputs": []
    },
    {
      "cell_type": "markdown",
      "metadata": {
        "id": "NIn0kl7Y7q_p"
      },
      "source": [
        "## Lambda function\n",
        "\n",
        "Lambda function là một hàm ẩn danh có dạng rút gọn với cú pháp như sau:\n",
        "\n",
        "\n",
        "```\n",
        "lambda tham_so : cau_lenh\n",
        "```\n",
        "Cụ thể, ta xét ví dụ sau:\n",
        "\n",
        "\n",
        "\n"
      ]
    },
    {
      "cell_type": "code",
      "metadata": {
        "id": "VoOm6GJ99DSP",
        "outputId": "01446e99-9bb6-47fd-f48a-a68dfe9152ce",
        "colab": {
          "base_uri": "https://localhost:8080/",
          "height": 36
        }
      },
      "source": [
        "x = lambda a : a + 10\n",
        "\n",
        "print(x(5)) "
      ],
      "execution_count": 14,
      "outputs": [
        {
          "output_type": "stream",
          "text": [
            "15\n"
          ],
          "name": "stdout"
        }
      ]
    },
    {
      "cell_type": "code",
      "metadata": {
        "id": "qJrtyvDt9KBK",
        "outputId": "f934ae1c-861c-418e-ddad-af8cd2ca18d0",
        "colab": {
          "base_uri": "https://localhost:8080/",
          "height": 36
        }
      },
      "source": [
        "x = lambda a, b : a * b\n",
        "\n",
        "print(x(5, 6)) "
      ],
      "execution_count": 15,
      "outputs": [
        {
          "output_type": "stream",
          "text": [
            "30\n"
          ],
          "name": "stdout"
        }
      ]
    },
    {
      "cell_type": "markdown",
      "metadata": {
        "id": "56NVgypjOnyd"
      },
      "source": [
        "#Bài tập\n",
        "\n",
        "1. Nhập vào một vector, xuất ra tất cả các phần tử chẵn của vector đó.\n",
        "\n",
        "2. Nhập vào một vector, thay thế các phần tử chẵn bằng giá trị -1\n",
        "\n",
        "3. Nhập vào một vector có $2n$ phần tử, $\\ n \\in \\mathbb{N}^*$ . Chuyển vector trên thành ma trận có 2 cột.\n",
        "\n",
        "4. Nhập vào 2 vector, xuất ra các phần tử chung của 2 vector đó.\n",
        "\n",
        "5. Nhập vào 2 ma trận $A, B$. Xuất ra các ma trận $A+B, AB, A-B, A/B$.\n",
        "\n",
        "6. Nhập vào bộ dữ liệu Iris, tính "
      ]
    },
    {
      "cell_type": "code",
      "metadata": {
        "id": "tcGMli9gOhgH"
      },
      "source": [
        ""
      ],
      "execution_count": null,
      "outputs": []
    }
  ]
}