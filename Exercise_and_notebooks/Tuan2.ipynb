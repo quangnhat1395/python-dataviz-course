{
  "nbformat": 4,
  "nbformat_minor": 0,
  "metadata": {
    "kernelspec": {
      "display_name": "Python 3",
      "language": "python",
      "name": "python3"
    },
    "language_info": {
      "codemirror_mode": {
        "name": "ipython",
        "version": 3
      },
      "file_extension": ".py",
      "mimetype": "text/x-python",
      "name": "python",
      "nbconvert_exporter": "python",
      "pygments_lexer": "ipython3",
      "version": "3.7.3"
    },
    "colab": {
      "name": "Tuan2.ipynb",
      "provenance": [],
      "toc_visible": true,
      "include_colab_link": true
    }
  },
  "cells": [
    {
      "cell_type": "markdown",
      "metadata": {
        "id": "view-in-github",
        "colab_type": "text"
      },
      "source": [
        "<a href=\"https://colab.research.google.com/github/quangnhat1395/python-dataviz-course/blob/master/Tuan2.ipynb\" target=\"_parent\"><img src=\"https://colab.research.google.com/assets/colab-badge.svg\" alt=\"Open In Colab\"/></a>"
      ]
    },
    {
      "cell_type": "markdown",
      "metadata": {
        "id": "7ePPxXg4g7LM",
        "colab_type": "text"
      },
      "source": [
        "Trong Python, để xây dựng thuật toán, người ta thường sử dụng các cấu trúc điều hướng như `if - elif - if`, hoặc các cấu trúc lặp như `for`, `while`. Trong bài này, ta sẽ tìm hiểu những cấu trúc đó."
      ]
    },
    {
      "cell_type": "markdown",
      "metadata": {
        "id": "NudDZjdSg04p",
        "colab_type": "text"
      },
      "source": [
        "# Câu lệnh `if - elif - else`\n",
        "\n",
        "Câu lệnh <code>if</code> trong Python cho phép ta yêu cầu máy tính thực hiện một số câu lệnh dựa trên một tập kết quả cho trước.\n",
        "\n",
        "Đầu tiên, hãy thử xem xét cấu trúc <code>if</code> dưới đây:\n",
        "\n",
        "    if Dieu_kien_1:\n",
        "        Cau_lenh_1\n",
        "    elif Dieu_kien_2:\n",
        "        Cau_lenh_2\n",
        "    else: \n",
        "        Cau_lenh_3\n",
        "\n",
        "Ở đây, ta thấy, nếu `Dieu_kien_1` được thoả, máy tính sẽ tiến hành chạy `Cau_lenh_1`, còn nếu nó thoả `Dieu_kien_2`, khi đó, `Cau_lenh_2` sẽ được thực hiện. Trong trường hợp cả 2 điều kiện ở trên đều không thoả, máy tính sẽ thực hiện `Cau_lenh_3`.\n",
        "\n",
        "Ta hãy thử xem xét ví dụ dưới đây:"
      ]
    },
    {
      "cell_type": "markdown",
      "metadata": {
        "id": "V7InZl2-g04s",
        "colab_type": "text"
      },
      "source": [
        "## Ví dụ 1\n",
        "\n",
        "Ta cần in ra dòng chữ \"x co gia tri la 1\", nếu x = 1.\n",
        "\n",
        "**Lưu ý**: Trong Python, điều kiện x = 1 trong câu lệnh được biểu diễn bằng hai dấu \"=\". Nếu chỉ ghi \"x = 1\", thì đây là phép gán 1 cho x."
      ]
    },
    {
      "cell_type": "code",
      "metadata": {
        "id": "yRhWaNXeg04u",
        "colab_type": "code",
        "colab": {
          "base_uri": "https://localhost:8080/",
          "height": 35
        },
        "outputId": "c9127e18-3682-4d82-dbab-02bf40d4fe84"
      },
      "source": [
        "x = 1\n",
        "if x==1:\n",
        "    print('x co gia tri la 1')"
      ],
      "execution_count": 2,
      "outputs": [
        {
          "output_type": "stream",
          "text": [
            "x co gia tri la 1\n"
          ],
          "name": "stdout"
        }
      ]
    },
    {
      "cell_type": "markdown",
      "metadata": {
        "id": "V45qlxOvg044",
        "colab_type": "text"
      },
      "source": [
        "Ta thử xét thêm trường hợp $x\\neq 1$, in ra dòng chữ \"x khac 1\" như dưới đây:"
      ]
    },
    {
      "cell_type": "code",
      "metadata": {
        "id": "rA2z2ZDmg046",
        "colab_type": "code",
        "colab": {
          "base_uri": "https://localhost:8080/",
          "height": 35
        },
        "outputId": "4b84b941-804b-42ee-c15f-d0e802ea1fd0"
      },
      "source": [
        "x = 2\n",
        "\n",
        "if x == 1:\n",
        "    print('x co gia tri la 1')\n",
        "else:\n",
        "    print('x khac 1')"
      ],
      "execution_count": 4,
      "outputs": [
        {
          "output_type": "stream",
          "text": [
            "x khac 1\n"
          ],
          "name": "stdout"
        }
      ]
    },
    {
      "cell_type": "markdown",
      "metadata": {
        "id": "-steDqejg05A",
        "colab_type": "text"
      },
      "source": [
        "## Lệnh `elif` trong Python\n",
        "\n",
        "Trong trường hợp có nhiều hơn 2 điều kiện của biến, chúng ta sử dụng lệnh `elif` để thêm các điều kiện giữa `if` và `else`. Điều này giúp ta dễ quản lý các đoạn code của mình hơn. Chẳng hạn, ta xét ví dụ dưới đây:"
      ]
    },
    {
      "cell_type": "markdown",
      "metadata": {
        "id": "brZUId41l8Ob",
        "colab_type": "text"
      },
      "source": [
        "## Ví dụ 2\n",
        "\n",
        "Nhập vào 2 giá trị $x$ và $y$. Nếu $x = y$, trả về kết quả \"x bang y\", nếu $x>y$, trả về kết quả \"x lon hon y\", còn lại, trả về kết quả \"x nho hon y\".\n",
        "\n",
        "Ở ví dụ này, nếu không sử dụng lệnh `elif`, ta phải tiến hành gộp 2 lần `if - else` như sau:"
      ]
    },
    {
      "cell_type": "code",
      "metadata": {
        "id": "hvKKOEPBg05C",
        "colab_type": "code",
        "colab": {
          "base_uri": "https://localhost:8080/",
          "height": 35
        },
        "outputId": "9edcdbda-067d-4f9a-9380-d3cb898e6f74"
      },
      "source": [
        "x = 5\n",
        "y = 4\n",
        "if x == y:\n",
        "  print(\"x bang y\")\n",
        "else:\n",
        "  if x > y:\n",
        "    print(\"x lon hon y\")\n",
        "  else:\n",
        "    print(\"x nho hon y\")"
      ],
      "execution_count": 7,
      "outputs": [
        {
          "output_type": "stream",
          "text": [
            "x lon hon y\n"
          ],
          "name": "stdout"
        }
      ]
    },
    {
      "cell_type": "markdown",
      "metadata": {
        "id": "n5y8Q7tsnEw0",
        "colab_type": "text"
      },
      "source": [
        "Ta có thể sử dụng lệnh `elif` để đơn giản đoạn code trên hơn như sau:"
      ]
    },
    {
      "cell_type": "code",
      "metadata": {
        "id": "y9Mu7POOnDs9",
        "colab_type": "code",
        "colab": {
          "base_uri": "https://localhost:8080/",
          "height": 35
        },
        "outputId": "dfeef26e-018a-4bee-e2ec-a765da878483"
      },
      "source": [
        "x = 5\n",
        "y = 4\n",
        "if x == y:\n",
        "  print(\"x bang y\")\n",
        "elif x > y:\n",
        "    print(\"x lon hon y\")\n",
        "else:\n",
        "    print(\"x nho hon y\")"
      ],
      "execution_count": 8,
      "outputs": [
        {
          "output_type": "stream",
          "text": [
            "x lon hon y\n"
          ],
          "name": "stdout"
        }
      ]
    },
    {
      "cell_type": "markdown",
      "metadata": {
        "id": "K9jugPJHuR7A",
        "colab_type": "text"
      },
      "source": [
        "# Vòng lặp `for`\n",
        "\n",
        "Trong Python, khi phải thực hiện một dòng lệnh (hoặc cụm lệnh) nào đó nhiều lần, ta có thể sử dụng vòng lặp `for` như sau:\n",
        "\n",
        "```\n",
        "for item in object:\n",
        "        Cau_lenh\n",
        "```\n",
        "Ở đây, ta sẽ xét tất cả các 'item' (thường được gọi là biến chạy) nằm trong 'object' và thực hiện các `Cau_lenh` nằm trong vòng lặp `for`. Trong đó, 'object' có thể mang kiểu dữ liệu list, dict, set, tuple,...\n",
        "\n",
        "Cụ thể, ta xét ví dụ dưới đây:\n"
      ]
    },
    {
      "cell_type": "code",
      "metadata": {
        "id": "P06s5jyuzWsc",
        "colab_type": "code",
        "colab": {
          "base_uri": "https://localhost:8080/",
          "height": 72
        },
        "outputId": "cefae95d-136d-4f45-ccdc-ad064aad4a7b"
      },
      "source": [
        "#In ra các phần tử trong list \n",
        "fruits = [\"apple\", \"banana\", \"cherry\"]\n",
        "for x in fruits:\n",
        "  print(x)"
      ],
      "execution_count": 10,
      "outputs": [
        {
          "output_type": "stream",
          "text": [
            "apple\n",
            "banana\n",
            "cherry\n"
          ],
          "name": "stdout"
        }
      ]
    },
    {
      "cell_type": "code",
      "metadata": {
        "id": "Kxl9FHCF0eAy",
        "colab_type": "code",
        "colab": {
          "base_uri": "https://localhost:8080/",
          "height": 126
        },
        "outputId": "c9f5036c-e250-46c5-9e26-fd7aba2fd8f3"
      },
      "source": [
        "#In ra cac ki tu trong chuoi\n",
        "for x in \"banana\":\n",
        "  print(x)"
      ],
      "execution_count": 11,
      "outputs": [
        {
          "output_type": "stream",
          "text": [
            "b\n",
            "a\n",
            "n\n",
            "a\n",
            "n\n",
            "a\n"
          ],
          "name": "stdout"
        }
      ]
    },
    {
      "cell_type": "markdown",
      "metadata": {
        "id": "4k_EXQTqLXPk",
        "colab_type": "text"
      },
      "source": [
        "##Lệnh break\n",
        "Nếu muốn dừng vòng lặp theo ý mình, có thể sử dụng lệnh `break` như sau:"
      ]
    },
    {
      "cell_type": "code",
      "metadata": {
        "id": "zzcpMESuLSvi",
        "colab_type": "code",
        "colab": {
          "base_uri": "https://localhost:8080/",
          "height": 53
        },
        "outputId": "aa03e31a-e67f-46f1-e1c7-1120fa43c336"
      },
      "source": [
        "#Dung vong lap khi x = banana\n",
        "fruits = [\"apple\", \"banana\", \"cherry\"]\n",
        "for x in fruits:\n",
        "  print(x)\n",
        "  if x == \"banana\":\n",
        "    break"
      ],
      "execution_count": 13,
      "outputs": [
        {
          "output_type": "stream",
          "text": [
            "apple\n",
            "banana\n"
          ],
          "name": "stdout"
        }
      ]
    },
    {
      "cell_type": "markdown",
      "metadata": {
        "id": "EEEIPekZLzjv",
        "colab_type": "text"
      },
      "source": [
        "##Lệnh continue\n",
        "Khi muốn dừng vòng lặp tại một điểm nào đó, và tiếp tục ở điểm kế tiếp, ta sử dụng lệnh `continue`. Chẳng hạn như sau:"
      ]
    },
    {
      "cell_type": "code",
      "metadata": {
        "id": "nVM_TCI_LvXj",
        "colab_type": "code",
        "colab": {
          "base_uri": "https://localhost:8080/",
          "height": 53
        },
        "outputId": "6fc0d26d-9b58-47d3-fc43-dc8a7beee213"
      },
      "source": [
        "#Khong in ra gia tri banana\n",
        "fruits = [\"apple\", \"banana\", \"cherry\"]\n",
        "for x in fruits:\n",
        "  if x == \"banana\":\n",
        "    continue\n",
        "  print(x)"
      ],
      "execution_count": 14,
      "outputs": [
        {
          "output_type": "stream",
          "text": [
            "apple\n",
            "cherry\n"
          ],
          "name": "stdout"
        }
      ]
    },
    {
      "cell_type": "markdown",
      "metadata": {
        "id": "MkUwWRhCMK76",
        "colab_type": "text"
      },
      "source": [
        "## Lệnh range()\n",
        "\n",
        "Để tiến hành lặp với một số lần nhất định cho trước, ta có thể sử dụng lệnh `range`. Hàm `range(n)` trả về một dãy các số, bắt đầu từ 0, kết thúc ở n - 1. Hàm `range(m, n)` sẽ trả về dãy số bắt đầu từ m, kết thúc ở n-1.\n",
        "\n",
        "Ta xem xét ví dụ dưới đây:"
      ]
    },
    {
      "cell_type": "code",
      "metadata": {
        "id": "Pzn0K31UMIDc",
        "colab_type": "code",
        "colab": {
          "base_uri": "https://localhost:8080/",
          "height": 126
        },
        "outputId": "f45febae-3d26-414a-85ac-fe0a66e7b761"
      },
      "source": [
        "for x in range(6):\n",
        "  print(x)"
      ],
      "execution_count": 15,
      "outputs": [
        {
          "output_type": "stream",
          "text": [
            "0\n",
            "1\n",
            "2\n",
            "3\n",
            "4\n",
            "5\n"
          ],
          "name": "stdout"
        }
      ]
    },
    {
      "cell_type": "code",
      "metadata": {
        "id": "7x6zakvVNDIk",
        "colab_type": "code",
        "colab": {
          "base_uri": "https://localhost:8080/",
          "height": 90
        },
        "outputId": "44e6bbdd-d43b-42dc-d5a2-b9f818961b93"
      },
      "source": [
        "for x in range(2, 6):\n",
        "  print(x)"
      ],
      "execution_count": 16,
      "outputs": [
        {
          "output_type": "stream",
          "text": [
            "2\n",
            "3\n",
            "4\n",
            "5\n"
          ],
          "name": "stdout"
        }
      ]
    },
    {
      "cell_type": "markdown",
      "metadata": {
        "id": "sp9maCjQQ71s",
        "colab_type": "text"
      },
      "source": [
        "# Vòng lặp while\n",
        "\n",
        "Khác với vòng lặp for, vòng lặp while thường được sử dụng khi không biết chính xác số vòng lặp.\n",
        "\n",
        "Cấu trúc tổng quát của vòng lặp while như sau:\n",
        "\n",
        "\n",
        "```\n",
        "while Dieu_kien:\n",
        "  Cau_lenh_1\n",
        "else:\n",
        "  Cau_lenh_2\n",
        "```\n",
        "Ở đây, máy sẽ kiểm tra nếu `Dieu_kien` thoả, nó sẽ thực hiện các `Cau_lenh_1`, còn không thoả, máy sẽ tiến hành thực hiện `Cau_lenh_2`.\n",
        "\n",
        "Ta xem xét ví dụ dưới đây:\n",
        "\n"
      ]
    },
    {
      "cell_type": "code",
      "metadata": {
        "id": "Rnv8-a1IOkzx",
        "colab_type": "code",
        "colab": {
          "base_uri": "https://localhost:8080/",
          "height": 217
        },
        "outputId": "9f1ac589-3753-497f-854f-7e9aa20aef59"
      },
      "source": [
        "x = 0\n",
        "\n",
        "while x < 5:\n",
        "    print('x is currently: ',x)\n",
        "    print(' x is still less than 5, adding 1 to x')\n",
        "    x+=1\n",
        "    \n",
        "else:\n",
        "    print('All Done!')"
      ],
      "execution_count": 17,
      "outputs": [
        {
          "output_type": "stream",
          "text": [
            "x is currently:  0\n",
            " x is still less than 5, adding 1 to x\n",
            "x is currently:  1\n",
            " x is still less than 5, adding 1 to x\n",
            "x is currently:  2\n",
            " x is still less than 5, adding 1 to x\n",
            "x is currently:  3\n",
            " x is still less than 5, adding 1 to x\n",
            "x is currently:  4\n",
            " x is still less than 5, adding 1 to x\n",
            "All Done!\n"
          ],
          "name": "stdout"
        }
      ]
    },
    {
      "cell_type": "markdown",
      "metadata": {
        "id": "XPRXRnc7W5Xo",
        "colab_type": "text"
      },
      "source": [
        "Tương tự, các câu lệnh `break, continue` vẫn có thể sử dụng trong vòng lặp while. Chẳng hạn, ở ví dụ dưới đây:"
      ]
    },
    {
      "cell_type": "code",
      "metadata": {
        "id": "BAcM_pnUXR3K",
        "colab_type": "code",
        "colab": {
          "base_uri": "https://localhost:8080/",
          "height": 181
        },
        "outputId": "d095605b-c7c5-4f30-fefb-18dfe74080c9"
      },
      "source": [
        "x = 0\n",
        "\n",
        "while x < 10:\n",
        "    print('x is currently: ',x)\n",
        "    print(' x is still less than 10, adding 1 to x')\n",
        "    x+=1\n",
        "    if x==3:\n",
        "        print('Breaking because x==3')\n",
        "        break\n",
        "    else:\n",
        "        print('continuing...')\n",
        "        continue"
      ],
      "execution_count": 18,
      "outputs": [
        {
          "output_type": "stream",
          "text": [
            "x is currently:  0\n",
            " x is still less than 10, adding 1 to x\n",
            "continuing...\n",
            "x is currently:  1\n",
            " x is still less than 10, adding 1 to x\n",
            "continuing...\n",
            "x is currently:  2\n",
            " x is still less than 10, adding 1 to x\n",
            "Breaking because x==3\n"
          ],
          "name": "stdout"
        }
      ]
    },
    {
      "cell_type": "markdown",
      "metadata": {
        "id": "mk4dr9PNXenK",
        "colab_type": "text"
      },
      "source": [
        "**Chú ý**: Trong vòng lặp while, cần kiểm soát điều kiện dừng, vì có thể dẫn tới tình trạng lặp vô hạn lần. Chẳng hạn như ví dụ dưới đây"
      ]
    },
    {
      "cell_type": "code",
      "metadata": {
        "id": "jHxYLHzVZzks",
        "colab_type": "code",
        "colab": {}
      },
      "source": [
        "# DO NOT RUN THIS CODE!!!! \n",
        "while True:\n",
        "    print(\"I'm stuck in an infinite loop!\")"
      ],
      "execution_count": null,
      "outputs": []
    },
    {
      "cell_type": "markdown",
      "metadata": {
        "id": "r1SIBS2aivKb",
        "colab_type": "text"
      },
      "source": [
        "# Phân tích dữ liệu với pandas\n"
      ]
    },
    {
      "cell_type": "markdown",
      "metadata": {
        "id": "f6tkzf_3ulD3",
        "colab_type": "text"
      },
      "source": [
        "## Tách một dataFrame\n",
        "Đầu tiên, ta tiến hành import các thư viện cần thiết:\n"
      ]
    },
    {
      "cell_type": "code",
      "metadata": {
        "id": "wF7mx346iuGU",
        "colab_type": "code",
        "colab": {}
      },
      "source": [
        "# Import packages and set visualization style\n",
        "import numpy as np\n",
        "import pandas as pd\n",
        "import matplotlib.pyplot as plt\n",
        "import seaborn as sns\n",
        "sns.set()\n",
        "%matplotlib inline"
      ],
      "execution_count": 23,
      "outputs": []
    },
    {
      "cell_type": "markdown",
      "metadata": {
        "id": "rEHiHEf5mmr6",
        "colab_type": "text"
      },
      "source": [
        "Tiếp theo, ta thử tạo bộ dữ liệu dataFrame ngẫu nhiên như sau:"
      ]
    },
    {
      "cell_type": "code",
      "metadata": {
        "id": "5fYQQ-Y9mlAQ",
        "colab_type": "code",
        "colab": {
          "base_uri": "https://localhost:8080/",
          "height": 363
        },
        "outputId": "2b314b19-4119-47cc-a52a-6ab84c174ef9"
      },
      "source": [
        "df = pd.DataFrame(np.random.randn(10, 4))\n",
        "df"
      ],
      "execution_count": 30,
      "outputs": [
        {
          "output_type": "execute_result",
          "data": {
            "text/html": [
              "<div>\n",
              "<style scoped>\n",
              "    .dataframe tbody tr th:only-of-type {\n",
              "        vertical-align: middle;\n",
              "    }\n",
              "\n",
              "    .dataframe tbody tr th {\n",
              "        vertical-align: top;\n",
              "    }\n",
              "\n",
              "    .dataframe thead th {\n",
              "        text-align: right;\n",
              "    }\n",
              "</style>\n",
              "<table border=\"1\" class=\"dataframe\">\n",
              "  <thead>\n",
              "    <tr style=\"text-align: right;\">\n",
              "      <th></th>\n",
              "      <th>0</th>\n",
              "      <th>1</th>\n",
              "      <th>2</th>\n",
              "      <th>3</th>\n",
              "    </tr>\n",
              "  </thead>\n",
              "  <tbody>\n",
              "    <tr>\n",
              "      <th>0</th>\n",
              "      <td>-0.845414</td>\n",
              "      <td>0.366514</td>\n",
              "      <td>0.729946</td>\n",
              "      <td>-0.605936</td>\n",
              "    </tr>\n",
              "    <tr>\n",
              "      <th>1</th>\n",
              "      <td>2.377305</td>\n",
              "      <td>-0.355096</td>\n",
              "      <td>-0.396565</td>\n",
              "      <td>-0.419888</td>\n",
              "    </tr>\n",
              "    <tr>\n",
              "      <th>2</th>\n",
              "      <td>-1.207315</td>\n",
              "      <td>0.505627</td>\n",
              "      <td>-0.129222</td>\n",
              "      <td>0.055994</td>\n",
              "    </tr>\n",
              "    <tr>\n",
              "      <th>3</th>\n",
              "      <td>-0.777510</td>\n",
              "      <td>0.462492</td>\n",
              "      <td>-0.124346</td>\n",
              "      <td>-1.853105</td>\n",
              "    </tr>\n",
              "    <tr>\n",
              "      <th>4</th>\n",
              "      <td>-0.390814</td>\n",
              "      <td>-0.337384</td>\n",
              "      <td>-0.315292</td>\n",
              "      <td>-0.045710</td>\n",
              "    </tr>\n",
              "    <tr>\n",
              "      <th>5</th>\n",
              "      <td>0.212578</td>\n",
              "      <td>0.150169</td>\n",
              "      <td>-0.217418</td>\n",
              "      <td>0.567705</td>\n",
              "    </tr>\n",
              "    <tr>\n",
              "      <th>6</th>\n",
              "      <td>0.547657</td>\n",
              "      <td>0.071664</td>\n",
              "      <td>-0.264882</td>\n",
              "      <td>-1.964389</td>\n",
              "    </tr>\n",
              "    <tr>\n",
              "      <th>7</th>\n",
              "      <td>0.689891</td>\n",
              "      <td>0.688959</td>\n",
              "      <td>-2.778321</td>\n",
              "      <td>0.335685</td>\n",
              "    </tr>\n",
              "    <tr>\n",
              "      <th>8</th>\n",
              "      <td>0.426844</td>\n",
              "      <td>-0.092391</td>\n",
              "      <td>-0.022044</td>\n",
              "      <td>0.849567</td>\n",
              "    </tr>\n",
              "    <tr>\n",
              "      <th>9</th>\n",
              "      <td>-0.400668</td>\n",
              "      <td>-0.417913</td>\n",
              "      <td>0.350527</td>\n",
              "      <td>1.798075</td>\n",
              "    </tr>\n",
              "  </tbody>\n",
              "</table>\n",
              "</div>"
            ],
            "text/plain": [
              "          0         1         2         3\n",
              "0 -0.845414  0.366514  0.729946 -0.605936\n",
              "1  2.377305 -0.355096 -0.396565 -0.419888\n",
              "2 -1.207315  0.505627 -0.129222  0.055994\n",
              "3 -0.777510  0.462492 -0.124346 -1.853105\n",
              "4 -0.390814 -0.337384 -0.315292 -0.045710\n",
              "5  0.212578  0.150169 -0.217418  0.567705\n",
              "6  0.547657  0.071664 -0.264882 -1.964389\n",
              "7  0.689891  0.688959 -2.778321  0.335685\n",
              "8  0.426844 -0.092391 -0.022044  0.849567\n",
              "9 -0.400668 -0.417913  0.350527  1.798075"
            ]
          },
          "metadata": {
            "tags": []
          },
          "execution_count": 30
        }
      ]
    },
    {
      "cell_type": "code",
      "metadata": {
        "id": "a2del2Z2nbo2",
        "colab_type": "code",
        "colab": {}
      },
      "source": [
        "pieces = [df[:3], df[5:7]]\n",
        "#tach dataFrame thanh 2 phan dong 0--> 2 va 5-->6"
      ],
      "execution_count": 33,
      "outputs": []
    },
    {
      "cell_type": "code",
      "metadata": {
        "id": "fj3yNALWsbiw",
        "colab_type": "code",
        "colab": {
          "base_uri": "https://localhost:8080/",
          "height": 206
        },
        "outputId": "15cf88c7-9658-469f-e059-a669655b02bb"
      },
      "source": [
        "pd.concat(pieces)\n",
        "#noi 2 phan vua tach "
      ],
      "execution_count": 35,
      "outputs": [
        {
          "output_type": "execute_result",
          "data": {
            "text/html": [
              "<div>\n",
              "<style scoped>\n",
              "    .dataframe tbody tr th:only-of-type {\n",
              "        vertical-align: middle;\n",
              "    }\n",
              "\n",
              "    .dataframe tbody tr th {\n",
              "        vertical-align: top;\n",
              "    }\n",
              "\n",
              "    .dataframe thead th {\n",
              "        text-align: right;\n",
              "    }\n",
              "</style>\n",
              "<table border=\"1\" class=\"dataframe\">\n",
              "  <thead>\n",
              "    <tr style=\"text-align: right;\">\n",
              "      <th></th>\n",
              "      <th>0</th>\n",
              "      <th>1</th>\n",
              "      <th>2</th>\n",
              "      <th>3</th>\n",
              "    </tr>\n",
              "  </thead>\n",
              "  <tbody>\n",
              "    <tr>\n",
              "      <th>0</th>\n",
              "      <td>-0.845414</td>\n",
              "      <td>0.366514</td>\n",
              "      <td>0.729946</td>\n",
              "      <td>-0.605936</td>\n",
              "    </tr>\n",
              "    <tr>\n",
              "      <th>1</th>\n",
              "      <td>2.377305</td>\n",
              "      <td>-0.355096</td>\n",
              "      <td>-0.396565</td>\n",
              "      <td>-0.419888</td>\n",
              "    </tr>\n",
              "    <tr>\n",
              "      <th>2</th>\n",
              "      <td>-1.207315</td>\n",
              "      <td>0.505627</td>\n",
              "      <td>-0.129222</td>\n",
              "      <td>0.055994</td>\n",
              "    </tr>\n",
              "    <tr>\n",
              "      <th>5</th>\n",
              "      <td>0.212578</td>\n",
              "      <td>0.150169</td>\n",
              "      <td>-0.217418</td>\n",
              "      <td>0.567705</td>\n",
              "    </tr>\n",
              "    <tr>\n",
              "      <th>6</th>\n",
              "      <td>0.547657</td>\n",
              "      <td>0.071664</td>\n",
              "      <td>-0.264882</td>\n",
              "      <td>-1.964389</td>\n",
              "    </tr>\n",
              "  </tbody>\n",
              "</table>\n",
              "</div>"
            ],
            "text/plain": [
              "          0         1         2         3\n",
              "0 -0.845414  0.366514  0.729946 -0.605936\n",
              "1  2.377305 -0.355096 -0.396565 -0.419888\n",
              "2 -1.207315  0.505627 -0.129222  0.055994\n",
              "5  0.212578  0.150169 -0.217418  0.567705\n",
              "6  0.547657  0.071664 -0.264882 -1.964389"
            ]
          },
          "metadata": {
            "tags": []
          },
          "execution_count": 35
        }
      ]
    },
    {
      "cell_type": "markdown",
      "metadata": {
        "id": "fc52cKf9tBFa",
        "colab_type": "text"
      },
      "source": [
        "Ngoài ra, ta có thể nối 2 bộ dữ liệu dataFrame bằng lệnh `merge` như sau:"
      ]
    },
    {
      "cell_type": "code",
      "metadata": {
        "id": "mB4Kwsa6s9Tq",
        "colab_type": "code",
        "colab": {
          "base_uri": "https://localhost:8080/",
          "height": 112
        },
        "outputId": "43a8d0d2-eef8-4c2a-d2e8-360d9d2a1288"
      },
      "source": [
        "left = pd.DataFrame({'key': ['foo', 'foo'], 'lval': [1, 2]})\n",
        "left\n"
      ],
      "execution_count": 37,
      "outputs": [
        {
          "output_type": "execute_result",
          "data": {
            "text/html": [
              "<div>\n",
              "<style scoped>\n",
              "    .dataframe tbody tr th:only-of-type {\n",
              "        vertical-align: middle;\n",
              "    }\n",
              "\n",
              "    .dataframe tbody tr th {\n",
              "        vertical-align: top;\n",
              "    }\n",
              "\n",
              "    .dataframe thead th {\n",
              "        text-align: right;\n",
              "    }\n",
              "</style>\n",
              "<table border=\"1\" class=\"dataframe\">\n",
              "  <thead>\n",
              "    <tr style=\"text-align: right;\">\n",
              "      <th></th>\n",
              "      <th>key</th>\n",
              "      <th>lval</th>\n",
              "    </tr>\n",
              "  </thead>\n",
              "  <tbody>\n",
              "    <tr>\n",
              "      <th>0</th>\n",
              "      <td>foo</td>\n",
              "      <td>1</td>\n",
              "    </tr>\n",
              "    <tr>\n",
              "      <th>1</th>\n",
              "      <td>foo</td>\n",
              "      <td>2</td>\n",
              "    </tr>\n",
              "  </tbody>\n",
              "</table>\n",
              "</div>"
            ],
            "text/plain": [
              "   key  lval\n",
              "0  foo     1\n",
              "1  foo     2"
            ]
          },
          "metadata": {
            "tags": []
          },
          "execution_count": 37
        }
      ]
    },
    {
      "cell_type": "code",
      "metadata": {
        "id": "PlYs8XaBtRX-",
        "colab_type": "code",
        "colab": {
          "base_uri": "https://localhost:8080/",
          "height": 112
        },
        "outputId": "7186219f-6ac7-47d0-df95-e229a2ba9582"
      },
      "source": [
        "right = pd.DataFrame({'key': ['foo', 'foo'], 'rval': [4, 5]})\n",
        "right"
      ],
      "execution_count": 38,
      "outputs": [
        {
          "output_type": "execute_result",
          "data": {
            "text/html": [
              "<div>\n",
              "<style scoped>\n",
              "    .dataframe tbody tr th:only-of-type {\n",
              "        vertical-align: middle;\n",
              "    }\n",
              "\n",
              "    .dataframe tbody tr th {\n",
              "        vertical-align: top;\n",
              "    }\n",
              "\n",
              "    .dataframe thead th {\n",
              "        text-align: right;\n",
              "    }\n",
              "</style>\n",
              "<table border=\"1\" class=\"dataframe\">\n",
              "  <thead>\n",
              "    <tr style=\"text-align: right;\">\n",
              "      <th></th>\n",
              "      <th>key</th>\n",
              "      <th>rval</th>\n",
              "    </tr>\n",
              "  </thead>\n",
              "  <tbody>\n",
              "    <tr>\n",
              "      <th>0</th>\n",
              "      <td>foo</td>\n",
              "      <td>4</td>\n",
              "    </tr>\n",
              "    <tr>\n",
              "      <th>1</th>\n",
              "      <td>foo</td>\n",
              "      <td>5</td>\n",
              "    </tr>\n",
              "  </tbody>\n",
              "</table>\n",
              "</div>"
            ],
            "text/plain": [
              "   key  rval\n",
              "0  foo     4\n",
              "1  foo     5"
            ]
          },
          "metadata": {
            "tags": []
          },
          "execution_count": 38
        }
      ]
    },
    {
      "cell_type": "code",
      "metadata": {
        "id": "ttaTGz3ytSHS",
        "colab_type": "code",
        "colab": {
          "base_uri": "https://localhost:8080/",
          "height": 175
        },
        "outputId": "300ada58-169e-49c8-ff68-753ee2393f10"
      },
      "source": [
        "pd.merge(left, right, on='key')"
      ],
      "execution_count": 39,
      "outputs": [
        {
          "output_type": "execute_result",
          "data": {
            "text/html": [
              "<div>\n",
              "<style scoped>\n",
              "    .dataframe tbody tr th:only-of-type {\n",
              "        vertical-align: middle;\n",
              "    }\n",
              "\n",
              "    .dataframe tbody tr th {\n",
              "        vertical-align: top;\n",
              "    }\n",
              "\n",
              "    .dataframe thead th {\n",
              "        text-align: right;\n",
              "    }\n",
              "</style>\n",
              "<table border=\"1\" class=\"dataframe\">\n",
              "  <thead>\n",
              "    <tr style=\"text-align: right;\">\n",
              "      <th></th>\n",
              "      <th>key</th>\n",
              "      <th>lval</th>\n",
              "      <th>rval</th>\n",
              "    </tr>\n",
              "  </thead>\n",
              "  <tbody>\n",
              "    <tr>\n",
              "      <th>0</th>\n",
              "      <td>foo</td>\n",
              "      <td>1</td>\n",
              "      <td>4</td>\n",
              "    </tr>\n",
              "    <tr>\n",
              "      <th>1</th>\n",
              "      <td>foo</td>\n",
              "      <td>1</td>\n",
              "      <td>5</td>\n",
              "    </tr>\n",
              "    <tr>\n",
              "      <th>2</th>\n",
              "      <td>foo</td>\n",
              "      <td>2</td>\n",
              "      <td>4</td>\n",
              "    </tr>\n",
              "    <tr>\n",
              "      <th>3</th>\n",
              "      <td>foo</td>\n",
              "      <td>2</td>\n",
              "      <td>5</td>\n",
              "    </tr>\n",
              "  </tbody>\n",
              "</table>\n",
              "</div>"
            ],
            "text/plain": [
              "   key  lval  rval\n",
              "0  foo     1     4\n",
              "1  foo     1     5\n",
              "2  foo     2     4\n",
              "3  foo     2     5"
            ]
          },
          "metadata": {
            "tags": []
          },
          "execution_count": 39
        }
      ]
    },
    {
      "cell_type": "markdown",
      "metadata": {
        "id": "yD1dJDMXuodh",
        "colab_type": "text"
      },
      "source": [
        "## Group by trong Python\n",
        "Khi đề cập đến Group by, tức là ta đang nhắc đến một quy trình gồm nhiều bước dưới đây:\n",
        "\n",
        "1.  Chia dữ liệu thành các nhóm dựa trên một số tiêu chí\n",
        "2.  Áp dụng các hàm tính toán cho từng nhóm một cách độc lập\n",
        "3.  Kết hợp các kết quả thành một cấu trúc dữ liệu\n",
        "\n",
        "Chẳng hạn, với một dataFrame như sau:"
      ]
    },
    {
      "cell_type": "code",
      "metadata": {
        "id": "5zwsAbVbxX_E",
        "colab_type": "code",
        "colab": {
          "base_uri": "https://localhost:8080/",
          "height": 300
        },
        "outputId": "c8f09ee5-5aed-4ccd-ce35-0ab7bc709d65"
      },
      "source": [
        "df = pd.DataFrame({'A': ['foo', 'bar', 'foo', 'bar',\n",
        "                          'foo', 'bar', 'foo', 'foo'],\n",
        "                    'B': ['one', 'one', 'two', 'three',\n",
        "                          'two', 'two', 'one', 'three'],\n",
        "                    'C': np.random.randn(8),\n",
        "                    'D': np.random.randn(8)})\n",
        "df"
      ],
      "execution_count": 43,
      "outputs": [
        {
          "output_type": "execute_result",
          "data": {
            "text/html": [
              "<div>\n",
              "<style scoped>\n",
              "    .dataframe tbody tr th:only-of-type {\n",
              "        vertical-align: middle;\n",
              "    }\n",
              "\n",
              "    .dataframe tbody tr th {\n",
              "        vertical-align: top;\n",
              "    }\n",
              "\n",
              "    .dataframe thead th {\n",
              "        text-align: right;\n",
              "    }\n",
              "</style>\n",
              "<table border=\"1\" class=\"dataframe\">\n",
              "  <thead>\n",
              "    <tr style=\"text-align: right;\">\n",
              "      <th></th>\n",
              "      <th>A</th>\n",
              "      <th>B</th>\n",
              "      <th>C</th>\n",
              "      <th>D</th>\n",
              "    </tr>\n",
              "  </thead>\n",
              "  <tbody>\n",
              "    <tr>\n",
              "      <th>0</th>\n",
              "      <td>foo</td>\n",
              "      <td>one</td>\n",
              "      <td>1.306349</td>\n",
              "      <td>1.646776</td>\n",
              "    </tr>\n",
              "    <tr>\n",
              "      <th>1</th>\n",
              "      <td>bar</td>\n",
              "      <td>one</td>\n",
              "      <td>-0.535545</td>\n",
              "      <td>0.085232</td>\n",
              "    </tr>\n",
              "    <tr>\n",
              "      <th>2</th>\n",
              "      <td>foo</td>\n",
              "      <td>two</td>\n",
              "      <td>0.906716</td>\n",
              "      <td>-0.779865</td>\n",
              "    </tr>\n",
              "    <tr>\n",
              "      <th>3</th>\n",
              "      <td>bar</td>\n",
              "      <td>three</td>\n",
              "      <td>0.194231</td>\n",
              "      <td>0.814457</td>\n",
              "    </tr>\n",
              "    <tr>\n",
              "      <th>4</th>\n",
              "      <td>foo</td>\n",
              "      <td>two</td>\n",
              "      <td>-0.265594</td>\n",
              "      <td>-0.584221</td>\n",
              "    </tr>\n",
              "    <tr>\n",
              "      <th>5</th>\n",
              "      <td>bar</td>\n",
              "      <td>two</td>\n",
              "      <td>0.264933</td>\n",
              "      <td>-0.256854</td>\n",
              "    </tr>\n",
              "    <tr>\n",
              "      <th>6</th>\n",
              "      <td>foo</td>\n",
              "      <td>one</td>\n",
              "      <td>-0.091046</td>\n",
              "      <td>-0.596817</td>\n",
              "    </tr>\n",
              "    <tr>\n",
              "      <th>7</th>\n",
              "      <td>foo</td>\n",
              "      <td>three</td>\n",
              "      <td>-0.574646</td>\n",
              "      <td>-0.136811</td>\n",
              "    </tr>\n",
              "  </tbody>\n",
              "</table>\n",
              "</div>"
            ],
            "text/plain": [
              "     A      B         C         D\n",
              "0  foo    one  1.306349  1.646776\n",
              "1  bar    one -0.535545  0.085232\n",
              "2  foo    two  0.906716 -0.779865\n",
              "3  bar  three  0.194231  0.814457\n",
              "4  foo    two -0.265594 -0.584221\n",
              "5  bar    two  0.264933 -0.256854\n",
              "6  foo    one -0.091046 -0.596817\n",
              "7  foo  three -0.574646 -0.136811"
            ]
          },
          "metadata": {
            "tags": []
          },
          "execution_count": 43
        }
      ]
    },
    {
      "cell_type": "code",
      "metadata": {
        "id": "mXhonvOrx0N3",
        "colab_type": "code",
        "colab": {
          "base_uri": "https://localhost:8080/",
          "height": 143
        },
        "outputId": "ffa7ec15-82a0-4930-f990-a0a2ad3a6beb"
      },
      "source": [
        " #Grouping and then applying the sum() function to the resulting groups.\n",
        " df.groupby('A').sum()"
      ],
      "execution_count": 44,
      "outputs": [
        {
          "output_type": "execute_result",
          "data": {
            "text/html": [
              "<div>\n",
              "<style scoped>\n",
              "    .dataframe tbody tr th:only-of-type {\n",
              "        vertical-align: middle;\n",
              "    }\n",
              "\n",
              "    .dataframe tbody tr th {\n",
              "        vertical-align: top;\n",
              "    }\n",
              "\n",
              "    .dataframe thead th {\n",
              "        text-align: right;\n",
              "    }\n",
              "</style>\n",
              "<table border=\"1\" class=\"dataframe\">\n",
              "  <thead>\n",
              "    <tr style=\"text-align: right;\">\n",
              "      <th></th>\n",
              "      <th>C</th>\n",
              "      <th>D</th>\n",
              "    </tr>\n",
              "    <tr>\n",
              "      <th>A</th>\n",
              "      <th></th>\n",
              "      <th></th>\n",
              "    </tr>\n",
              "  </thead>\n",
              "  <tbody>\n",
              "    <tr>\n",
              "      <th>bar</th>\n",
              "      <td>-0.076381</td>\n",
              "      <td>0.642835</td>\n",
              "    </tr>\n",
              "    <tr>\n",
              "      <th>foo</th>\n",
              "      <td>1.281780</td>\n",
              "      <td>-0.450939</td>\n",
              "    </tr>\n",
              "  </tbody>\n",
              "</table>\n",
              "</div>"
            ],
            "text/plain": [
              "            C         D\n",
              "A                      \n",
              "bar -0.076381  0.642835\n",
              "foo  1.281780 -0.450939"
            ]
          },
          "metadata": {
            "tags": []
          },
          "execution_count": 44
        }
      ]
    },
    {
      "cell_type": "code",
      "metadata": {
        "id": "sJ79SxFayXai",
        "colab_type": "code",
        "colab": {
          "base_uri": "https://localhost:8080/",
          "height": 269
        },
        "outputId": "36646aac-033b-4e9c-c3ec-6300c8bb79e3"
      },
      "source": [
        "#Grouping by multiple columns forms a hierarchical index, and again we can apply the sum() function.\n",
        "df.groupby(['A', 'B']).sum()"
      ],
      "execution_count": 45,
      "outputs": [
        {
          "output_type": "execute_result",
          "data": {
            "text/html": [
              "<div>\n",
              "<style scoped>\n",
              "    .dataframe tbody tr th:only-of-type {\n",
              "        vertical-align: middle;\n",
              "    }\n",
              "\n",
              "    .dataframe tbody tr th {\n",
              "        vertical-align: top;\n",
              "    }\n",
              "\n",
              "    .dataframe thead th {\n",
              "        text-align: right;\n",
              "    }\n",
              "</style>\n",
              "<table border=\"1\" class=\"dataframe\">\n",
              "  <thead>\n",
              "    <tr style=\"text-align: right;\">\n",
              "      <th></th>\n",
              "      <th></th>\n",
              "      <th>C</th>\n",
              "      <th>D</th>\n",
              "    </tr>\n",
              "    <tr>\n",
              "      <th>A</th>\n",
              "      <th>B</th>\n",
              "      <th></th>\n",
              "      <th></th>\n",
              "    </tr>\n",
              "  </thead>\n",
              "  <tbody>\n",
              "    <tr>\n",
              "      <th rowspan=\"3\" valign=\"top\">bar</th>\n",
              "      <th>one</th>\n",
              "      <td>-0.535545</td>\n",
              "      <td>0.085232</td>\n",
              "    </tr>\n",
              "    <tr>\n",
              "      <th>three</th>\n",
              "      <td>0.194231</td>\n",
              "      <td>0.814457</td>\n",
              "    </tr>\n",
              "    <tr>\n",
              "      <th>two</th>\n",
              "      <td>0.264933</td>\n",
              "      <td>-0.256854</td>\n",
              "    </tr>\n",
              "    <tr>\n",
              "      <th rowspan=\"3\" valign=\"top\">foo</th>\n",
              "      <th>one</th>\n",
              "      <td>1.215304</td>\n",
              "      <td>1.049958</td>\n",
              "    </tr>\n",
              "    <tr>\n",
              "      <th>three</th>\n",
              "      <td>-0.574646</td>\n",
              "      <td>-0.136811</td>\n",
              "    </tr>\n",
              "    <tr>\n",
              "      <th>two</th>\n",
              "      <td>0.641122</td>\n",
              "      <td>-1.364086</td>\n",
              "    </tr>\n",
              "  </tbody>\n",
              "</table>\n",
              "</div>"
            ],
            "text/plain": [
              "                  C         D\n",
              "A   B                        \n",
              "bar one   -0.535545  0.085232\n",
              "    three  0.194231  0.814457\n",
              "    two    0.264933 -0.256854\n",
              "foo one    1.215304  1.049958\n",
              "    three -0.574646 -0.136811\n",
              "    two    0.641122 -1.364086"
            ]
          },
          "metadata": {
            "tags": []
          },
          "execution_count": 45
        }
      ]
    },
    {
      "cell_type": "markdown",
      "metadata": {
        "id": "Ur6L-tl3aJqi",
        "colab_type": "text"
      },
      "source": [
        "#Bài tập trên lớp\n",
        "\n",
        "1. Dùng lệnh để for và while tính giai thừa:\n",
        "$$n! = 1\\times 2\\times ...\\times (n-1)\\times n$$\n",
        "2. Tính tổng sau bằng cả for và while:\n",
        "$$\\sum_{k = 5}^{20}\\dfrac{k^2}{k-1}$$\n",
        "3. Đặt:\n",
        "$$s_n = \\sum_{k = 1}^nk$$\n",
        "Tính tổng dưới đây bằng cả for và while:\n",
        "$$\\sum_{n = 1}^{10}s_n$$\n",
        "4. Viết chương trình tính tổng các số chia hết cho 3 và nhỏ hơn 50 bằng hai cách.\n",
        "5. Nhập vào một số nguyên dương n, dùng lệnh while để tính tổng dưới đây:\n",
        "$$\\sum_{k = 1}^n\\dfrac{1}{k}$$\n",
        "6. Tìm giá trị lớn nhất của n để:\n",
        "$$\\sum_{k = 1}^nk^2 <100 $$\n"
      ]
    },
    {
      "cell_type": "markdown",
      "metadata": {
        "id": "DApENUP_1DsG",
        "colab_type": "text"
      },
      "source": [
        "7. Tạo một dataFrame $10\\times 4$ thực, ngẫu nhiên. Sau đó thực hiện các yêu cầu sau:\n",
        "* Vẽ histogram của cột 2.\n",
        "* Tách và gộp các cột 2, 3, 6 thành một dataFrame mới. Đặt tên các cột mới là A, B, C.\n",
        "* Phân cụm dữ liệu ở cột A thành 2 cụm $<0, \\geq 0$. "
      ]
    },
    {
      "cell_type": "markdown",
      "metadata": {
        "id": "7eBypGiSeLrC",
        "colab_type": "text"
      },
      "source": [
        "#Bài tập về nhà\n",
        "1. Nhập vào một số nguyên dương bất kỳ, kiểm tra xem số đó có phải là số nguyên tố hay không.\n",
        "2. Tính tổ hợp $n$ chập $k$ $(k\\leq n)$, với $n, k$ được nhập từ bàn phím.\n",
        "3. Tính tổng của 10 số Fibonaci đầu tiên. (Dãy Fibonaci là dãy có 2 phần tử đầu tiên là 1, các phần tử sau đó là tổng của 2 phần tử trước đó: 1, 1, 2, 3, 5, ...).\n",
        "4. Nhập vào một vecto dương. Tính các tổng dưới đây:\n",
        "\n",
        "\n",
        "*   Tổng các phần tử chẵn\n",
        "*   Tổng các phần tử lẻ\n",
        "*   Tổng các số chính phương\n",
        "*   Tổng các số nguyên tố.\n",
        "5. Cho một vecto bất kì, đếm xem trong đó có bao nhiêu phần tử âm, bao nhiêu phần tử dương, bao nhiêu phần tử bằng 0.\n",
        "6. Tải bộ dữ liệu của Netflix ở [đây](https://data.world/chasewillden/netflix-shows). Tiến hành group by bộ data trên theo cột release_year. Sau đó vẽ biểu đồ scatter, với x là là release_year, y là median rating.\n",
        "\n"
      ]
    }
  ]
}