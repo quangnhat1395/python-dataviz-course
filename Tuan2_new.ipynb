{
  "nbformat": 4,
  "nbformat_minor": 0,
  "metadata": {
    "kernelspec": {
      "display_name": "Python 3",
      "language": "python",
      "name": "python3"
    },
    "language_info": {
      "codemirror_mode": {
        "name": "ipython",
        "version": 3
      },
      "file_extension": ".py",
      "mimetype": "text/x-python",
      "name": "python",
      "nbconvert_exporter": "python",
      "pygments_lexer": "ipython3",
      "version": "3.7.3"
    },
    "colab": {
      "name": "Tuan2.ipynb",
      "provenance": [],
      "toc_visible": true,
      "include_colab_link": true
    }
  },
  "cells": [
    {
      "cell_type": "markdown",
      "metadata": {
        "id": "view-in-github",
        "colab_type": "text"
      },
      "source": [
        "<a href=\"https://colab.research.google.com/github/quangnhat1395/python-dataviz-course/blob/master/Tuan2_new.ipynb\" target=\"_parent\"><img src=\"https://colab.research.google.com/assets/colab-badge.svg\" alt=\"Open In Colab\"/></a>"
      ]
    },
    {
      "cell_type": "markdown",
      "metadata": {
        "id": "7ePPxXg4g7LM"
      },
      "source": [
        "Trong Python, để xây dựng thuật toán, người ta thường sử dụng các cấu trúc điều hướng như `if - elif - if`, hoặc các cấu trúc lặp như `for`, `while`. Trong bài này, ta sẽ tìm hiểu những cấu trúc đó."
      ]
    },
    {
      "cell_type": "markdown",
      "metadata": {
        "id": "NudDZjdSg04p"
      },
      "source": [
        "# Câu lệnh `if - elif - else`\n",
        "\n",
        "Câu lệnh <code>if</code> trong Python cho phép ta yêu cầu máy tính thực hiện một số câu lệnh dựa trên một tập kết quả cho trước.\n",
        "\n",
        "Đầu tiên, hãy thử xem xét cấu trúc <code>if</code> dưới đây:\n",
        "\n",
        "    if Dieu_kien_1:\n",
        "        Cau_lenh_1\n",
        "    elif Dieu_kien_2:\n",
        "        Cau_lenh_2\n",
        "    else: \n",
        "        Cau_lenh_3\n",
        "\n",
        "Ở đây, ta thấy, nếu `Dieu_kien_1` được thoả, máy tính sẽ tiến hành chạy `Cau_lenh_1`, còn nếu nó thoả `Dieu_kien_2`, khi đó, `Cau_lenh_2` sẽ được thực hiện. Trong trường hợp cả 2 điều kiện ở trên đều không thoả, máy tính sẽ thực hiện `Cau_lenh_3`.\n",
        "\n",
        "Ta hãy thử xem xét ví dụ dưới đây:"
      ]
    },
    {
      "cell_type": "markdown",
      "metadata": {
        "id": "V7InZl2-g04s"
      },
      "source": [
        "## Ví dụ 1\n",
        "\n",
        "Ta cần in ra dòng chữ \"x co gia tri la 1\", nếu x = 1.\n",
        "\n",
        "**Lưu ý**: Trong Python, điều kiện x = 1 trong câu lệnh được biểu diễn bằng hai dấu \"=\". Nếu chỉ ghi \"x = 1\", thì đây là phép gán 1 cho x."
      ]
    },
    {
      "cell_type": "code",
      "metadata": {
        "id": "yRhWaNXeg04u",
        "outputId": "c9127e18-3682-4d82-dbab-02bf40d4fe84",
        "colab": {
          "base_uri": "https://localhost:8080/",
          "height": 35
        }
      },
      "source": [
        "x = 1\n",
        "if x==1:\n",
        "    print('x co gia tri la 1')"
      ],
      "execution_count": null,
      "outputs": [
        {
          "output_type": "stream",
          "text": [
            "x co gia tri la 1\n"
          ],
          "name": "stdout"
        }
      ]
    },
    {
      "cell_type": "markdown",
      "metadata": {
        "id": "V45qlxOvg044"
      },
      "source": [
        "Ta thử xét thêm trường hợp $x\\neq 1$, in ra dòng chữ \"x khac 1\" như dưới đây:"
      ]
    },
    {
      "cell_type": "code",
      "metadata": {
        "id": "rA2z2ZDmg046",
        "outputId": "4b84b941-804b-42ee-c15f-d0e802ea1fd0",
        "colab": {
          "base_uri": "https://localhost:8080/",
          "height": 35
        }
      },
      "source": [
        "x = 2\n",
        "\n",
        "if x == 1:\n",
        "    print('x co gia tri la 1')\n",
        "else:\n",
        "    print('x khac 1')"
      ],
      "execution_count": null,
      "outputs": [
        {
          "output_type": "stream",
          "text": [
            "x khac 1\n"
          ],
          "name": "stdout"
        }
      ]
    },
    {
      "cell_type": "markdown",
      "metadata": {
        "id": "-steDqejg05A"
      },
      "source": [
        "## Lệnh `elif` trong Python\n",
        "\n",
        "Trong trường hợp có nhiều hơn 2 điều kiện của biến, chúng ta sử dụng lệnh `elif` để thêm các điều kiện giữa `if` và `else`. Điều này giúp ta dễ quản lý các đoạn code của mình hơn. Chẳng hạn, ta xét ví dụ dưới đây:"
      ]
    },
    {
      "cell_type": "markdown",
      "metadata": {
        "id": "brZUId41l8Ob"
      },
      "source": [
        "## Ví dụ 2\n",
        "\n",
        "Nhập vào 2 giá trị $x$ và $y$. Nếu $x = y$, trả về kết quả \"x bang y\", nếu $x>y$, trả về kết quả \"x lon hon y\", còn lại, trả về kết quả \"x nho hon y\".\n",
        "\n",
        "Ở ví dụ này, nếu không sử dụng lệnh `elif`, ta phải tiến hành gộp 2 lần `if - else` như sau:"
      ]
    },
    {
      "cell_type": "code",
      "metadata": {
        "id": "hvKKOEPBg05C",
        "outputId": "9edcdbda-067d-4f9a-9380-d3cb898e6f74",
        "colab": {
          "base_uri": "https://localhost:8080/",
          "height": 35
        }
      },
      "source": [
        "x = 5\n",
        "y = 4\n",
        "if x == y:\n",
        "  print(\"x bang y\")\n",
        "else:\n",
        "  if x > y:\n",
        "    print(\"x lon hon y\")\n",
        "  else:\n",
        "    print(\"x nho hon y\")"
      ],
      "execution_count": null,
      "outputs": [
        {
          "output_type": "stream",
          "text": [
            "x lon hon y\n"
          ],
          "name": "stdout"
        }
      ]
    },
    {
      "cell_type": "markdown",
      "metadata": {
        "id": "n5y8Q7tsnEw0"
      },
      "source": [
        "Ta có thể sử dụng lệnh `elif` để đơn giản đoạn code trên hơn như sau:"
      ]
    },
    {
      "cell_type": "code",
      "metadata": {
        "id": "y9Mu7POOnDs9",
        "outputId": "dfeef26e-018a-4bee-e2ec-a765da878483",
        "colab": {
          "base_uri": "https://localhost:8080/",
          "height": 35
        }
      },
      "source": [
        "x = 5\n",
        "y = 4\n",
        "if x == y:\n",
        "  print(\"x bang y\")\n",
        "elif x > y:\n",
        "    print(\"x lon hon y\")\n",
        "else:\n",
        "    print(\"x nho hon y\")"
      ],
      "execution_count": null,
      "outputs": [
        {
          "output_type": "stream",
          "text": [
            "x lon hon y\n"
          ],
          "name": "stdout"
        }
      ]
    },
    {
      "cell_type": "markdown",
      "metadata": {
        "id": "K9jugPJHuR7A"
      },
      "source": [
        "# Vòng lặp `for`\n",
        "\n",
        "Trong Python, khi phải thực hiện một dòng lệnh (hoặc cụm lệnh) nào đó nhiều lần, ta có thể sử dụng vòng lặp `for` như sau:\n",
        "\n",
        "```\n",
        "for item in object:\n",
        "        Cau_lenh\n",
        "```\n",
        "Ở đây, ta sẽ xét tất cả các 'item' (thường được gọi là biến chạy) nằm trong 'object' và thực hiện các `Cau_lenh` nằm trong vòng lặp `for`. Trong đó, 'object' có thể mang kiểu dữ liệu list, dict, set, tuple,...\n",
        "\n",
        "Cụ thể, ta xét ví dụ dưới đây:\n"
      ]
    },
    {
      "cell_type": "code",
      "metadata": {
        "id": "P06s5jyuzWsc",
        "outputId": "cefae95d-136d-4f45-ccdc-ad064aad4a7b",
        "colab": {
          "base_uri": "https://localhost:8080/",
          "height": 72
        }
      },
      "source": [
        "#In ra các phần tử trong list \n",
        "fruits = [\"apple\", \"banana\", \"cherry\"]\n",
        "for x in fruits:\n",
        "  print(x)"
      ],
      "execution_count": null,
      "outputs": [
        {
          "output_type": "stream",
          "text": [
            "apple\n",
            "banana\n",
            "cherry\n"
          ],
          "name": "stdout"
        }
      ]
    },
    {
      "cell_type": "code",
      "metadata": {
        "id": "Kxl9FHCF0eAy",
        "outputId": "c9f5036c-e250-46c5-9e26-fd7aba2fd8f3",
        "colab": {
          "base_uri": "https://localhost:8080/",
          "height": 126
        }
      },
      "source": [
        "#In ra cac ki tu trong chuoi\n",
        "for x in \"banana\":\n",
        "  print(x)"
      ],
      "execution_count": null,
      "outputs": [
        {
          "output_type": "stream",
          "text": [
            "b\n",
            "a\n",
            "n\n",
            "a\n",
            "n\n",
            "a\n"
          ],
          "name": "stdout"
        }
      ]
    },
    {
      "cell_type": "markdown",
      "metadata": {
        "id": "4k_EXQTqLXPk"
      },
      "source": [
        "##Lệnh break\n",
        "Nếu muốn dừng vòng lặp theo ý mình, có thể sử dụng lệnh `break` như sau:"
      ]
    },
    {
      "cell_type": "code",
      "metadata": {
        "id": "zzcpMESuLSvi",
        "outputId": "aa03e31a-e67f-46f1-e1c7-1120fa43c336",
        "colab": {
          "base_uri": "https://localhost:8080/",
          "height": 53
        }
      },
      "source": [
        "#Dung vong lap khi x = banana\n",
        "fruits = [\"apple\", \"banana\", \"cherry\"]\n",
        "for x in fruits:\n",
        "  print(x)\n",
        "  if x == \"banana\":\n",
        "    break"
      ],
      "execution_count": null,
      "outputs": [
        {
          "output_type": "stream",
          "text": [
            "apple\n",
            "banana\n"
          ],
          "name": "stdout"
        }
      ]
    },
    {
      "cell_type": "markdown",
      "metadata": {
        "id": "EEEIPekZLzjv"
      },
      "source": [
        "##Lệnh continue\n",
        "Khi muốn dừng vòng lặp tại một điểm nào đó, và tiếp tục ở điểm kế tiếp, ta sử dụng lệnh `continue`. Chẳng hạn như sau:"
      ]
    },
    {
      "cell_type": "code",
      "metadata": {
        "id": "nVM_TCI_LvXj",
        "outputId": "6fc0d26d-9b58-47d3-fc43-dc8a7beee213",
        "colab": {
          "base_uri": "https://localhost:8080/",
          "height": 53
        }
      },
      "source": [
        "#Khong in ra gia tri banana\n",
        "fruits = [\"apple\", \"banana\", \"cherry\"]\n",
        "for x in fruits:\n",
        "  if x == \"banana\":\n",
        "    continue\n",
        "  print(x)"
      ],
      "execution_count": null,
      "outputs": [
        {
          "output_type": "stream",
          "text": [
            "apple\n",
            "cherry\n"
          ],
          "name": "stdout"
        }
      ]
    },
    {
      "cell_type": "markdown",
      "metadata": {
        "id": "MkUwWRhCMK76"
      },
      "source": [
        "## Lệnh range()\n",
        "\n",
        "Để tiến hành lặp với một số lần nhất định cho trước, ta có thể sử dụng lệnh `range`. Hàm `range(n)` trả về một dãy các số, bắt đầu từ 0, kết thúc ở n - 1. Hàm `range(m, n)` sẽ trả về dãy số bắt đầu từ m, kết thúc ở n-1.\n",
        "\n",
        "Ta xem xét ví dụ dưới đây:"
      ]
    },
    {
      "cell_type": "code",
      "metadata": {
        "id": "Pzn0K31UMIDc",
        "outputId": "f45febae-3d26-414a-85ac-fe0a66e7b761",
        "colab": {
          "base_uri": "https://localhost:8080/",
          "height": 126
        }
      },
      "source": [
        "for x in range(6):\n",
        "  print(x)"
      ],
      "execution_count": null,
      "outputs": [
        {
          "output_type": "stream",
          "text": [
            "0\n",
            "1\n",
            "2\n",
            "3\n",
            "4\n",
            "5\n"
          ],
          "name": "stdout"
        }
      ]
    },
    {
      "cell_type": "code",
      "metadata": {
        "id": "7x6zakvVNDIk",
        "outputId": "44e6bbdd-d43b-42dc-d5a2-b9f818961b93",
        "colab": {
          "base_uri": "https://localhost:8080/",
          "height": 90
        }
      },
      "source": [
        "for x in range(2, 6):\n",
        "  print(x)"
      ],
      "execution_count": null,
      "outputs": [
        {
          "output_type": "stream",
          "text": [
            "2\n",
            "3\n",
            "4\n",
            "5\n"
          ],
          "name": "stdout"
        }
      ]
    },
    {
      "cell_type": "markdown",
      "metadata": {
        "id": "sp9maCjQQ71s"
      },
      "source": [
        "# Vòng lặp while\n",
        "\n",
        "Khác với vòng lặp for, vòng lặp while thường được sử dụng khi không biết chính xác số vòng lặp.\n",
        "\n",
        "Cấu trúc tổng quát của vòng lặp while như sau:\n",
        "\n",
        "\n",
        "```\n",
        "while Dieu_kien:\n",
        "  Cau_lenh_1\n",
        "else:\n",
        "  Cau_lenh_2\n",
        "```\n",
        "Ở đây, máy sẽ kiểm tra nếu `Dieu_kien` thoả, nó sẽ thực hiện các `Cau_lenh_1`, còn không thoả, máy sẽ tiến hành thực hiện `Cau_lenh_2`.\n",
        "\n",
        "Ta xem xét ví dụ dưới đây:\n",
        "\n"
      ]
    },
    {
      "cell_type": "code",
      "metadata": {
        "id": "Rnv8-a1IOkzx",
        "outputId": "9f1ac589-3753-497f-854f-7e9aa20aef59",
        "colab": {
          "base_uri": "https://localhost:8080/",
          "height": 217
        }
      },
      "source": [
        "x = 0\n",
        "\n",
        "while x < 5:\n",
        "    print('x is currently: ',x)\n",
        "    print(' x is still less than 5, adding 1 to x')\n",
        "    x+=1\n",
        "    \n",
        "else:\n",
        "    print('All Done!')"
      ],
      "execution_count": null,
      "outputs": [
        {
          "output_type": "stream",
          "text": [
            "x is currently:  0\n",
            " x is still less than 5, adding 1 to x\n",
            "x is currently:  1\n",
            " x is still less than 5, adding 1 to x\n",
            "x is currently:  2\n",
            " x is still less than 5, adding 1 to x\n",
            "x is currently:  3\n",
            " x is still less than 5, adding 1 to x\n",
            "x is currently:  4\n",
            " x is still less than 5, adding 1 to x\n",
            "All Done!\n"
          ],
          "name": "stdout"
        }
      ]
    },
    {
      "cell_type": "markdown",
      "metadata": {
        "id": "XPRXRnc7W5Xo"
      },
      "source": [
        "Tương tự, các câu lệnh `break, continue` vẫn có thể sử dụng trong vòng lặp while. Chẳng hạn, ở ví dụ dưới đây:"
      ]
    },
    {
      "cell_type": "code",
      "metadata": {
        "id": "BAcM_pnUXR3K",
        "outputId": "32f2df32-03ff-4192-e8ee-e2cd6345e055",
        "colab": {
          "base_uri": "https://localhost:8080/",
          "height": 126
        }
      },
      "source": [
        "x = 0\n",
        "\n",
        "while x < 10:\n",
        "    print('x is currently: ',x)\n",
        "    print(' x is still less than 10, adding 1 to x')\n",
        "    x+=1\n",
        "    if x==2:\n",
        "        print('Breaking because x==2')\n",
        "        break\n",
        "    else:\n",
        "        print('continuing...')\n",
        "        continue"
      ],
      "execution_count": null,
      "outputs": [
        {
          "output_type": "stream",
          "text": [
            "x is currently:  0\n",
            " x is still less than 10, adding 1 to x\n",
            "continuing...\n",
            "x is currently:  1\n",
            " x is still less than 10, adding 1 to x\n",
            "Breaking because x==2\n"
          ],
          "name": "stdout"
        }
      ]
    },
    {
      "cell_type": "markdown",
      "metadata": {
        "id": "mk4dr9PNXenK"
      },
      "source": [
        "**Chú ý**: Trong vòng lặp while, cần kiểm soát điều kiện dừng, vì có thể dẫn tới tình trạng lặp vô hạn lần. Chẳng hạn như ví dụ dưới đây"
      ]
    },
    {
      "cell_type": "code",
      "metadata": {
        "id": "jHxYLHzVZzks"
      },
      "source": [
        "# DO NOT RUN THIS CODE!!!! \n",
        "while True:\n",
        "    print(\"I'm stuck in an infinite loop!\")"
      ],
      "execution_count": null,
      "outputs": []
    },
    {
      "cell_type": "markdown",
      "metadata": {
        "id": "r1SIBS2aivKb"
      },
      "source": [
        "# Phân tích dữ liệu với pandas\n"
      ]
    },
    {
      "cell_type": "markdown",
      "metadata": {
        "id": "f6tkzf_3ulD3"
      },
      "source": [
        "## Tách một dataFrame\n",
        "Đầu tiên, ta tiến hành import các thư viện cần thiết:\n"
      ]
    },
    {
      "cell_type": "code",
      "metadata": {
        "id": "wF7mx346iuGU"
      },
      "source": [
        "# Import packages and set visualization style\n",
        "import numpy as np\n",
        "import pandas as pd\n",
        "import matplotlib.pyplot as plt\n",
        "import seaborn as sns\n",
        "sns.set()\n",
        "%matplotlib inline"
      ],
      "execution_count": null,
      "outputs": []
    },
    {
      "cell_type": "markdown",
      "metadata": {
        "id": "rEHiHEf5mmr6"
      },
      "source": [
        "Tiếp theo, ta thử tạo bộ dữ liệu dataFrame ngẫu nhiên như sau:"
      ]
    },
    {
      "cell_type": "code",
      "metadata": {
        "id": "5fYQQ-Y9mlAQ",
        "outputId": "2b314b19-4119-47cc-a52a-6ab84c174ef9",
        "colab": {
          "base_uri": "https://localhost:8080/",
          "height": 363
        }
      },
      "source": [
        "df = pd.DataFrame(np.random.randn(10, 4))\n",
        "df"
      ],
      "execution_count": null,
      "outputs": [
        {
          "output_type": "execute_result",
          "data": {
            "text/html": [
              "<div>\n",
              "<style scoped>\n",
              "    .dataframe tbody tr th:only-of-type {\n",
              "        vertical-align: middle;\n",
              "    }\n",
              "\n",
              "    .dataframe tbody tr th {\n",
              "        vertical-align: top;\n",
              "    }\n",
              "\n",
              "    .dataframe thead th {\n",
              "        text-align: right;\n",
              "    }\n",
              "</style>\n",
              "<table border=\"1\" class=\"dataframe\">\n",
              "  <thead>\n",
              "    <tr style=\"text-align: right;\">\n",
              "      <th></th>\n",
              "      <th>0</th>\n",
              "      <th>1</th>\n",
              "      <th>2</th>\n",
              "      <th>3</th>\n",
              "    </tr>\n",
              "  </thead>\n",
              "  <tbody>\n",
              "    <tr>\n",
              "      <th>0</th>\n",
              "      <td>-0.845414</td>\n",
              "      <td>0.366514</td>\n",
              "      <td>0.729946</td>\n",
              "      <td>-0.605936</td>\n",
              "    </tr>\n",
              "    <tr>\n",
              "      <th>1</th>\n",
              "      <td>2.377305</td>\n",
              "      <td>-0.355096</td>\n",
              "      <td>-0.396565</td>\n",
              "      <td>-0.419888</td>\n",
              "    </tr>\n",
              "    <tr>\n",
              "      <th>2</th>\n",
              "      <td>-1.207315</td>\n",
              "      <td>0.505627</td>\n",
              "      <td>-0.129222</td>\n",
              "      <td>0.055994</td>\n",
              "    </tr>\n",
              "    <tr>\n",
              "      <th>3</th>\n",
              "      <td>-0.777510</td>\n",
              "      <td>0.462492</td>\n",
              "      <td>-0.124346</td>\n",
              "      <td>-1.853105</td>\n",
              "    </tr>\n",
              "    <tr>\n",
              "      <th>4</th>\n",
              "      <td>-0.390814</td>\n",
              "      <td>-0.337384</td>\n",
              "      <td>-0.315292</td>\n",
              "      <td>-0.045710</td>\n",
              "    </tr>\n",
              "    <tr>\n",
              "      <th>5</th>\n",
              "      <td>0.212578</td>\n",
              "      <td>0.150169</td>\n",
              "      <td>-0.217418</td>\n",
              "      <td>0.567705</td>\n",
              "    </tr>\n",
              "    <tr>\n",
              "      <th>6</th>\n",
              "      <td>0.547657</td>\n",
              "      <td>0.071664</td>\n",
              "      <td>-0.264882</td>\n",
              "      <td>-1.964389</td>\n",
              "    </tr>\n",
              "    <tr>\n",
              "      <th>7</th>\n",
              "      <td>0.689891</td>\n",
              "      <td>0.688959</td>\n",
              "      <td>-2.778321</td>\n",
              "      <td>0.335685</td>\n",
              "    </tr>\n",
              "    <tr>\n",
              "      <th>8</th>\n",
              "      <td>0.426844</td>\n",
              "      <td>-0.092391</td>\n",
              "      <td>-0.022044</td>\n",
              "      <td>0.849567</td>\n",
              "    </tr>\n",
              "    <tr>\n",
              "      <th>9</th>\n",
              "      <td>-0.400668</td>\n",
              "      <td>-0.417913</td>\n",
              "      <td>0.350527</td>\n",
              "      <td>1.798075</td>\n",
              "    </tr>\n",
              "  </tbody>\n",
              "</table>\n",
              "</div>"
            ],
            "text/plain": [
              "          0         1         2         3\n",
              "0 -0.845414  0.366514  0.729946 -0.605936\n",
              "1  2.377305 -0.355096 -0.396565 -0.419888\n",
              "2 -1.207315  0.505627 -0.129222  0.055994\n",
              "3 -0.777510  0.462492 -0.124346 -1.853105\n",
              "4 -0.390814 -0.337384 -0.315292 -0.045710\n",
              "5  0.212578  0.150169 -0.217418  0.567705\n",
              "6  0.547657  0.071664 -0.264882 -1.964389\n",
              "7  0.689891  0.688959 -2.778321  0.335685\n",
              "8  0.426844 -0.092391 -0.022044  0.849567\n",
              "9 -0.400668 -0.417913  0.350527  1.798075"
            ]
          },
          "metadata": {
            "tags": []
          },
          "execution_count": 30
        }
      ]
    },
    {
      "cell_type": "code",
      "metadata": {
        "id": "a2del2Z2nbo2"
      },
      "source": [
        "pieces = [df[:3], df[5:7]]\n",
        "#tach dataFrame thanh 2 phan dong 0--> 2 va 5-->6"
      ],
      "execution_count": null,
      "outputs": []
    },
    {
      "cell_type": "code",
      "metadata": {
        "id": "fj3yNALWsbiw",
        "outputId": "15cf88c7-9658-469f-e059-a669655b02bb",
        "colab": {
          "base_uri": "https://localhost:8080/",
          "height": 206
        }
      },
      "source": [
        "pd.concat(pieces)\n",
        "#noi 2 phan vua tach "
      ],
      "execution_count": null,
      "outputs": [
        {
          "output_type": "execute_result",
          "data": {
            "text/html": [
              "<div>\n",
              "<style scoped>\n",
              "    .dataframe tbody tr th:only-of-type {\n",
              "        vertical-align: middle;\n",
              "    }\n",
              "\n",
              "    .dataframe tbody tr th {\n",
              "        vertical-align: top;\n",
              "    }\n",
              "\n",
              "    .dataframe thead th {\n",
              "        text-align: right;\n",
              "    }\n",
              "</style>\n",
              "<table border=\"1\" class=\"dataframe\">\n",
              "  <thead>\n",
              "    <tr style=\"text-align: right;\">\n",
              "      <th></th>\n",
              "      <th>0</th>\n",
              "      <th>1</th>\n",
              "      <th>2</th>\n",
              "      <th>3</th>\n",
              "    </tr>\n",
              "  </thead>\n",
              "  <tbody>\n",
              "    <tr>\n",
              "      <th>0</th>\n",
              "      <td>-0.845414</td>\n",
              "      <td>0.366514</td>\n",
              "      <td>0.729946</td>\n",
              "      <td>-0.605936</td>\n",
              "    </tr>\n",
              "    <tr>\n",
              "      <th>1</th>\n",
              "      <td>2.377305</td>\n",
              "      <td>-0.355096</td>\n",
              "      <td>-0.396565</td>\n",
              "      <td>-0.419888</td>\n",
              "    </tr>\n",
              "    <tr>\n",
              "      <th>2</th>\n",
              "      <td>-1.207315</td>\n",
              "      <td>0.505627</td>\n",
              "      <td>-0.129222</td>\n",
              "      <td>0.055994</td>\n",
              "    </tr>\n",
              "    <tr>\n",
              "      <th>5</th>\n",
              "      <td>0.212578</td>\n",
              "      <td>0.150169</td>\n",
              "      <td>-0.217418</td>\n",
              "      <td>0.567705</td>\n",
              "    </tr>\n",
              "    <tr>\n",
              "      <th>6</th>\n",
              "      <td>0.547657</td>\n",
              "      <td>0.071664</td>\n",
              "      <td>-0.264882</td>\n",
              "      <td>-1.964389</td>\n",
              "    </tr>\n",
              "  </tbody>\n",
              "</table>\n",
              "</div>"
            ],
            "text/plain": [
              "          0         1         2         3\n",
              "0 -0.845414  0.366514  0.729946 -0.605936\n",
              "1  2.377305 -0.355096 -0.396565 -0.419888\n",
              "2 -1.207315  0.505627 -0.129222  0.055994\n",
              "5  0.212578  0.150169 -0.217418  0.567705\n",
              "6  0.547657  0.071664 -0.264882 -1.964389"
            ]
          },
          "metadata": {
            "tags": []
          },
          "execution_count": 35
        }
      ]
    },
    {
      "cell_type": "markdown",
      "metadata": {
        "id": "fc52cKf9tBFa"
      },
      "source": [
        "Ngoài ra, ta có thể nối 2 bộ dữ liệu dataFrame bằng lệnh `merge` như sau:"
      ]
    },
    {
      "cell_type": "code",
      "metadata": {
        "id": "mB4Kwsa6s9Tq",
        "outputId": "43a8d0d2-eef8-4c2a-d2e8-360d9d2a1288",
        "colab": {
          "base_uri": "https://localhost:8080/",
          "height": 112
        }
      },
      "source": [
        "left = pd.DataFrame({'key': ['foo', 'foo'], 'lval': [1, 2]})\n",
        "left\n"
      ],
      "execution_count": null,
      "outputs": [
        {
          "output_type": "execute_result",
          "data": {
            "text/html": [
              "<div>\n",
              "<style scoped>\n",
              "    .dataframe tbody tr th:only-of-type {\n",
              "        vertical-align: middle;\n",
              "    }\n",
              "\n",
              "    .dataframe tbody tr th {\n",
              "        vertical-align: top;\n",
              "    }\n",
              "\n",
              "    .dataframe thead th {\n",
              "        text-align: right;\n",
              "    }\n",
              "</style>\n",
              "<table border=\"1\" class=\"dataframe\">\n",
              "  <thead>\n",
              "    <tr style=\"text-align: right;\">\n",
              "      <th></th>\n",
              "      <th>key</th>\n",
              "      <th>lval</th>\n",
              "    </tr>\n",
              "  </thead>\n",
              "  <tbody>\n",
              "    <tr>\n",
              "      <th>0</th>\n",
              "      <td>foo</td>\n",
              "      <td>1</td>\n",
              "    </tr>\n",
              "    <tr>\n",
              "      <th>1</th>\n",
              "      <td>foo</td>\n",
              "      <td>2</td>\n",
              "    </tr>\n",
              "  </tbody>\n",
              "</table>\n",
              "</div>"
            ],
            "text/plain": [
              "   key  lval\n",
              "0  foo     1\n",
              "1  foo     2"
            ]
          },
          "metadata": {
            "tags": []
          },
          "execution_count": 37
        }
      ]
    },
    {
      "cell_type": "code",
      "metadata": {
        "id": "PlYs8XaBtRX-",
        "outputId": "7186219f-6ac7-47d0-df95-e229a2ba9582",
        "colab": {
          "base_uri": "https://localhost:8080/",
          "height": 112
        }
      },
      "source": [
        "right = pd.DataFrame({'key': ['foo', 'foo'], 'rval': [4, 5]})\n",
        "right"
      ],
      "execution_count": null,
      "outputs": [
        {
          "output_type": "execute_result",
          "data": {
            "text/html": [
              "<div>\n",
              "<style scoped>\n",
              "    .dataframe tbody tr th:only-of-type {\n",
              "        vertical-align: middle;\n",
              "    }\n",
              "\n",
              "    .dataframe tbody tr th {\n",
              "        vertical-align: top;\n",
              "    }\n",
              "\n",
              "    .dataframe thead th {\n",
              "        text-align: right;\n",
              "    }\n",
              "</style>\n",
              "<table border=\"1\" class=\"dataframe\">\n",
              "  <thead>\n",
              "    <tr style=\"text-align: right;\">\n",
              "      <th></th>\n",
              "      <th>key</th>\n",
              "      <th>rval</th>\n",
              "    </tr>\n",
              "  </thead>\n",
              "  <tbody>\n",
              "    <tr>\n",
              "      <th>0</th>\n",
              "      <td>foo</td>\n",
              "      <td>4</td>\n",
              "    </tr>\n",
              "    <tr>\n",
              "      <th>1</th>\n",
              "      <td>foo</td>\n",
              "      <td>5</td>\n",
              "    </tr>\n",
              "  </tbody>\n",
              "</table>\n",
              "</div>"
            ],
            "text/plain": [
              "   key  rval\n",
              "0  foo     4\n",
              "1  foo     5"
            ]
          },
          "metadata": {
            "tags": []
          },
          "execution_count": 38
        }
      ]
    },
    {
      "cell_type": "code",
      "metadata": {
        "id": "ttaTGz3ytSHS",
        "outputId": "300ada58-169e-49c8-ff68-753ee2393f10",
        "colab": {
          "base_uri": "https://localhost:8080/",
          "height": 175
        }
      },
      "source": [
        "pd.merge(left, right, on='key')"
      ],
      "execution_count": null,
      "outputs": [
        {
          "output_type": "execute_result",
          "data": {
            "text/html": [
              "<div>\n",
              "<style scoped>\n",
              "    .dataframe tbody tr th:only-of-type {\n",
              "        vertical-align: middle;\n",
              "    }\n",
              "\n",
              "    .dataframe tbody tr th {\n",
              "        vertical-align: top;\n",
              "    }\n",
              "\n",
              "    .dataframe thead th {\n",
              "        text-align: right;\n",
              "    }\n",
              "</style>\n",
              "<table border=\"1\" class=\"dataframe\">\n",
              "  <thead>\n",
              "    <tr style=\"text-align: right;\">\n",
              "      <th></th>\n",
              "      <th>key</th>\n",
              "      <th>lval</th>\n",
              "      <th>rval</th>\n",
              "    </tr>\n",
              "  </thead>\n",
              "  <tbody>\n",
              "    <tr>\n",
              "      <th>0</th>\n",
              "      <td>foo</td>\n",
              "      <td>1</td>\n",
              "      <td>4</td>\n",
              "    </tr>\n",
              "    <tr>\n",
              "      <th>1</th>\n",
              "      <td>foo</td>\n",
              "      <td>1</td>\n",
              "      <td>5</td>\n",
              "    </tr>\n",
              "    <tr>\n",
              "      <th>2</th>\n",
              "      <td>foo</td>\n",
              "      <td>2</td>\n",
              "      <td>4</td>\n",
              "    </tr>\n",
              "    <tr>\n",
              "      <th>3</th>\n",
              "      <td>foo</td>\n",
              "      <td>2</td>\n",
              "      <td>5</td>\n",
              "    </tr>\n",
              "  </tbody>\n",
              "</table>\n",
              "</div>"
            ],
            "text/plain": [
              "   key  lval  rval\n",
              "0  foo     1     4\n",
              "1  foo     1     5\n",
              "2  foo     2     4\n",
              "3  foo     2     5"
            ]
          },
          "metadata": {
            "tags": []
          },
          "execution_count": 39
        }
      ]
    },
    {
      "cell_type": "markdown",
      "metadata": {
        "id": "yD1dJDMXuodh"
      },
      "source": [
        "## Group by trong Python\n",
        "Khi đề cập đến Group by, tức là ta đang nhắc đến một quy trình gồm nhiều bước dưới đây:\n",
        "\n",
        "1.  Chia dữ liệu thành các nhóm dựa trên một số tiêu chí\n",
        "2.  Áp dụng các hàm tính toán cho từng nhóm một cách độc lập\n",
        "3.  Kết hợp các kết quả thành một cấu trúc dữ liệu\n",
        "\n",
        "Chẳng hạn, với một dataFrame như sau:"
      ]
    },
    {
      "cell_type": "code",
      "metadata": {
        "id": "5zwsAbVbxX_E",
        "outputId": "c8f09ee5-5aed-4ccd-ce35-0ab7bc709d65",
        "colab": {
          "base_uri": "https://localhost:8080/",
          "height": 300
        }
      },
      "source": [
        "df = pd.DataFrame({'A': ['foo', 'bar', 'foo', 'bar',\n",
        "                          'foo', 'bar', 'foo', 'foo'],\n",
        "                    'B': ['one', 'one', 'two', 'three',\n",
        "                          'two', 'two', 'one', 'three'],\n",
        "                    'C': np.random.randn(8),\n",
        "                    'D': np.random.randn(8)})\n",
        "df"
      ],
      "execution_count": null,
      "outputs": [
        {
          "output_type": "execute_result",
          "data": {
            "text/html": [
              "<div>\n",
              "<style scoped>\n",
              "    .dataframe tbody tr th:only-of-type {\n",
              "        vertical-align: middle;\n",
              "    }\n",
              "\n",
              "    .dataframe tbody tr th {\n",
              "        vertical-align: top;\n",
              "    }\n",
              "\n",
              "    .dataframe thead th {\n",
              "        text-align: right;\n",
              "    }\n",
              "</style>\n",
              "<table border=\"1\" class=\"dataframe\">\n",
              "  <thead>\n",
              "    <tr style=\"text-align: right;\">\n",
              "      <th></th>\n",
              "      <th>A</th>\n",
              "      <th>B</th>\n",
              "      <th>C</th>\n",
              "      <th>D</th>\n",
              "    </tr>\n",
              "  </thead>\n",
              "  <tbody>\n",
              "    <tr>\n",
              "      <th>0</th>\n",
              "      <td>foo</td>\n",
              "      <td>one</td>\n",
              "      <td>1.306349</td>\n",
              "      <td>1.646776</td>\n",
              "    </tr>\n",
              "    <tr>\n",
              "      <th>1</th>\n",
              "      <td>bar</td>\n",
              "      <td>one</td>\n",
              "      <td>-0.535545</td>\n",
              "      <td>0.085232</td>\n",
              "    </tr>\n",
              "    <tr>\n",
              "      <th>2</th>\n",
              "      <td>foo</td>\n",
              "      <td>two</td>\n",
              "      <td>0.906716</td>\n",
              "      <td>-0.779865</td>\n",
              "    </tr>\n",
              "    <tr>\n",
              "      <th>3</th>\n",
              "      <td>bar</td>\n",
              "      <td>three</td>\n",
              "      <td>0.194231</td>\n",
              "      <td>0.814457</td>\n",
              "    </tr>\n",
              "    <tr>\n",
              "      <th>4</th>\n",
              "      <td>foo</td>\n",
              "      <td>two</td>\n",
              "      <td>-0.265594</td>\n",
              "      <td>-0.584221</td>\n",
              "    </tr>\n",
              "    <tr>\n",
              "      <th>5</th>\n",
              "      <td>bar</td>\n",
              "      <td>two</td>\n",
              "      <td>0.264933</td>\n",
              "      <td>-0.256854</td>\n",
              "    </tr>\n",
              "    <tr>\n",
              "      <th>6</th>\n",
              "      <td>foo</td>\n",
              "      <td>one</td>\n",
              "      <td>-0.091046</td>\n",
              "      <td>-0.596817</td>\n",
              "    </tr>\n",
              "    <tr>\n",
              "      <th>7</th>\n",
              "      <td>foo</td>\n",
              "      <td>three</td>\n",
              "      <td>-0.574646</td>\n",
              "      <td>-0.136811</td>\n",
              "    </tr>\n",
              "  </tbody>\n",
              "</table>\n",
              "</div>"
            ],
            "text/plain": [
              "     A      B         C         D\n",
              "0  foo    one  1.306349  1.646776\n",
              "1  bar    one -0.535545  0.085232\n",
              "2  foo    two  0.906716 -0.779865\n",
              "3  bar  three  0.194231  0.814457\n",
              "4  foo    two -0.265594 -0.584221\n",
              "5  bar    two  0.264933 -0.256854\n",
              "6  foo    one -0.091046 -0.596817\n",
              "7  foo  three -0.574646 -0.136811"
            ]
          },
          "metadata": {
            "tags": []
          },
          "execution_count": 43
        }
      ]
    },
    {
      "cell_type": "code",
      "metadata": {
        "id": "mXhonvOrx0N3",
        "outputId": "ffa7ec15-82a0-4930-f990-a0a2ad3a6beb",
        "colab": {
          "base_uri": "https://localhost:8080/",
          "height": 143
        }
      },
      "source": [
        " #Grouping and then applying the sum() function to the resulting groups.\n",
        " df.groupby('A').sum()"
      ],
      "execution_count": null,
      "outputs": [
        {
          "output_type": "execute_result",
          "data": {
            "text/html": [
              "<div>\n",
              "<style scoped>\n",
              "    .dataframe tbody tr th:only-of-type {\n",
              "        vertical-align: middle;\n",
              "    }\n",
              "\n",
              "    .dataframe tbody tr th {\n",
              "        vertical-align: top;\n",
              "    }\n",
              "\n",
              "    .dataframe thead th {\n",
              "        text-align: right;\n",
              "    }\n",
              "</style>\n",
              "<table border=\"1\" class=\"dataframe\">\n",
              "  <thead>\n",
              "    <tr style=\"text-align: right;\">\n",
              "      <th></th>\n",
              "      <th>C</th>\n",
              "      <th>D</th>\n",
              "    </tr>\n",
              "    <tr>\n",
              "      <th>A</th>\n",
              "      <th></th>\n",
              "      <th></th>\n",
              "    </tr>\n",
              "  </thead>\n",
              "  <tbody>\n",
              "    <tr>\n",
              "      <th>bar</th>\n",
              "      <td>-0.076381</td>\n",
              "      <td>0.642835</td>\n",
              "    </tr>\n",
              "    <tr>\n",
              "      <th>foo</th>\n",
              "      <td>1.281780</td>\n",
              "      <td>-0.450939</td>\n",
              "    </tr>\n",
              "  </tbody>\n",
              "</table>\n",
              "</div>"
            ],
            "text/plain": [
              "            C         D\n",
              "A                      \n",
              "bar -0.076381  0.642835\n",
              "foo  1.281780 -0.450939"
            ]
          },
          "metadata": {
            "tags": []
          },
          "execution_count": 44
        }
      ]
    },
    {
      "cell_type": "code",
      "metadata": {
        "id": "sJ79SxFayXai",
        "outputId": "36646aac-033b-4e9c-c3ec-6300c8bb79e3",
        "colab": {
          "base_uri": "https://localhost:8080/",
          "height": 269
        }
      },
      "source": [
        "#Grouping by multiple columns forms a hierarchical index, and again we can apply the sum() function.\n",
        "df.groupby(['A', 'B']).sum()"
      ],
      "execution_count": null,
      "outputs": [
        {
          "output_type": "execute_result",
          "data": {
            "text/html": [
              "<div>\n",
              "<style scoped>\n",
              "    .dataframe tbody tr th:only-of-type {\n",
              "        vertical-align: middle;\n",
              "    }\n",
              "\n",
              "    .dataframe tbody tr th {\n",
              "        vertical-align: top;\n",
              "    }\n",
              "\n",
              "    .dataframe thead th {\n",
              "        text-align: right;\n",
              "    }\n",
              "</style>\n",
              "<table border=\"1\" class=\"dataframe\">\n",
              "  <thead>\n",
              "    <tr style=\"text-align: right;\">\n",
              "      <th></th>\n",
              "      <th></th>\n",
              "      <th>C</th>\n",
              "      <th>D</th>\n",
              "    </tr>\n",
              "    <tr>\n",
              "      <th>A</th>\n",
              "      <th>B</th>\n",
              "      <th></th>\n",
              "      <th></th>\n",
              "    </tr>\n",
              "  </thead>\n",
              "  <tbody>\n",
              "    <tr>\n",
              "      <th rowspan=\"3\" valign=\"top\">bar</th>\n",
              "      <th>one</th>\n",
              "      <td>-0.535545</td>\n",
              "      <td>0.085232</td>\n",
              "    </tr>\n",
              "    <tr>\n",
              "      <th>three</th>\n",
              "      <td>0.194231</td>\n",
              "      <td>0.814457</td>\n",
              "    </tr>\n",
              "    <tr>\n",
              "      <th>two</th>\n",
              "      <td>0.264933</td>\n",
              "      <td>-0.256854</td>\n",
              "    </tr>\n",
              "    <tr>\n",
              "      <th rowspan=\"3\" valign=\"top\">foo</th>\n",
              "      <th>one</th>\n",
              "      <td>1.215304</td>\n",
              "      <td>1.049958</td>\n",
              "    </tr>\n",
              "    <tr>\n",
              "      <th>three</th>\n",
              "      <td>-0.574646</td>\n",
              "      <td>-0.136811</td>\n",
              "    </tr>\n",
              "    <tr>\n",
              "      <th>two</th>\n",
              "      <td>0.641122</td>\n",
              "      <td>-1.364086</td>\n",
              "    </tr>\n",
              "  </tbody>\n",
              "</table>\n",
              "</div>"
            ],
            "text/plain": [
              "                  C         D\n",
              "A   B                        \n",
              "bar one   -0.535545  0.085232\n",
              "    three  0.194231  0.814457\n",
              "    two    0.264933 -0.256854\n",
              "foo one    1.215304  1.049958\n",
              "    three -0.574646 -0.136811\n",
              "    two    0.641122 -1.364086"
            ]
          },
          "metadata": {
            "tags": []
          },
          "execution_count": 45
        }
      ]
    },
    {
      "cell_type": "markdown",
      "metadata": {
        "id": "C-jcJVa2O3Cd"
      },
      "source": [
        "# Thực hành với data Iris\n",
        "Tiếp theo chúng ta sẽ tiến hành thực hành trên data Iris."
      ]
    },
    {
      "cell_type": "code",
      "metadata": {
        "id": "Ad_ks-LhXDeO"
      },
      "source": [
        "#Load cac goi lenh\n",
        "from sklearn.datasets import load_iris\n",
        "import pandas as pd\n",
        "import numpy as np\n",
        "import seaborn as sns\n",
        "\n",
        "#Tao DataFrame\n",
        "dataset=load_iris()\n",
        "data_iris=pd.DataFrame(dataset['data'],columns=[\"Petal length\",\"Petal Width\",\"Sepal Length\",\"Sepal Width\"])\n",
        "data_iris['Species']=dataset['target']\n",
        "data_iris['Species']=data_iris['Species'].apply(lambda x: dataset['target_names'][x])"
      ],
      "execution_count": 20,
      "outputs": []
    },
    {
      "cell_type": "markdown",
      "metadata": {
        "id": "-JA9Ht1yY77w"
      },
      "source": [
        "Thử in ra 5 giá trị đầu tiên với lệnh head()"
      ]
    },
    {
      "cell_type": "code",
      "metadata": {
        "id": "GDzLI1nYZAre",
        "outputId": "f9e8b673-2135-4834-9166-7212e2467d04",
        "colab": {
          "base_uri": "https://localhost:8080/",
          "height": 206
        }
      },
      "source": [
        "data_iris.head()"
      ],
      "execution_count": 21,
      "outputs": [
        {
          "output_type": "execute_result",
          "data": {
            "text/html": [
              "<div>\n",
              "<style scoped>\n",
              "    .dataframe tbody tr th:only-of-type {\n",
              "        vertical-align: middle;\n",
              "    }\n",
              "\n",
              "    .dataframe tbody tr th {\n",
              "        vertical-align: top;\n",
              "    }\n",
              "\n",
              "    .dataframe thead th {\n",
              "        text-align: right;\n",
              "    }\n",
              "</style>\n",
              "<table border=\"1\" class=\"dataframe\">\n",
              "  <thead>\n",
              "    <tr style=\"text-align: right;\">\n",
              "      <th></th>\n",
              "      <th>Petal length</th>\n",
              "      <th>Petal Width</th>\n",
              "      <th>Sepal Length</th>\n",
              "      <th>Sepal Width</th>\n",
              "      <th>Species</th>\n",
              "    </tr>\n",
              "  </thead>\n",
              "  <tbody>\n",
              "    <tr>\n",
              "      <th>0</th>\n",
              "      <td>5.1</td>\n",
              "      <td>3.5</td>\n",
              "      <td>1.4</td>\n",
              "      <td>0.2</td>\n",
              "      <td>setosa</td>\n",
              "    </tr>\n",
              "    <tr>\n",
              "      <th>1</th>\n",
              "      <td>4.9</td>\n",
              "      <td>3.0</td>\n",
              "      <td>1.4</td>\n",
              "      <td>0.2</td>\n",
              "      <td>setosa</td>\n",
              "    </tr>\n",
              "    <tr>\n",
              "      <th>2</th>\n",
              "      <td>4.7</td>\n",
              "      <td>3.2</td>\n",
              "      <td>1.3</td>\n",
              "      <td>0.2</td>\n",
              "      <td>setosa</td>\n",
              "    </tr>\n",
              "    <tr>\n",
              "      <th>3</th>\n",
              "      <td>4.6</td>\n",
              "      <td>3.1</td>\n",
              "      <td>1.5</td>\n",
              "      <td>0.2</td>\n",
              "      <td>setosa</td>\n",
              "    </tr>\n",
              "    <tr>\n",
              "      <th>4</th>\n",
              "      <td>5.0</td>\n",
              "      <td>3.6</td>\n",
              "      <td>1.4</td>\n",
              "      <td>0.2</td>\n",
              "      <td>setosa</td>\n",
              "    </tr>\n",
              "  </tbody>\n",
              "</table>\n",
              "</div>"
            ],
            "text/plain": [
              "   Petal length  Petal Width  Sepal Length  Sepal Width Species\n",
              "0           5.1          3.5           1.4          0.2  setosa\n",
              "1           4.9          3.0           1.4          0.2  setosa\n",
              "2           4.7          3.2           1.3          0.2  setosa\n",
              "3           4.6          3.1           1.5          0.2  setosa\n",
              "4           5.0          3.6           1.4          0.2  setosa"
            ]
          },
          "metadata": {
            "tags": []
          },
          "execution_count": 21
        }
      ]
    },
    {
      "cell_type": "markdown",
      "metadata": {
        "id": "-lSHtmgwZVv7"
      },
      "source": [
        "In ra kích cỡ dataFrame với lệnh shape()"
      ]
    },
    {
      "cell_type": "code",
      "metadata": {
        "id": "fjiDW3b4ZciL",
        "outputId": "0e91f4fa-1a2d-4c9a-c599-050e87b2e294",
        "colab": {
          "base_uri": "https://localhost:8080/",
          "height": 36
        }
      },
      "source": [
        "print(data_iris.shape)"
      ],
      "execution_count": 22,
      "outputs": [
        {
          "output_type": "stream",
          "text": [
            "(150, 5)\n"
          ],
          "name": "stdout"
        }
      ]
    },
    {
      "cell_type": "code",
      "metadata": {
        "id": "-Xt_5s_RZ8ED",
        "outputId": "45b17d36-efb5-4fdf-b740-210bd59a62c2",
        "colab": {
          "base_uri": "https://localhost:8080/",
          "height": 184
        }
      },
      "source": [
        "print(data_iris.describe())"
      ],
      "execution_count": 23,
      "outputs": [
        {
          "output_type": "stream",
          "text": [
            "       Petal length  Petal Width  Sepal Length  Sepal Width\n",
            "count    150.000000   150.000000    150.000000   150.000000\n",
            "mean       5.843333     3.057333      3.758000     1.199333\n",
            "std        0.828066     0.435866      1.765298     0.762238\n",
            "min        4.300000     2.000000      1.000000     0.100000\n",
            "25%        5.100000     2.800000      1.600000     0.300000\n",
            "50%        5.800000     3.000000      4.350000     1.300000\n",
            "75%        6.400000     3.300000      5.100000     1.800000\n",
            "max        7.900000     4.400000      6.900000     2.500000\n"
          ],
          "name": "stdout"
        }
      ]
    },
    {
      "cell_type": "code",
      "metadata": {
        "id": "yBX5dO-rZ-3V",
        "outputId": "c8fde691-01a9-4314-af5e-76388f1e2d2a",
        "colab": {
          "base_uri": "https://localhost:8080/",
          "height": 240
        }
      },
      "source": [
        "data_iris.info()"
      ],
      "execution_count": 24,
      "outputs": [
        {
          "output_type": "stream",
          "text": [
            "<class 'pandas.core.frame.DataFrame'>\n",
            "RangeIndex: 150 entries, 0 to 149\n",
            "Data columns (total 5 columns):\n",
            " #   Column        Non-Null Count  Dtype  \n",
            "---  ------        --------------  -----  \n",
            " 0   Petal length  150 non-null    float64\n",
            " 1   Petal Width   150 non-null    float64\n",
            " 2   Sepal Length  150 non-null    float64\n",
            " 3   Sepal Width   150 non-null    float64\n",
            " 4   Species       150 non-null    object \n",
            "dtypes: float64(4), object(1)\n",
            "memory usage: 6.0+ KB\n"
          ],
          "name": "stdout"
        }
      ]
    },
    {
      "cell_type": "code",
      "metadata": {
        "id": "mYLyhRh8aJFs",
        "outputId": "b5418de7-fe70-417f-f9d0-348c61be1836",
        "colab": {
          "base_uri": "https://localhost:8080/",
          "height": 129
        }
      },
      "source": [
        "data_iris.isnull().sum()"
      ],
      "execution_count": 25,
      "outputs": [
        {
          "output_type": "execute_result",
          "data": {
            "text/plain": [
              "Petal length    0\n",
              "Petal Width     0\n",
              "Sepal Length    0\n",
              "Sepal Width     0\n",
              "Species         0\n",
              "dtype: int64"
            ]
          },
          "metadata": {
            "tags": []
          },
          "execution_count": 25
        }
      ]
    },
    {
      "cell_type": "code",
      "metadata": {
        "id": "KRlu-aQUaM15",
        "outputId": "4672f0f2-def1-43dc-d324-50e12dea3163",
        "colab": {
          "base_uri": "https://localhost:8080/",
          "height": 745
        }
      },
      "source": [
        "sns.pairplot(data_iris)"
      ],
      "execution_count": 13,
      "outputs": [
        {
          "output_type": "execute_result",
          "data": {
            "text/plain": [
              "<seaborn.axisgrid.PairGrid at 0x7f73a0c0aa90>"
            ]
          },
          "metadata": {
            "tags": []
          },
          "execution_count": 13
        },
        {
          "output_type": "display_data",
          "data": {
            "image/png": "[encoded data removed]",
            "text/plain": [
              "<Figure size 720x720 with 20 Axes>"
            ]
          },
          "metadata": {
            "tags": [],
            "needs_background": "light"
          }
        }
      ]
    },
    {
      "cell_type": "code",
      "metadata": {
        "id": "3y7pkjF_aWOd",
        "outputId": "b270ad9a-1a8d-46be-d42d-50ea50cbf78e",
        "colab": {
          "base_uri": "https://localhost:8080/",
          "height": 669
        }
      },
      "source": [
        "plt.figure(figsize=(10,11))\n",
        "sns.heatmap(data_iris.corr(),annot=True)\n",
        "plt.plot()"
      ],
      "execution_count": 26,
      "outputs": [
        {
          "output_type": "execute_result",
          "data": {
            "text/plain": [
              "[]"
            ]
          },
          "metadata": {
            "tags": []
          },
          "execution_count": 26
        },
        {
          "output_type": "display_data",
          "data": {
            "image/png": "[encoded data removed]",
            "text/plain": [
              "<Figure size 720x792 with 2 Axes>"
            ]
          },
          "metadata": {
            "tags": [],
            "needs_background": "light"
          }
        }
      ]
    },
    {
      "cell_type": "code",
      "metadata": {
        "id": "roTQ2u1daxl_",
        "outputId": "1e89117b-0eee-4730-881c-e780d6973bbc",
        "colab": {
          "base_uri": "https://localhost:8080/",
          "height": 225
        }
      },
      "source": [
        "sns.FacetGrid(data_iris,hue=\"Species\")\\\n",
        ".map(plt.scatter,\"Sepal Length\",\"Sepal Width\")\\\n",
        ".add_legend()\n",
        "plt.show()"
      ],
      "execution_count": 27,
      "outputs": [
        {
          "output_type": "display_data",
          "data": {
            "image/png": "[encoded data removed]",
            "text/plain": [
              "<Figure size 300.75x216 with 1 Axes>"
            ]
          },
          "metadata": {
            "tags": [],
            "needs_background": "light"
          }
        }
      ]
    },
    {
      "cell_type": "code",
      "metadata": {
        "id": "01iw-1awbRfS",
        "outputId": "7f12fcf3-9597-422a-b14f-375d07d55571",
        "colab": {
          "base_uri": "https://localhost:8080/",
          "height": 225
        }
      },
      "source": [
        "sns.FacetGrid(data_iris,hue=\"Species\")\\\n",
        ".map(plt.scatter,\"Petal length\",\"Petal Width\")\\\n",
        ".add_legend()\n",
        "plt.show()"
      ],
      "execution_count": 28,
      "outputs": [
        {
          "output_type": "display_data",
          "data": {
            "image/png": "[encoded data removed]",
            "text/plain": [
              "<Figure size 300.75x216 with 1 Axes>"
            ]
          },
          "metadata": {
            "tags": [],
            "needs_background": "light"
          }
        }
      ]
    },
    {
      "cell_type": "code",
      "metadata": {
        "id": "AqbOTK0KbgyQ",
        "outputId": "cfa6acbe-be03-4cd7-c1fe-139dda19cb3a",
        "colab": {
          "base_uri": "https://localhost:8080/",
          "height": 625
        }
      },
      "source": [
        "plt.figure(figsize=(12,10))\n",
        "plt.subplot(2,2,1)\n",
        "sns.violinplot(x=\"Species\",y=\"Sepal Length\",data=data_iris)\n",
        "plt.subplot(2,2,2)\n",
        "sns.violinplot(x=\"Species\",y=\"Sepal Width\",data=data_iris)\n",
        "plt.subplot(2,2,3)\n",
        "sns.violinplot(x=\"Species\",y=\"Petal length\",data=data_iris)\n",
        "plt.subplot(2,2,4)\n",
        "sns.violinplot(x=\"Species\",y=\"Petal Width\",data=data_iris)"
      ],
      "execution_count": 29,
      "outputs": [
        {
          "output_type": "execute_result",
          "data": {
            "text/plain": [
              "<matplotlib.axes._subplots.AxesSubplot at 0x7f739b91c940>"
            ]
          },
          "metadata": {
            "tags": []
          },
          "execution_count": 29
        },
        {
          "output_type": "display_data",
          "data": {
            "image/png": "[encoded data removed]",
            "text/plain": [
              "<Figure size 864x720 with 4 Axes>"
            ]
          },
          "metadata": {
            "tags": [],
            "needs_background": "light"
          }
        }
      ]
    },
    {
      "cell_type": "code",
      "metadata": {
        "id": "J3-gF-uOburj",
        "outputId": "349239cb-699c-4863-b7c0-f386b0710892",
        "colab": {
          "base_uri": "https://localhost:8080/",
          "height": 625
        }
      },
      "source": [
        "plt.figure(figsize=(12,10))\n",
        "plt.subplot(2,2,1)\n",
        "sns.boxplot(x=\"Species\",y=\"Sepal Length\",data=data_iris)\n",
        "plt.subplot(2,2,2)\n",
        "sns.boxplot(x=\"Species\",y=\"Sepal Width\",data=data_iris)\n",
        "plt.subplot(2,2,3)\n",
        "sns.boxplot(x=\"Species\",y=\"Petal length\",data=data_iris)\n",
        "plt.subplot(2,2,4)\n",
        "sns.boxplot(x=\"Species\",y=\"Petal Width\",data=data_iris)"
      ],
      "execution_count": 30,
      "outputs": [
        {
          "output_type": "execute_result",
          "data": {
            "text/plain": [
              "<matplotlib.axes._subplots.AxesSubplot at 0x7f739b75c080>"
            ]
          },
          "metadata": {
            "tags": []
          },
          "execution_count": 30
        },
        {
          "output_type": "display_data",
          "data": {
            "image/png": "[encoded data removed]",
            "text/plain": [
              "<Figure size 864x720 with 4 Axes>"
            ]
          },
          "metadata": {
            "tags": [],
            "needs_background": "light"
          }
        }
      ]
    },
    {
      "cell_type": "markdown",
      "metadata": {
        "id": "zg5IQ9E2cTiP"
      },
      "source": [
        "##Group by trong data Iris\n",
        "\n"
      ]
    },
    {
      "cell_type": "code",
      "metadata": {
        "id": "rqZYo8qIegF7",
        "outputId": "1b68d7bb-dec1-4aec-b9fb-39f1f10f704c",
        "colab": {
          "base_uri": "https://localhost:8080/",
          "height": 36
        }
      },
      "source": [
        "len(set(data_iris.Species))"
      ],
      "execution_count": 34,
      "outputs": [
        {
          "output_type": "execute_result",
          "data": {
            "text/plain": [
              "3"
            ]
          },
          "metadata": {
            "tags": []
          },
          "execution_count": 34
        }
      ]
    },
    {
      "cell_type": "code",
      "metadata": {
        "id": "KzjHshigb9b0",
        "outputId": "d167be1e-7ea0-4298-c8ef-6f8751cfd652",
        "colab": {
          "base_uri": "https://localhost:8080/",
          "height": 1000
        }
      },
      "source": [
        "    # To determine the different species within the dataset\n",
        "print('[*] The number of unique species is: {}'.format(len(set(data_iris.Species))))\n",
        "print('\\n[*] The unique species in the dataset are:  \\n{}'.format(set(data_iris.Species)))\n",
        "    \n",
        "    # Let's now group these by species\n",
        "    group_by_species = data_iris.groupby('Species')\n",
        "    \n",
        "    # Get the group and their indicies\n",
        "    print('\\n[*] Iris dataset now grouped by species \\n {}'.format(group_by_species.indices))\n",
        "    \n",
        "    # Let's get the keys for above\n",
        "    print('\\n[*] Iris dataset keys \\n {}'.format(group_by_species.indices.keys()))\n",
        "\n",
        "    # Let's get the values for above\n",
        "    print('\\n[*] Iris dataset values \\n {}'.format(group_by_species.indices.values()))\n",
        "\n",
        "    # Iterating through the group\n",
        "    for key, value in group_by_species:\n",
        "        print('\\n \\\\//-->>   Group Starts Here   <<--\\\\//')\n",
        "        print('\\n [*]{0} {1} \\n'.format(key, value))\n",
        "        print('\\n \\\\//-->>   Group Ends Here   <<--\\\\// \\n')\n",
        "\n",
        "\n",
        "    # Rather than iterating, we could have just view the contents of the list\n",
        "    print('\\n\\n[*] List view - Datasets group by species \\n {}'.format(list(group_by_species)))\n",
        "\n",
        "    # Get a specific group\n",
        "    print('\\n[*] Data for the Iris-setosa group \\n {}'.format(group_by_species.get_group('setosa')))\n"
      ],
      "execution_count": 38,
      "outputs": [
        {
          "output_type": "stream",
          "text": [
            "[*] The number of unique species is: 3\n",
            "\n",
            "[*] The unique species in the dataset are:  \n",
            "{'versicolor', 'setosa', 'virginica'}\n",
            "\n",
            "[*] Iris dataset now grouped by species \n",
            " {'setosa': array([ 0,  1,  2,  3,  4,  5,  6,  7,  8,  9, 10, 11, 12, 13, 14, 15, 16,\n",
            "       17, 18, 19, 20, 21, 22, 23, 24, 25, 26, 27, 28, 29, 30, 31, 32, 33,\n",
            "       34, 35, 36, 37, 38, 39, 40, 41, 42, 43, 44, 45, 46, 47, 48, 49]), 'versicolor': array([50, 51, 52, 53, 54, 55, 56, 57, 58, 59, 60, 61, 62, 63, 64, 65, 66,\n",
            "       67, 68, 69, 70, 71, 72, 73, 74, 75, 76, 77, 78, 79, 80, 81, 82, 83,\n",
            "       84, 85, 86, 87, 88, 89, 90, 91, 92, 93, 94, 95, 96, 97, 98, 99]), 'virginica': array([100, 101, 102, 103, 104, 105, 106, 107, 108, 109, 110, 111, 112,\n",
            "       113, 114, 115, 116, 117, 118, 119, 120, 121, 122, 123, 124, 125,\n",
            "       126, 127, 128, 129, 130, 131, 132, 133, 134, 135, 136, 137, 138,\n",
            "       139, 140, 141, 142, 143, 144, 145, 146, 147, 148, 149])}\n",
            "\n",
            "[*] Iris dataset keys \n",
            " dict_keys(['setosa', 'versicolor', 'virginica'])\n",
            "\n",
            "[*] Iris dataset values \n",
            " dict_values([array([ 0,  1,  2,  3,  4,  5,  6,  7,  8,  9, 10, 11, 12, 13, 14, 15, 16,\n",
            "       17, 18, 19, 20, 21, 22, 23, 24, 25, 26, 27, 28, 29, 30, 31, 32, 33,\n",
            "       34, 35, 36, 37, 38, 39, 40, 41, 42, 43, 44, 45, 46, 47, 48, 49]), array([50, 51, 52, 53, 54, 55, 56, 57, 58, 59, 60, 61, 62, 63, 64, 65, 66,\n",
            "       67, 68, 69, 70, 71, 72, 73, 74, 75, 76, 77, 78, 79, 80, 81, 82, 83,\n",
            "       84, 85, 86, 87, 88, 89, 90, 91, 92, 93, 94, 95, 96, 97, 98, 99]), array([100, 101, 102, 103, 104, 105, 106, 107, 108, 109, 110, 111, 112,\n",
            "       113, 114, 115, 116, 117, 118, 119, 120, 121, 122, 123, 124, 125,\n",
            "       126, 127, 128, 129, 130, 131, 132, 133, 134, 135, 136, 137, 138,\n",
            "       139, 140, 141, 142, 143, 144, 145, 146, 147, 148, 149])])\n",
            "\n",
            " \\//-->>   Group Starts Here   <<--\\//\n",
            "\n",
            " [*]setosa     Petal length  Petal Width  Sepal Length  Sepal Width Species\n",
            "0            5.1          3.5           1.4          0.2  setosa\n",
            "1            4.9          3.0           1.4          0.2  setosa\n",
            "2            4.7          3.2           1.3          0.2  setosa\n",
            "3            4.6          3.1           1.5          0.2  setosa\n",
            "4            5.0          3.6           1.4          0.2  setosa\n",
            "5            5.4          3.9           1.7          0.4  setosa\n",
            "6            4.6          3.4           1.4          0.3  setosa\n",
            "7            5.0          3.4           1.5          0.2  setosa\n",
            "8            4.4          2.9           1.4          0.2  setosa\n",
            "9            4.9          3.1           1.5          0.1  setosa\n",
            "10           5.4          3.7           1.5          0.2  setosa\n",
            "11           4.8          3.4           1.6          0.2  setosa\n",
            "12           4.8          3.0           1.4          0.1  setosa\n",
            "13           4.3          3.0           1.1          0.1  setosa\n",
            "14           5.8          4.0           1.2          0.2  setosa\n",
            "15           5.7          4.4           1.5          0.4  setosa\n",
            "16           5.4          3.9           1.3          0.4  setosa\n",
            "17           5.1          3.5           1.4          0.3  setosa\n",
            "18           5.7          3.8           1.7          0.3  setosa\n",
            "19           5.1          3.8           1.5          0.3  setosa\n",
            "20           5.4          3.4           1.7          0.2  setosa\n",
            "21           5.1          3.7           1.5          0.4  setosa\n",
            "22           4.6          3.6           1.0          0.2  setosa\n",
            "23           5.1          3.3           1.7          0.5  setosa\n",
            "24           4.8          3.4           1.9          0.2  setosa\n",
            "25           5.0          3.0           1.6          0.2  setosa\n",
            "26           5.0          3.4           1.6          0.4  setosa\n",
            "27           5.2          3.5           1.5          0.2  setosa\n",
            "28           5.2          3.4           1.4          0.2  setosa\n",
            "29           4.7          3.2           1.6          0.2  setosa\n",
            "30           4.8          3.1           1.6          0.2  setosa\n",
            "31           5.4          3.4           1.5          0.4  setosa\n",
            "32           5.2          4.1           1.5          0.1  setosa\n",
            "33           5.5          4.2           1.4          0.2  setosa\n",
            "34           4.9          3.1           1.5          0.2  setosa\n",
            "35           5.0          3.2           1.2          0.2  setosa\n",
            "36           5.5          3.5           1.3          0.2  setosa\n",
            "37           4.9          3.6           1.4          0.1  setosa\n",
            "38           4.4          3.0           1.3          0.2  setosa\n",
            "39           5.1          3.4           1.5          0.2  setosa\n",
            "40           5.0          3.5           1.3          0.3  setosa\n",
            "41           4.5          2.3           1.3          0.3  setosa\n",
            "42           4.4          3.2           1.3          0.2  setosa\n",
            "43           5.0          3.5           1.6          0.6  setosa\n",
            "44           5.1          3.8           1.9          0.4  setosa\n",
            "45           4.8          3.0           1.4          0.3  setosa\n",
            "46           5.1          3.8           1.6          0.2  setosa\n",
            "47           4.6          3.2           1.4          0.2  setosa\n",
            "48           5.3          3.7           1.5          0.2  setosa\n",
            "49           5.0          3.3           1.4          0.2  setosa \n",
            "\n",
            "\n",
            " \\//-->>   Group Ends Here   <<--\\// \n",
            "\n",
            "\n",
            " \\//-->>   Group Starts Here   <<--\\//\n",
            "\n",
            " [*]versicolor     Petal length  Petal Width  Sepal Length  Sepal Width     Species\n",
            "50           7.0          3.2           4.7          1.4  versicolor\n",
            "51           6.4          3.2           4.5          1.5  versicolor\n",
            "52           6.9          3.1           4.9          1.5  versicolor\n",
            "53           5.5          2.3           4.0          1.3  versicolor\n",
            "54           6.5          2.8           4.6          1.5  versicolor\n",
            "55           5.7          2.8           4.5          1.3  versicolor\n",
            "56           6.3          3.3           4.7          1.6  versicolor\n",
            "57           4.9          2.4           3.3          1.0  versicolor\n",
            "58           6.6          2.9           4.6          1.3  versicolor\n",
            "59           5.2          2.7           3.9          1.4  versicolor\n",
            "60           5.0          2.0           3.5          1.0  versicolor\n",
            "61           5.9          3.0           4.2          1.5  versicolor\n",
            "62           6.0          2.2           4.0          1.0  versicolor\n",
            "63           6.1          2.9           4.7          1.4  versicolor\n",
            "64           5.6          2.9           3.6          1.3  versicolor\n",
            "65           6.7          3.1           4.4          1.4  versicolor\n",
            "66           5.6          3.0           4.5          1.5  versicolor\n",
            "67           5.8          2.7           4.1          1.0  versicolor\n",
            "68           6.2          2.2           4.5          1.5  versicolor\n",
            "69           5.6          2.5           3.9          1.1  versicolor\n",
            "70           5.9          3.2           4.8          1.8  versicolor\n",
            "71           6.1          2.8           4.0          1.3  versicolor\n",
            "72           6.3          2.5           4.9          1.5  versicolor\n",
            "73           6.1          2.8           4.7          1.2  versicolor\n",
            "74           6.4          2.9           4.3          1.3  versicolor\n",
            "75           6.6          3.0           4.4          1.4  versicolor\n",
            "76           6.8          2.8           4.8          1.4  versicolor\n",
            "77           6.7          3.0           5.0          1.7  versicolor\n",
            "78           6.0          2.9           4.5          1.5  versicolor\n",
            "79           5.7          2.6           3.5          1.0  versicolor\n",
            "80           5.5          2.4           3.8          1.1  versicolor\n",
            "81           5.5          2.4           3.7          1.0  versicolor\n",
            "82           5.8          2.7           3.9          1.2  versicolor\n",
            "83           6.0          2.7           5.1          1.6  versicolor\n",
            "84           5.4          3.0           4.5          1.5  versicolor\n",
            "85           6.0          3.4           4.5          1.6  versicolor\n",
            "86           6.7          3.1           4.7          1.5  versicolor\n",
            "87           6.3          2.3           4.4          1.3  versicolor\n",
            "88           5.6          3.0           4.1          1.3  versicolor\n",
            "89           5.5          2.5           4.0          1.3  versicolor\n",
            "90           5.5          2.6           4.4          1.2  versicolor\n",
            "91           6.1          3.0           4.6          1.4  versicolor\n",
            "92           5.8          2.6           4.0          1.2  versicolor\n",
            "93           5.0          2.3           3.3          1.0  versicolor\n",
            "94           5.6          2.7           4.2          1.3  versicolor\n",
            "95           5.7          3.0           4.2          1.2  versicolor\n",
            "96           5.7          2.9           4.2          1.3  versicolor\n",
            "97           6.2          2.9           4.3          1.3  versicolor\n",
            "98           5.1          2.5           3.0          1.1  versicolor\n",
            "99           5.7          2.8           4.1          1.3  versicolor \n",
            "\n",
            "\n",
            " \\//-->>   Group Ends Here   <<--\\// \n",
            "\n",
            "\n",
            " \\//-->>   Group Starts Here   <<--\\//\n",
            "\n",
            " [*]virginica      Petal length  Petal Width  Sepal Length  Sepal Width    Species\n",
            "100           6.3          3.3           6.0          2.5  virginica\n",
            "101           5.8          2.7           5.1          1.9  virginica\n",
            "102           7.1          3.0           5.9          2.1  virginica\n",
            "103           6.3          2.9           5.6          1.8  virginica\n",
            "104           6.5          3.0           5.8          2.2  virginica\n",
            "105           7.6          3.0           6.6          2.1  virginica\n",
            "106           4.9          2.5           4.5          1.7  virginica\n",
            "107           7.3          2.9           6.3          1.8  virginica\n",
            "108           6.7          2.5           5.8          1.8  virginica\n",
            "109           7.2          3.6           6.1          2.5  virginica\n",
            "110           6.5          3.2           5.1          2.0  virginica\n",
            "111           6.4          2.7           5.3          1.9  virginica\n",
            "112           6.8          3.0           5.5          2.1  virginica\n",
            "113           5.7          2.5           5.0          2.0  virginica\n",
            "114           5.8          2.8           5.1          2.4  virginica\n",
            "115           6.4          3.2           5.3          2.3  virginica\n",
            "116           6.5          3.0           5.5          1.8  virginica\n",
            "117           7.7          3.8           6.7          2.2  virginica\n",
            "118           7.7          2.6           6.9          2.3  virginica\n",
            "119           6.0          2.2           5.0          1.5  virginica\n",
            "120           6.9          3.2           5.7          2.3  virginica\n",
            "121           5.6          2.8           4.9          2.0  virginica\n",
            "122           7.7          2.8           6.7          2.0  virginica\n",
            "123           6.3          2.7           4.9          1.8  virginica\n",
            "124           6.7          3.3           5.7          2.1  virginica\n",
            "125           7.2          3.2           6.0          1.8  virginica\n",
            "126           6.2          2.8           4.8          1.8  virginica\n",
            "127           6.1          3.0           4.9          1.8  virginica\n",
            "128           6.4          2.8           5.6          2.1  virginica\n",
            "129           7.2          3.0           5.8          1.6  virginica\n",
            "130           7.4          2.8           6.1          1.9  virginica\n",
            "131           7.9          3.8           6.4          2.0  virginica\n",
            "132           6.4          2.8           5.6          2.2  virginica\n",
            "133           6.3          2.8           5.1          1.5  virginica\n",
            "134           6.1          2.6           5.6          1.4  virginica\n",
            "135           7.7          3.0           6.1          2.3  virginica\n",
            "136           6.3          3.4           5.6          2.4  virginica\n",
            "137           6.4          3.1           5.5          1.8  virginica\n",
            "138           6.0          3.0           4.8          1.8  virginica\n",
            "139           6.9          3.1           5.4          2.1  virginica\n",
            "140           6.7          3.1           5.6          2.4  virginica\n",
            "141           6.9          3.1           5.1          2.3  virginica\n",
            "142           5.8          2.7           5.1          1.9  virginica\n",
            "143           6.8          3.2           5.9          2.3  virginica\n",
            "144           6.7          3.3           5.7          2.5  virginica\n",
            "145           6.7          3.0           5.2          2.3  virginica\n",
            "146           6.3          2.5           5.0          1.9  virginica\n",
            "147           6.5          3.0           5.2          2.0  virginica\n",
            "148           6.2          3.4           5.4          2.3  virginica\n",
            "149           5.9          3.0           5.1          1.8  virginica \n",
            "\n",
            "\n",
            " \\//-->>   Group Ends Here   <<--\\// \n",
            "\n",
            "\n",
            "\n",
            "[*] List view - Datasets group by species \n",
            " [('setosa',     Petal length  Petal Width  Sepal Length  Sepal Width Species\n",
            "0            5.1          3.5           1.4          0.2  setosa\n",
            "1            4.9          3.0           1.4          0.2  setosa\n",
            "2            4.7          3.2           1.3          0.2  setosa\n",
            "3            4.6          3.1           1.5          0.2  setosa\n",
            "4            5.0          3.6           1.4          0.2  setosa\n",
            "5            5.4          3.9           1.7          0.4  setosa\n",
            "6            4.6          3.4           1.4          0.3  setosa\n",
            "7            5.0          3.4           1.5          0.2  setosa\n",
            "8            4.4          2.9           1.4          0.2  setosa\n",
            "9            4.9          3.1           1.5          0.1  setosa\n",
            "10           5.4          3.7           1.5          0.2  setosa\n",
            "11           4.8          3.4           1.6          0.2  setosa\n",
            "12           4.8          3.0           1.4          0.1  setosa\n",
            "13           4.3          3.0           1.1          0.1  setosa\n",
            "14           5.8          4.0           1.2          0.2  setosa\n",
            "15           5.7          4.4           1.5          0.4  setosa\n",
            "16           5.4          3.9           1.3          0.4  setosa\n",
            "17           5.1          3.5           1.4          0.3  setosa\n",
            "18           5.7          3.8           1.7          0.3  setosa\n",
            "19           5.1          3.8           1.5          0.3  setosa\n",
            "20           5.4          3.4           1.7          0.2  setosa\n",
            "21           5.1          3.7           1.5          0.4  setosa\n",
            "22           4.6          3.6           1.0          0.2  setosa\n",
            "23           5.1          3.3           1.7          0.5  setosa\n",
            "24           4.8          3.4           1.9          0.2  setosa\n",
            "25           5.0          3.0           1.6          0.2  setosa\n",
            "26           5.0          3.4           1.6          0.4  setosa\n",
            "27           5.2          3.5           1.5          0.2  setosa\n",
            "28           5.2          3.4           1.4          0.2  setosa\n",
            "29           4.7          3.2           1.6          0.2  setosa\n",
            "30           4.8          3.1           1.6          0.2  setosa\n",
            "31           5.4          3.4           1.5          0.4  setosa\n",
            "32           5.2          4.1           1.5          0.1  setosa\n",
            "33           5.5          4.2           1.4          0.2  setosa\n",
            "34           4.9          3.1           1.5          0.2  setosa\n",
            "35           5.0          3.2           1.2          0.2  setosa\n",
            "36           5.5          3.5           1.3          0.2  setosa\n",
            "37           4.9          3.6           1.4          0.1  setosa\n",
            "38           4.4          3.0           1.3          0.2  setosa\n",
            "39           5.1          3.4           1.5          0.2  setosa\n",
            "40           5.0          3.5           1.3          0.3  setosa\n",
            "41           4.5          2.3           1.3          0.3  setosa\n",
            "42           4.4          3.2           1.3          0.2  setosa\n",
            "43           5.0          3.5           1.6          0.6  setosa\n",
            "44           5.1          3.8           1.9          0.4  setosa\n",
            "45           4.8          3.0           1.4          0.3  setosa\n",
            "46           5.1          3.8           1.6          0.2  setosa\n",
            "47           4.6          3.2           1.4          0.2  setosa\n",
            "48           5.3          3.7           1.5          0.2  setosa\n",
            "49           5.0          3.3           1.4          0.2  setosa), ('versicolor',     Petal length  Petal Width  Sepal Length  Sepal Width     Species\n",
            "50           7.0          3.2           4.7          1.4  versicolor\n",
            "51           6.4          3.2           4.5          1.5  versicolor\n",
            "52           6.9          3.1           4.9          1.5  versicolor\n",
            "53           5.5          2.3           4.0          1.3  versicolor\n",
            "54           6.5          2.8           4.6          1.5  versicolor\n",
            "55           5.7          2.8           4.5          1.3  versicolor\n",
            "56           6.3          3.3           4.7          1.6  versicolor\n",
            "57           4.9          2.4           3.3          1.0  versicolor\n",
            "58           6.6          2.9           4.6          1.3  versicolor\n",
            "59           5.2          2.7           3.9          1.4  versicolor\n",
            "60           5.0          2.0           3.5          1.0  versicolor\n",
            "61           5.9          3.0           4.2          1.5  versicolor\n",
            "62           6.0          2.2           4.0          1.0  versicolor\n",
            "63           6.1          2.9           4.7          1.4  versicolor\n",
            "64           5.6          2.9           3.6          1.3  versicolor\n",
            "65           6.7          3.1           4.4          1.4  versicolor\n",
            "66           5.6          3.0           4.5          1.5  versicolor\n",
            "67           5.8          2.7           4.1          1.0  versicolor\n",
            "68           6.2          2.2           4.5          1.5  versicolor\n",
            "69           5.6          2.5           3.9          1.1  versicolor\n",
            "70           5.9          3.2           4.8          1.8  versicolor\n",
            "71           6.1          2.8           4.0          1.3  versicolor\n",
            "72           6.3          2.5           4.9          1.5  versicolor\n",
            "73           6.1          2.8           4.7          1.2  versicolor\n",
            "74           6.4          2.9           4.3          1.3  versicolor\n",
            "75           6.6          3.0           4.4          1.4  versicolor\n",
            "76           6.8          2.8           4.8          1.4  versicolor\n",
            "77           6.7          3.0           5.0          1.7  versicolor\n",
            "78           6.0          2.9           4.5          1.5  versicolor\n",
            "79           5.7          2.6           3.5          1.0  versicolor\n",
            "80           5.5          2.4           3.8          1.1  versicolor\n",
            "81           5.5          2.4           3.7          1.0  versicolor\n",
            "82           5.8          2.7           3.9          1.2  versicolor\n",
            "83           6.0          2.7           5.1          1.6  versicolor\n",
            "84           5.4          3.0           4.5          1.5  versicolor\n",
            "85           6.0          3.4           4.5          1.6  versicolor\n",
            "86           6.7          3.1           4.7          1.5  versicolor\n",
            "87           6.3          2.3           4.4          1.3  versicolor\n",
            "88           5.6          3.0           4.1          1.3  versicolor\n",
            "89           5.5          2.5           4.0          1.3  versicolor\n",
            "90           5.5          2.6           4.4          1.2  versicolor\n",
            "91           6.1          3.0           4.6          1.4  versicolor\n",
            "92           5.8          2.6           4.0          1.2  versicolor\n",
            "93           5.0          2.3           3.3          1.0  versicolor\n",
            "94           5.6          2.7           4.2          1.3  versicolor\n",
            "95           5.7          3.0           4.2          1.2  versicolor\n",
            "96           5.7          2.9           4.2          1.3  versicolor\n",
            "97           6.2          2.9           4.3          1.3  versicolor\n",
            "98           5.1          2.5           3.0          1.1  versicolor\n",
            "99           5.7          2.8           4.1          1.3  versicolor), ('virginica',      Petal length  Petal Width  Sepal Length  Sepal Width    Species\n",
            "100           6.3          3.3           6.0          2.5  virginica\n",
            "101           5.8          2.7           5.1          1.9  virginica\n",
            "102           7.1          3.0           5.9          2.1  virginica\n",
            "103           6.3          2.9           5.6          1.8  virginica\n",
            "104           6.5          3.0           5.8          2.2  virginica\n",
            "105           7.6          3.0           6.6          2.1  virginica\n",
            "106           4.9          2.5           4.5          1.7  virginica\n",
            "107           7.3          2.9           6.3          1.8  virginica\n",
            "108           6.7          2.5           5.8          1.8  virginica\n",
            "109           7.2          3.6           6.1          2.5  virginica\n",
            "110           6.5          3.2           5.1          2.0  virginica\n",
            "111           6.4          2.7           5.3          1.9  virginica\n",
            "112           6.8          3.0           5.5          2.1  virginica\n",
            "113           5.7          2.5           5.0          2.0  virginica\n",
            "114           5.8          2.8           5.1          2.4  virginica\n",
            "115           6.4          3.2           5.3          2.3  virginica\n",
            "116           6.5          3.0           5.5          1.8  virginica\n",
            "117           7.7          3.8           6.7          2.2  virginica\n",
            "118           7.7          2.6           6.9          2.3  virginica\n",
            "119           6.0          2.2           5.0          1.5  virginica\n",
            "120           6.9          3.2           5.7          2.3  virginica\n",
            "121           5.6          2.8           4.9          2.0  virginica\n",
            "122           7.7          2.8           6.7          2.0  virginica\n",
            "123           6.3          2.7           4.9          1.8  virginica\n",
            "124           6.7          3.3           5.7          2.1  virginica\n",
            "125           7.2          3.2           6.0          1.8  virginica\n",
            "126           6.2          2.8           4.8          1.8  virginica\n",
            "127           6.1          3.0           4.9          1.8  virginica\n",
            "128           6.4          2.8           5.6          2.1  virginica\n",
            "129           7.2          3.0           5.8          1.6  virginica\n",
            "130           7.4          2.8           6.1          1.9  virginica\n",
            "131           7.9          3.8           6.4          2.0  virginica\n",
            "132           6.4          2.8           5.6          2.2  virginica\n",
            "133           6.3          2.8           5.1          1.5  virginica\n",
            "134           6.1          2.6           5.6          1.4  virginica\n",
            "135           7.7          3.0           6.1          2.3  virginica\n",
            "136           6.3          3.4           5.6          2.4  virginica\n",
            "137           6.4          3.1           5.5          1.8  virginica\n",
            "138           6.0          3.0           4.8          1.8  virginica\n",
            "139           6.9          3.1           5.4          2.1  virginica\n",
            "140           6.7          3.1           5.6          2.4  virginica\n",
            "141           6.9          3.1           5.1          2.3  virginica\n",
            "142           5.8          2.7           5.1          1.9  virginica\n",
            "143           6.8          3.2           5.9          2.3  virginica\n",
            "144           6.7          3.3           5.7          2.5  virginica\n",
            "145           6.7          3.0           5.2          2.3  virginica\n",
            "146           6.3          2.5           5.0          1.9  virginica\n",
            "147           6.5          3.0           5.2          2.0  virginica\n",
            "148           6.2          3.4           5.4          2.3  virginica\n",
            "149           5.9          3.0           5.1          1.8  virginica)]\n",
            "\n",
            "[*] Data for the Iris-setosa group \n",
            "     Petal length  Petal Width  Sepal Length  Sepal Width Species\n",
            "0            5.1          3.5           1.4          0.2  setosa\n",
            "1            4.9          3.0           1.4          0.2  setosa\n",
            "2            4.7          3.2           1.3          0.2  setosa\n",
            "3            4.6          3.1           1.5          0.2  setosa\n",
            "4            5.0          3.6           1.4          0.2  setosa\n",
            "5            5.4          3.9           1.7          0.4  setosa\n",
            "6            4.6          3.4           1.4          0.3  setosa\n",
            "7            5.0          3.4           1.5          0.2  setosa\n",
            "8            4.4          2.9           1.4          0.2  setosa\n",
            "9            4.9          3.1           1.5          0.1  setosa\n",
            "10           5.4          3.7           1.5          0.2  setosa\n",
            "11           4.8          3.4           1.6          0.2  setosa\n",
            "12           4.8          3.0           1.4          0.1  setosa\n",
            "13           4.3          3.0           1.1          0.1  setosa\n",
            "14           5.8          4.0           1.2          0.2  setosa\n",
            "15           5.7          4.4           1.5          0.4  setosa\n",
            "16           5.4          3.9           1.3          0.4  setosa\n",
            "17           5.1          3.5           1.4          0.3  setosa\n",
            "18           5.7          3.8           1.7          0.3  setosa\n",
            "19           5.1          3.8           1.5          0.3  setosa\n",
            "20           5.4          3.4           1.7          0.2  setosa\n",
            "21           5.1          3.7           1.5          0.4  setosa\n",
            "22           4.6          3.6           1.0          0.2  setosa\n",
            "23           5.1          3.3           1.7          0.5  setosa\n",
            "24           4.8          3.4           1.9          0.2  setosa\n",
            "25           5.0          3.0           1.6          0.2  setosa\n",
            "26           5.0          3.4           1.6          0.4  setosa\n",
            "27           5.2          3.5           1.5          0.2  setosa\n",
            "28           5.2          3.4           1.4          0.2  setosa\n",
            "29           4.7          3.2           1.6          0.2  setosa\n",
            "30           4.8          3.1           1.6          0.2  setosa\n",
            "31           5.4          3.4           1.5          0.4  setosa\n",
            "32           5.2          4.1           1.5          0.1  setosa\n",
            "33           5.5          4.2           1.4          0.2  setosa\n",
            "34           4.9          3.1           1.5          0.2  setosa\n",
            "35           5.0          3.2           1.2          0.2  setosa\n",
            "36           5.5          3.5           1.3          0.2  setosa\n",
            "37           4.9          3.6           1.4          0.1  setosa\n",
            "38           4.4          3.0           1.3          0.2  setosa\n",
            "39           5.1          3.4           1.5          0.2  setosa\n",
            "40           5.0          3.5           1.3          0.3  setosa\n",
            "41           4.5          2.3           1.3          0.3  setosa\n",
            "42           4.4          3.2           1.3          0.2  setosa\n",
            "43           5.0          3.5           1.6          0.6  setosa\n",
            "44           5.1          3.8           1.9          0.4  setosa\n",
            "45           4.8          3.0           1.4          0.3  setosa\n",
            "46           5.1          3.8           1.6          0.2  setosa\n",
            "47           4.6          3.2           1.4          0.2  setosa\n",
            "48           5.3          3.7           1.5          0.2  setosa\n",
            "49           5.0          3.3           1.4          0.2  setosa\n"
          ],
          "name": "stdout"
        }
      ]
    },
    {
      "cell_type": "markdown",
      "metadata": {
        "id": "xEuuBE3bi-tm"
      },
      "source": [
        "# Thực hành với data mtcars\n",
        "Tiếp theo, ta sẽ thực hành với bộ data mtcars"
      ]
    },
    {
      "cell_type": "code",
      "metadata": {
        "id": "u7vqp2QIjFp1",
        "outputId": "145b704a-d75a-4961-e4fc-7eeb9e65b0fe",
        "colab": {
          "base_uri": "https://localhost:8080/",
          "height": 74
        }
      },
      "source": [
        "import statsmodels.api as sm\n",
        "import numpy as np\n",
        "import pandas as pd\n",
        "mtcars = sm.datasets.get_rdataset(\"mtcars\", \"datasets\", cache=True).data\n",
        "df = pd.DataFrame(mtcars)"
      ],
      "execution_count": 39,
      "outputs": [
        {
          "output_type": "stream",
          "text": [
            "/usr/local/lib/python3.6/dist-packages/statsmodels/tools/_testing.py:19: FutureWarning: pandas.util.testing is deprecated. Use the functions in the public API at pandas.testing instead.\n",
            "  import pandas.util.testing as tm\n"
          ],
          "name": "stderr"
        }
      ]
    },
    {
      "cell_type": "markdown",
      "metadata": {
        "id": "lwSAZHByjflG"
      },
      "source": [
        "Attribute Information:\n",
        "\n",
        "A data frame with 32 observations on 11 variables\n",
        "\n",
        "* model – model name, categorical variable\n",
        "* mpg – Miles/(US) gallon, numeric variable\n",
        "* cyl  – Number of cylinders, values are 4, 6 and 8\n",
        "*   disp – Displacement (cu.in.)\n",
        "*    hp – Gross horsepower\n",
        "*    drat –  Rear axle ratio\n",
        "*    wt – Weight (1000 lbs)\n",
        "*    qsec – 1/4 mile time\n",
        "*    vs – Engine (0 = V-shaped, 1 = straight)\n",
        "*    am – Transmission (0 = automatic, 1 = manual)\n",
        "*    gear – Number of forward gears\n",
        "*    carb – Number of carburetors"
      ]
    },
    {
      "cell_type": "code",
      "metadata": {
        "id": "vimCywbZjZWi",
        "outputId": "612b2a13-4b9b-4e41-80d5-6566963fc54d",
        "colab": {
          "base_uri": "https://localhost:8080/",
          "height": 206
        }
      },
      "source": [
        "mtcars.head()"
      ],
      "execution_count": 40,
      "outputs": [
        {
          "output_type": "execute_result",
          "data": {
            "text/html": [
              "<div>\n",
              "<style scoped>\n",
              "    .dataframe tbody tr th:only-of-type {\n",
              "        vertical-align: middle;\n",
              "    }\n",
              "\n",
              "    .dataframe tbody tr th {\n",
              "        vertical-align: top;\n",
              "    }\n",
              "\n",
              "    .dataframe thead th {\n",
              "        text-align: right;\n",
              "    }\n",
              "</style>\n",
              "<table border=\"1\" class=\"dataframe\">\n",
              "  <thead>\n",
              "    <tr style=\"text-align: right;\">\n",
              "      <th></th>\n",
              "      <th>mpg</th>\n",
              "      <th>cyl</th>\n",
              "      <th>disp</th>\n",
              "      <th>hp</th>\n",
              "      <th>drat</th>\n",
              "      <th>wt</th>\n",
              "      <th>qsec</th>\n",
              "      <th>vs</th>\n",
              "      <th>am</th>\n",
              "      <th>gear</th>\n",
              "      <th>carb</th>\n",
              "    </tr>\n",
              "  </thead>\n",
              "  <tbody>\n",
              "    <tr>\n",
              "      <th>Mazda RX4</th>\n",
              "      <td>21.0</td>\n",
              "      <td>6</td>\n",
              "      <td>160.0</td>\n",
              "      <td>110</td>\n",
              "      <td>3.90</td>\n",
              "      <td>2.620</td>\n",
              "      <td>16.46</td>\n",
              "      <td>0</td>\n",
              "      <td>1</td>\n",
              "      <td>4</td>\n",
              "      <td>4</td>\n",
              "    </tr>\n",
              "    <tr>\n",
              "      <th>Mazda RX4 Wag</th>\n",
              "      <td>21.0</td>\n",
              "      <td>6</td>\n",
              "      <td>160.0</td>\n",
              "      <td>110</td>\n",
              "      <td>3.90</td>\n",
              "      <td>2.875</td>\n",
              "      <td>17.02</td>\n",
              "      <td>0</td>\n",
              "      <td>1</td>\n",
              "      <td>4</td>\n",
              "      <td>4</td>\n",
              "    </tr>\n",
              "    <tr>\n",
              "      <th>Datsun 710</th>\n",
              "      <td>22.8</td>\n",
              "      <td>4</td>\n",
              "      <td>108.0</td>\n",
              "      <td>93</td>\n",
              "      <td>3.85</td>\n",
              "      <td>2.320</td>\n",
              "      <td>18.61</td>\n",
              "      <td>1</td>\n",
              "      <td>1</td>\n",
              "      <td>4</td>\n",
              "      <td>1</td>\n",
              "    </tr>\n",
              "    <tr>\n",
              "      <th>Hornet 4 Drive</th>\n",
              "      <td>21.4</td>\n",
              "      <td>6</td>\n",
              "      <td>258.0</td>\n",
              "      <td>110</td>\n",
              "      <td>3.08</td>\n",
              "      <td>3.215</td>\n",
              "      <td>19.44</td>\n",
              "      <td>1</td>\n",
              "      <td>0</td>\n",
              "      <td>3</td>\n",
              "      <td>1</td>\n",
              "    </tr>\n",
              "    <tr>\n",
              "      <th>Hornet Sportabout</th>\n",
              "      <td>18.7</td>\n",
              "      <td>8</td>\n",
              "      <td>360.0</td>\n",
              "      <td>175</td>\n",
              "      <td>3.15</td>\n",
              "      <td>3.440</td>\n",
              "      <td>17.02</td>\n",
              "      <td>0</td>\n",
              "      <td>0</td>\n",
              "      <td>3</td>\n",
              "      <td>2</td>\n",
              "    </tr>\n",
              "  </tbody>\n",
              "</table>\n",
              "</div>"
            ],
            "text/plain": [
              "                    mpg  cyl   disp   hp  drat  ...   qsec  vs  am  gear  carb\n",
              "Mazda RX4          21.0    6  160.0  110  3.90  ...  16.46   0   1     4     4\n",
              "Mazda RX4 Wag      21.0    6  160.0  110  3.90  ...  17.02   0   1     4     4\n",
              "Datsun 710         22.8    4  108.0   93  3.85  ...  18.61   1   1     4     1\n",
              "Hornet 4 Drive     21.4    6  258.0  110  3.08  ...  19.44   1   0     3     1\n",
              "Hornet Sportabout  18.7    8  360.0  175  3.15  ...  17.02   0   0     3     2\n",
              "\n",
              "[5 rows x 11 columns]"
            ]
          },
          "metadata": {
            "tags": []
          },
          "execution_count": 40
        }
      ]
    },
    {
      "cell_type": "code",
      "metadata": {
        "id": "8Cr8BTdOj6e4",
        "outputId": "8617fb2a-6cc5-4510-9d7b-42d12c8d8844",
        "colab": {
          "base_uri": "https://localhost:8080/",
          "height": 56
        }
      },
      "source": [
        "# Group by Cyl\n",
        "cylGrp = mtcars.groupby('cyl')\n",
        "cylGrp.groups"
      ],
      "execution_count": 41,
      "outputs": [
        {
          "output_type": "execute_result",
          "data": {
            "text/plain": [
              "{4: ['Datsun 710', 'Merc 240D', 'Merc 230', 'Fiat 128', 'Honda Civic', 'Toyota Corolla', 'Toyota Corona', 'Fiat X1-9', 'Porsche 914-2', 'Lotus Europa', 'Volvo 142E'], 6: ['Mazda RX4', 'Mazda RX4 Wag', 'Hornet 4 Drive', 'Valiant', 'Merc 280', 'Merc 280C', 'Ferrari Dino'], 8: ['Hornet Sportabout', 'Duster 360', 'Merc 450SE', 'Merc 450SL', 'Merc 450SLC', 'Cadillac Fleetwood', 'Lincoln Continental', 'Chrysler Imperial', 'Dodge Challenger', 'AMC Javelin', 'Camaro Z28', 'Pontiac Firebird', 'Ford Pantera L', 'Maserati Bora']}"
            ]
          },
          "metadata": {
            "tags": []
          },
          "execution_count": 41
        }
      ]
    },
    {
      "cell_type": "code",
      "metadata": {
        "id": "IbiPVAhykApJ",
        "outputId": "f1f8154f-1fa8-46e2-ae52-f917a08d6da2",
        "colab": {
          "base_uri": "https://localhost:8080/",
          "height": 110
        }
      },
      "source": [
        "print(cylGrp.size())\n"
      ],
      "execution_count": 42,
      "outputs": [
        {
          "output_type": "stream",
          "text": [
            "cyl\n",
            "4    11\n",
            "6     7\n",
            "8    14\n",
            "dtype: int64\n"
          ],
          "name": "stdout"
        }
      ]
    },
    {
      "cell_type": "code",
      "metadata": {
        "id": "Qi75LaUgkCRZ",
        "outputId": "d6e1e2e1-523c-4473-f1b1-413cc7d7aa51",
        "colab": {
          "base_uri": "https://localhost:8080/",
          "height": 110
        }
      },
      "source": [
        "print(cylGrp.first())"
      ],
      "execution_count": 43,
      "outputs": [
        {
          "output_type": "stream",
          "text": [
            "      mpg   disp   hp  drat    wt   qsec  vs  am  gear  carb\n",
            "cyl                                                         \n",
            "4    22.8  108.0   93  3.85  2.32  18.61   1   1     4     1\n",
            "6    21.0  160.0  110  3.90  2.62  16.46   0   1     4     4\n",
            "8    18.7  360.0  175  3.15  3.44  17.02   0   0     3     2\n"
          ],
          "name": "stdout"
        }
      ]
    },
    {
      "cell_type": "code",
      "metadata": {
        "id": "fsmZvbH9kSWv",
        "outputId": "7b851cb7-f7d3-4297-8d40-8dc17f10cb03",
        "colab": {
          "base_uri": "https://localhost:8080/",
          "height": 56
        }
      },
      "source": [
        "#multicolumn groupby.\n",
        "cyl_gear_Grp = mtcars.groupby(['cyl', 'gear'])\n",
        "cyl_gear_Grp.groups"
      ],
      "execution_count": 44,
      "outputs": [
        {
          "output_type": "execute_result",
          "data": {
            "text/plain": [
              "{(4, 3): ['Toyota Corona'], (4, 4): ['Datsun 710', 'Merc 240D', 'Merc 230', 'Fiat 128', 'Honda Civic', 'Toyota Corolla', 'Fiat X1-9', 'Volvo 142E'], (4, 5): ['Porsche 914-2', 'Lotus Europa'], (6, 3): ['Hornet 4 Drive', 'Valiant'], (6, 4): ['Mazda RX4', 'Mazda RX4 Wag', 'Merc 280', 'Merc 280C'], (6, 5): ['Ferrari Dino'], (8, 3): ['Hornet Sportabout', 'Duster 360', 'Merc 450SE', 'Merc 450SL', 'Merc 450SLC', 'Cadillac Fleetwood', 'Lincoln Continental', 'Chrysler Imperial', 'Dodge Challenger', 'AMC Javelin', 'Camaro Z28', 'Pontiac Firebird'], (8, 5): ['Ford Pantera L', 'Maserati Bora']}"
            ]
          },
          "metadata": {
            "tags": []
          },
          "execution_count": 44
        }
      ]
    },
    {
      "cell_type": "code",
      "metadata": {
        "id": "D6oe7HIIka-Z",
        "outputId": "c6bb5900-17b3-43aa-f190-839143d9bb64",
        "colab": {
          "base_uri": "https://localhost:8080/",
          "height": 73
        }
      },
      "source": [
        "#Group level information can be extracted using key values\n",
        "# Key value - (6, 3)\n",
        "print(cyl_gear_Grp.get_group((6, 3)))"
      ],
      "execution_count": 45,
      "outputs": [
        {
          "output_type": "stream",
          "text": [
            "                 mpg  cyl   disp   hp  drat     wt   qsec  vs  am  gear  carb\n",
            "Hornet 4 Drive  21.4    6  258.0  110  3.08  3.215  19.44   1   0     3     1\n",
            "Valiant         18.1    6  225.0  105  2.76  3.460  20.22   1   0     3     1\n"
          ],
          "name": "stdout"
        }
      ]
    },
    {
      "cell_type": "code",
      "metadata": {
        "id": "Bs1owDvNkge9",
        "outputId": "d5f3a15e-9604-421e-f483-9811ad9613b0",
        "colab": {
          "base_uri": "https://localhost:8080/",
          "height": 203
        }
      },
      "source": [
        "#We can apply the aggregate function sum() to the group, observe the DataFrame structure. \n",
        "cyl_gear_Grp_df  = cyl_gear_Grp.sum()\n",
        "print(cyl_gear_Grp_df)"
      ],
      "execution_count": 46,
      "outputs": [
        {
          "output_type": "stream",
          "text": [
            "            mpg    disp    hp   drat      wt    qsec  vs  am  carb\n",
            "cyl gear                                                          \n",
            "4   3      21.5   120.1    97   3.70   2.465   20.01   1   0     1\n",
            "    4     215.4   821.0   608  32.88  19.025  156.90   8   6    12\n",
            "    5      56.4   215.4   204   8.20   3.653   33.60   1   2     4\n",
            "6   3      39.5   483.0   215   5.84   6.675   39.66   2   0     2\n",
            "    4      79.0   655.2   466  15.64  12.375   70.68   2   2    16\n",
            "    5      19.7   145.0   175   3.62   2.770   15.50   0   1     6\n",
            "8   3     180.6  4291.4  2330  37.45  49.249  205.71   0   0    37\n",
            "    5      30.8   652.0   599   7.76   6.740   29.10   0   2    12\n"
          ],
          "name": "stdout"
        }
      ]
    },
    {
      "cell_type": "code",
      "metadata": {
        "id": "3IHhggPmkmaf",
        "outputId": "60395b67-6a80-4834-8d66-580713d0f514",
        "colab": {
          "base_uri": "https://localhost:8080/",
          "height": 351
        }
      },
      "source": [
        "#Applying multiple functions us agg() function.\n",
        "cyl_gear_Grp_df = cyl_gear_Grp.agg([\"sum\", \"mean\", \"size\"]).reset_index()\n",
        "cyl_gear_Grp_df"
      ],
      "execution_count": 48,
      "outputs": [
        {
          "output_type": "execute_result",
          "data": {
            "text/html": [
              "<div>\n",
              "<style scoped>\n",
              "    .dataframe tbody tr th:only-of-type {\n",
              "        vertical-align: middle;\n",
              "    }\n",
              "\n",
              "    .dataframe tbody tr th {\n",
              "        vertical-align: top;\n",
              "    }\n",
              "\n",
              "    .dataframe thead tr th {\n",
              "        text-align: left;\n",
              "    }\n",
              "</style>\n",
              "<table border=\"1\" class=\"dataframe\">\n",
              "  <thead>\n",
              "    <tr>\n",
              "      <th></th>\n",
              "      <th>cyl</th>\n",
              "      <th>gear</th>\n",
              "      <th colspan=\"3\" halign=\"left\">mpg</th>\n",
              "      <th colspan=\"3\" halign=\"left\">disp</th>\n",
              "      <th colspan=\"3\" halign=\"left\">hp</th>\n",
              "      <th colspan=\"3\" halign=\"left\">drat</th>\n",
              "      <th colspan=\"3\" halign=\"left\">wt</th>\n",
              "      <th colspan=\"3\" halign=\"left\">qsec</th>\n",
              "      <th colspan=\"3\" halign=\"left\">vs</th>\n",
              "      <th colspan=\"3\" halign=\"left\">am</th>\n",
              "      <th colspan=\"3\" halign=\"left\">carb</th>\n",
              "    </tr>\n",
              "    <tr>\n",
              "      <th></th>\n",
              "      <th></th>\n",
              "      <th></th>\n",
              "      <th>sum</th>\n",
              "      <th>mean</th>\n",
              "      <th>size</th>\n",
              "      <th>sum</th>\n",
              "      <th>mean</th>\n",
              "      <th>size</th>\n",
              "      <th>sum</th>\n",
              "      <th>mean</th>\n",
              "      <th>size</th>\n",
              "      <th>sum</th>\n",
              "      <th>mean</th>\n",
              "      <th>size</th>\n",
              "      <th>sum</th>\n",
              "      <th>mean</th>\n",
              "      <th>size</th>\n",
              "      <th>sum</th>\n",
              "      <th>mean</th>\n",
              "      <th>size</th>\n",
              "      <th>sum</th>\n",
              "      <th>mean</th>\n",
              "      <th>size</th>\n",
              "      <th>sum</th>\n",
              "      <th>mean</th>\n",
              "      <th>size</th>\n",
              "      <th>sum</th>\n",
              "      <th>mean</th>\n",
              "      <th>size</th>\n",
              "    </tr>\n",
              "  </thead>\n",
              "  <tbody>\n",
              "    <tr>\n",
              "      <th>0</th>\n",
              "      <td>4</td>\n",
              "      <td>3</td>\n",
              "      <td>21.5</td>\n",
              "      <td>21.500</td>\n",
              "      <td>1</td>\n",
              "      <td>120.1</td>\n",
              "      <td>120.100000</td>\n",
              "      <td>1</td>\n",
              "      <td>97</td>\n",
              "      <td>97.000000</td>\n",
              "      <td>1</td>\n",
              "      <td>3.70</td>\n",
              "      <td>3.700000</td>\n",
              "      <td>1</td>\n",
              "      <td>2.465</td>\n",
              "      <td>2.465000</td>\n",
              "      <td>1</td>\n",
              "      <td>20.01</td>\n",
              "      <td>20.0100</td>\n",
              "      <td>1</td>\n",
              "      <td>1</td>\n",
              "      <td>1.0</td>\n",
              "      <td>1</td>\n",
              "      <td>0</td>\n",
              "      <td>0.00</td>\n",
              "      <td>1</td>\n",
              "      <td>1</td>\n",
              "      <td>1.000000</td>\n",
              "      <td>1</td>\n",
              "    </tr>\n",
              "    <tr>\n",
              "      <th>1</th>\n",
              "      <td>4</td>\n",
              "      <td>4</td>\n",
              "      <td>215.4</td>\n",
              "      <td>26.925</td>\n",
              "      <td>8</td>\n",
              "      <td>821.0</td>\n",
              "      <td>102.625000</td>\n",
              "      <td>8</td>\n",
              "      <td>608</td>\n",
              "      <td>76.000000</td>\n",
              "      <td>8</td>\n",
              "      <td>32.88</td>\n",
              "      <td>4.110000</td>\n",
              "      <td>8</td>\n",
              "      <td>19.025</td>\n",
              "      <td>2.378125</td>\n",
              "      <td>8</td>\n",
              "      <td>156.90</td>\n",
              "      <td>19.6125</td>\n",
              "      <td>8</td>\n",
              "      <td>8</td>\n",
              "      <td>1.0</td>\n",
              "      <td>8</td>\n",
              "      <td>6</td>\n",
              "      <td>0.75</td>\n",
              "      <td>8</td>\n",
              "      <td>12</td>\n",
              "      <td>1.500000</td>\n",
              "      <td>8</td>\n",
              "    </tr>\n",
              "    <tr>\n",
              "      <th>2</th>\n",
              "      <td>4</td>\n",
              "      <td>5</td>\n",
              "      <td>56.4</td>\n",
              "      <td>28.200</td>\n",
              "      <td>2</td>\n",
              "      <td>215.4</td>\n",
              "      <td>107.700000</td>\n",
              "      <td>2</td>\n",
              "      <td>204</td>\n",
              "      <td>102.000000</td>\n",
              "      <td>2</td>\n",
              "      <td>8.20</td>\n",
              "      <td>4.100000</td>\n",
              "      <td>2</td>\n",
              "      <td>3.653</td>\n",
              "      <td>1.826500</td>\n",
              "      <td>2</td>\n",
              "      <td>33.60</td>\n",
              "      <td>16.8000</td>\n",
              "      <td>2</td>\n",
              "      <td>1</td>\n",
              "      <td>0.5</td>\n",
              "      <td>2</td>\n",
              "      <td>2</td>\n",
              "      <td>1.00</td>\n",
              "      <td>2</td>\n",
              "      <td>4</td>\n",
              "      <td>2.000000</td>\n",
              "      <td>2</td>\n",
              "    </tr>\n",
              "    <tr>\n",
              "      <th>3</th>\n",
              "      <td>6</td>\n",
              "      <td>3</td>\n",
              "      <td>39.5</td>\n",
              "      <td>19.750</td>\n",
              "      <td>2</td>\n",
              "      <td>483.0</td>\n",
              "      <td>241.500000</td>\n",
              "      <td>2</td>\n",
              "      <td>215</td>\n",
              "      <td>107.500000</td>\n",
              "      <td>2</td>\n",
              "      <td>5.84</td>\n",
              "      <td>2.920000</td>\n",
              "      <td>2</td>\n",
              "      <td>6.675</td>\n",
              "      <td>3.337500</td>\n",
              "      <td>2</td>\n",
              "      <td>39.66</td>\n",
              "      <td>19.8300</td>\n",
              "      <td>2</td>\n",
              "      <td>2</td>\n",
              "      <td>1.0</td>\n",
              "      <td>2</td>\n",
              "      <td>0</td>\n",
              "      <td>0.00</td>\n",
              "      <td>2</td>\n",
              "      <td>2</td>\n",
              "      <td>1.000000</td>\n",
              "      <td>2</td>\n",
              "    </tr>\n",
              "    <tr>\n",
              "      <th>4</th>\n",
              "      <td>6</td>\n",
              "      <td>4</td>\n",
              "      <td>79.0</td>\n",
              "      <td>19.750</td>\n",
              "      <td>4</td>\n",
              "      <td>655.2</td>\n",
              "      <td>163.800000</td>\n",
              "      <td>4</td>\n",
              "      <td>466</td>\n",
              "      <td>116.500000</td>\n",
              "      <td>4</td>\n",
              "      <td>15.64</td>\n",
              "      <td>3.910000</td>\n",
              "      <td>4</td>\n",
              "      <td>12.375</td>\n",
              "      <td>3.093750</td>\n",
              "      <td>4</td>\n",
              "      <td>70.68</td>\n",
              "      <td>17.6700</td>\n",
              "      <td>4</td>\n",
              "      <td>2</td>\n",
              "      <td>0.5</td>\n",
              "      <td>4</td>\n",
              "      <td>2</td>\n",
              "      <td>0.50</td>\n",
              "      <td>4</td>\n",
              "      <td>16</td>\n",
              "      <td>4.000000</td>\n",
              "      <td>4</td>\n",
              "    </tr>\n",
              "    <tr>\n",
              "      <th>5</th>\n",
              "      <td>6</td>\n",
              "      <td>5</td>\n",
              "      <td>19.7</td>\n",
              "      <td>19.700</td>\n",
              "      <td>1</td>\n",
              "      <td>145.0</td>\n",
              "      <td>145.000000</td>\n",
              "      <td>1</td>\n",
              "      <td>175</td>\n",
              "      <td>175.000000</td>\n",
              "      <td>1</td>\n",
              "      <td>3.62</td>\n",
              "      <td>3.620000</td>\n",
              "      <td>1</td>\n",
              "      <td>2.770</td>\n",
              "      <td>2.770000</td>\n",
              "      <td>1</td>\n",
              "      <td>15.50</td>\n",
              "      <td>15.5000</td>\n",
              "      <td>1</td>\n",
              "      <td>0</td>\n",
              "      <td>0.0</td>\n",
              "      <td>1</td>\n",
              "      <td>1</td>\n",
              "      <td>1.00</td>\n",
              "      <td>1</td>\n",
              "      <td>6</td>\n",
              "      <td>6.000000</td>\n",
              "      <td>1</td>\n",
              "    </tr>\n",
              "    <tr>\n",
              "      <th>6</th>\n",
              "      <td>8</td>\n",
              "      <td>3</td>\n",
              "      <td>180.6</td>\n",
              "      <td>15.050</td>\n",
              "      <td>12</td>\n",
              "      <td>4291.4</td>\n",
              "      <td>357.616667</td>\n",
              "      <td>12</td>\n",
              "      <td>2330</td>\n",
              "      <td>194.166667</td>\n",
              "      <td>12</td>\n",
              "      <td>37.45</td>\n",
              "      <td>3.120833</td>\n",
              "      <td>12</td>\n",
              "      <td>49.249</td>\n",
              "      <td>4.104083</td>\n",
              "      <td>12</td>\n",
              "      <td>205.71</td>\n",
              "      <td>17.1425</td>\n",
              "      <td>12</td>\n",
              "      <td>0</td>\n",
              "      <td>0.0</td>\n",
              "      <td>12</td>\n",
              "      <td>0</td>\n",
              "      <td>0.00</td>\n",
              "      <td>12</td>\n",
              "      <td>37</td>\n",
              "      <td>3.083333</td>\n",
              "      <td>12</td>\n",
              "    </tr>\n",
              "    <tr>\n",
              "      <th>7</th>\n",
              "      <td>8</td>\n",
              "      <td>5</td>\n",
              "      <td>30.8</td>\n",
              "      <td>15.400</td>\n",
              "      <td>2</td>\n",
              "      <td>652.0</td>\n",
              "      <td>326.000000</td>\n",
              "      <td>2</td>\n",
              "      <td>599</td>\n",
              "      <td>299.500000</td>\n",
              "      <td>2</td>\n",
              "      <td>7.76</td>\n",
              "      <td>3.880000</td>\n",
              "      <td>2</td>\n",
              "      <td>6.740</td>\n",
              "      <td>3.370000</td>\n",
              "      <td>2</td>\n",
              "      <td>29.10</td>\n",
              "      <td>14.5500</td>\n",
              "      <td>2</td>\n",
              "      <td>0</td>\n",
              "      <td>0.0</td>\n",
              "      <td>2</td>\n",
              "      <td>2</td>\n",
              "      <td>1.00</td>\n",
              "      <td>2</td>\n",
              "      <td>12</td>\n",
              "      <td>6.000000</td>\n",
              "      <td>2</td>\n",
              "    </tr>\n",
              "  </tbody>\n",
              "</table>\n",
              "</div>"
            ],
            "text/plain": [
              "  cyl gear    mpg                 disp  ...  am            carb               \n",
              "              sum    mean size     sum  ... sum  mean size  sum      mean size\n",
              "0   4    3   21.5  21.500    1   120.1  ...   0  0.00    1    1  1.000000    1\n",
              "1   4    4  215.4  26.925    8   821.0  ...   6  0.75    8   12  1.500000    8\n",
              "2   4    5   56.4  28.200    2   215.4  ...   2  1.00    2    4  2.000000    2\n",
              "3   6    3   39.5  19.750    2   483.0  ...   0  0.00    2    2  1.000000    2\n",
              "4   6    4   79.0  19.750    4   655.2  ...   2  0.50    4   16  4.000000    4\n",
              "5   6    5   19.7  19.700    1   145.0  ...   1  1.00    1    6  6.000000    1\n",
              "6   8    3  180.6  15.050   12  4291.4  ...   0  0.00   12   37  3.083333   12\n",
              "7   8    5   30.8  15.400    2   652.0  ...   2  1.00    2   12  6.000000    2\n",
              "\n",
              "[8 rows x 29 columns]"
            ]
          },
          "metadata": {
            "tags": []
          },
          "execution_count": 48
        }
      ]
    },
    {
      "cell_type": "code",
      "metadata": {
        "id": "Op5lZLakkx5b",
        "outputId": "f36fa1ae-61b3-4236-e51f-e71f9c9dfbf8",
        "colab": {
          "base_uri": "https://localhost:8080/",
          "height": 575
        }
      },
      "source": [
        "#multi-index DataFrame\n",
        "cyl_gear_Grp_df.columns"
      ],
      "execution_count": 49,
      "outputs": [
        {
          "output_type": "execute_result",
          "data": {
            "text/plain": [
              "MultiIndex([( 'cyl',     ''),\n",
              "            ('gear',     ''),\n",
              "            ( 'mpg',  'sum'),\n",
              "            ( 'mpg', 'mean'),\n",
              "            ( 'mpg', 'size'),\n",
              "            ('disp',  'sum'),\n",
              "            ('disp', 'mean'),\n",
              "            ('disp', 'size'),\n",
              "            (  'hp',  'sum'),\n",
              "            (  'hp', 'mean'),\n",
              "            (  'hp', 'size'),\n",
              "            ('drat',  'sum'),\n",
              "            ('drat', 'mean'),\n",
              "            ('drat', 'size'),\n",
              "            (  'wt',  'sum'),\n",
              "            (  'wt', 'mean'),\n",
              "            (  'wt', 'size'),\n",
              "            ('qsec',  'sum'),\n",
              "            ('qsec', 'mean'),\n",
              "            ('qsec', 'size'),\n",
              "            (  'vs',  'sum'),\n",
              "            (  'vs', 'mean'),\n",
              "            (  'vs', 'size'),\n",
              "            (  'am',  'sum'),\n",
              "            (  'am', 'mean'),\n",
              "            (  'am', 'size'),\n",
              "            ('carb',  'sum'),\n",
              "            ('carb', 'mean'),\n",
              "            ('carb', 'size')],\n",
              "           )"
            ]
          },
          "metadata": {
            "tags": []
          },
          "execution_count": 49
        }
      ]
    },
    {
      "cell_type": "code",
      "metadata": {
        "id": "XmEfXgAqk95Z",
        "outputId": "aa3427c7-371d-452a-993e-10a0521ff63f",
        "colab": {
          "base_uri": "https://localhost:8080/",
          "height": 320
        }
      },
      "source": [
        "#convert multi-index to single index\n",
        "cyl_gear_Grp_df.columns = [i[0] +\"_\" +i[1] for i in cyl_gear_Grp_df.columns]\n",
        "cyl_gear_Grp_df"
      ],
      "execution_count": 50,
      "outputs": [
        {
          "output_type": "execute_result",
          "data": {
            "text/html": [
              "<div>\n",
              "<style scoped>\n",
              "    .dataframe tbody tr th:only-of-type {\n",
              "        vertical-align: middle;\n",
              "    }\n",
              "\n",
              "    .dataframe tbody tr th {\n",
              "        vertical-align: top;\n",
              "    }\n",
              "\n",
              "    .dataframe thead th {\n",
              "        text-align: right;\n",
              "    }\n",
              "</style>\n",
              "<table border=\"1\" class=\"dataframe\">\n",
              "  <thead>\n",
              "    <tr style=\"text-align: right;\">\n",
              "      <th></th>\n",
              "      <th>cyl_</th>\n",
              "      <th>gear_</th>\n",
              "      <th>mpg_sum</th>\n",
              "      <th>mpg_mean</th>\n",
              "      <th>mpg_size</th>\n",
              "      <th>disp_sum</th>\n",
              "      <th>disp_mean</th>\n",
              "      <th>disp_size</th>\n",
              "      <th>hp_sum</th>\n",
              "      <th>hp_mean</th>\n",
              "      <th>hp_size</th>\n",
              "      <th>drat_sum</th>\n",
              "      <th>drat_mean</th>\n",
              "      <th>drat_size</th>\n",
              "      <th>wt_sum</th>\n",
              "      <th>wt_mean</th>\n",
              "      <th>wt_size</th>\n",
              "      <th>qsec_sum</th>\n",
              "      <th>qsec_mean</th>\n",
              "      <th>qsec_size</th>\n",
              "      <th>vs_sum</th>\n",
              "      <th>vs_mean</th>\n",
              "      <th>vs_size</th>\n",
              "      <th>am_sum</th>\n",
              "      <th>am_mean</th>\n",
              "      <th>am_size</th>\n",
              "      <th>carb_sum</th>\n",
              "      <th>carb_mean</th>\n",
              "      <th>carb_size</th>\n",
              "    </tr>\n",
              "  </thead>\n",
              "  <tbody>\n",
              "    <tr>\n",
              "      <th>0</th>\n",
              "      <td>4</td>\n",
              "      <td>3</td>\n",
              "      <td>21.5</td>\n",
              "      <td>21.500</td>\n",
              "      <td>1</td>\n",
              "      <td>120.1</td>\n",
              "      <td>120.100000</td>\n",
              "      <td>1</td>\n",
              "      <td>97</td>\n",
              "      <td>97.000000</td>\n",
              "      <td>1</td>\n",
              "      <td>3.70</td>\n",
              "      <td>3.700000</td>\n",
              "      <td>1</td>\n",
              "      <td>2.465</td>\n",
              "      <td>2.465000</td>\n",
              "      <td>1</td>\n",
              "      <td>20.01</td>\n",
              "      <td>20.0100</td>\n",
              "      <td>1</td>\n",
              "      <td>1</td>\n",
              "      <td>1.0</td>\n",
              "      <td>1</td>\n",
              "      <td>0</td>\n",
              "      <td>0.00</td>\n",
              "      <td>1</td>\n",
              "      <td>1</td>\n",
              "      <td>1.000000</td>\n",
              "      <td>1</td>\n",
              "    </tr>\n",
              "    <tr>\n",
              "      <th>1</th>\n",
              "      <td>4</td>\n",
              "      <td>4</td>\n",
              "      <td>215.4</td>\n",
              "      <td>26.925</td>\n",
              "      <td>8</td>\n",
              "      <td>821.0</td>\n",
              "      <td>102.625000</td>\n",
              "      <td>8</td>\n",
              "      <td>608</td>\n",
              "      <td>76.000000</td>\n",
              "      <td>8</td>\n",
              "      <td>32.88</td>\n",
              "      <td>4.110000</td>\n",
              "      <td>8</td>\n",
              "      <td>19.025</td>\n",
              "      <td>2.378125</td>\n",
              "      <td>8</td>\n",
              "      <td>156.90</td>\n",
              "      <td>19.6125</td>\n",
              "      <td>8</td>\n",
              "      <td>8</td>\n",
              "      <td>1.0</td>\n",
              "      <td>8</td>\n",
              "      <td>6</td>\n",
              "      <td>0.75</td>\n",
              "      <td>8</td>\n",
              "      <td>12</td>\n",
              "      <td>1.500000</td>\n",
              "      <td>8</td>\n",
              "    </tr>\n",
              "    <tr>\n",
              "      <th>2</th>\n",
              "      <td>4</td>\n",
              "      <td>5</td>\n",
              "      <td>56.4</td>\n",
              "      <td>28.200</td>\n",
              "      <td>2</td>\n",
              "      <td>215.4</td>\n",
              "      <td>107.700000</td>\n",
              "      <td>2</td>\n",
              "      <td>204</td>\n",
              "      <td>102.000000</td>\n",
              "      <td>2</td>\n",
              "      <td>8.20</td>\n",
              "      <td>4.100000</td>\n",
              "      <td>2</td>\n",
              "      <td>3.653</td>\n",
              "      <td>1.826500</td>\n",
              "      <td>2</td>\n",
              "      <td>33.60</td>\n",
              "      <td>16.8000</td>\n",
              "      <td>2</td>\n",
              "      <td>1</td>\n",
              "      <td>0.5</td>\n",
              "      <td>2</td>\n",
              "      <td>2</td>\n",
              "      <td>1.00</td>\n",
              "      <td>2</td>\n",
              "      <td>4</td>\n",
              "      <td>2.000000</td>\n",
              "      <td>2</td>\n",
              "    </tr>\n",
              "    <tr>\n",
              "      <th>3</th>\n",
              "      <td>6</td>\n",
              "      <td>3</td>\n",
              "      <td>39.5</td>\n",
              "      <td>19.750</td>\n",
              "      <td>2</td>\n",
              "      <td>483.0</td>\n",
              "      <td>241.500000</td>\n",
              "      <td>2</td>\n",
              "      <td>215</td>\n",
              "      <td>107.500000</td>\n",
              "      <td>2</td>\n",
              "      <td>5.84</td>\n",
              "      <td>2.920000</td>\n",
              "      <td>2</td>\n",
              "      <td>6.675</td>\n",
              "      <td>3.337500</td>\n",
              "      <td>2</td>\n",
              "      <td>39.66</td>\n",
              "      <td>19.8300</td>\n",
              "      <td>2</td>\n",
              "      <td>2</td>\n",
              "      <td>1.0</td>\n",
              "      <td>2</td>\n",
              "      <td>0</td>\n",
              "      <td>0.00</td>\n",
              "      <td>2</td>\n",
              "      <td>2</td>\n",
              "      <td>1.000000</td>\n",
              "      <td>2</td>\n",
              "    </tr>\n",
              "    <tr>\n",
              "      <th>4</th>\n",
              "      <td>6</td>\n",
              "      <td>4</td>\n",
              "      <td>79.0</td>\n",
              "      <td>19.750</td>\n",
              "      <td>4</td>\n",
              "      <td>655.2</td>\n",
              "      <td>163.800000</td>\n",
              "      <td>4</td>\n",
              "      <td>466</td>\n",
              "      <td>116.500000</td>\n",
              "      <td>4</td>\n",
              "      <td>15.64</td>\n",
              "      <td>3.910000</td>\n",
              "      <td>4</td>\n",
              "      <td>12.375</td>\n",
              "      <td>3.093750</td>\n",
              "      <td>4</td>\n",
              "      <td>70.68</td>\n",
              "      <td>17.6700</td>\n",
              "      <td>4</td>\n",
              "      <td>2</td>\n",
              "      <td>0.5</td>\n",
              "      <td>4</td>\n",
              "      <td>2</td>\n",
              "      <td>0.50</td>\n",
              "      <td>4</td>\n",
              "      <td>16</td>\n",
              "      <td>4.000000</td>\n",
              "      <td>4</td>\n",
              "    </tr>\n",
              "    <tr>\n",
              "      <th>5</th>\n",
              "      <td>6</td>\n",
              "      <td>5</td>\n",
              "      <td>19.7</td>\n",
              "      <td>19.700</td>\n",
              "      <td>1</td>\n",
              "      <td>145.0</td>\n",
              "      <td>145.000000</td>\n",
              "      <td>1</td>\n",
              "      <td>175</td>\n",
              "      <td>175.000000</td>\n",
              "      <td>1</td>\n",
              "      <td>3.62</td>\n",
              "      <td>3.620000</td>\n",
              "      <td>1</td>\n",
              "      <td>2.770</td>\n",
              "      <td>2.770000</td>\n",
              "      <td>1</td>\n",
              "      <td>15.50</td>\n",
              "      <td>15.5000</td>\n",
              "      <td>1</td>\n",
              "      <td>0</td>\n",
              "      <td>0.0</td>\n",
              "      <td>1</td>\n",
              "      <td>1</td>\n",
              "      <td>1.00</td>\n",
              "      <td>1</td>\n",
              "      <td>6</td>\n",
              "      <td>6.000000</td>\n",
              "      <td>1</td>\n",
              "    </tr>\n",
              "    <tr>\n",
              "      <th>6</th>\n",
              "      <td>8</td>\n",
              "      <td>3</td>\n",
              "      <td>180.6</td>\n",
              "      <td>15.050</td>\n",
              "      <td>12</td>\n",
              "      <td>4291.4</td>\n",
              "      <td>357.616667</td>\n",
              "      <td>12</td>\n",
              "      <td>2330</td>\n",
              "      <td>194.166667</td>\n",
              "      <td>12</td>\n",
              "      <td>37.45</td>\n",
              "      <td>3.120833</td>\n",
              "      <td>12</td>\n",
              "      <td>49.249</td>\n",
              "      <td>4.104083</td>\n",
              "      <td>12</td>\n",
              "      <td>205.71</td>\n",
              "      <td>17.1425</td>\n",
              "      <td>12</td>\n",
              "      <td>0</td>\n",
              "      <td>0.0</td>\n",
              "      <td>12</td>\n",
              "      <td>0</td>\n",
              "      <td>0.00</td>\n",
              "      <td>12</td>\n",
              "      <td>37</td>\n",
              "      <td>3.083333</td>\n",
              "      <td>12</td>\n",
              "    </tr>\n",
              "    <tr>\n",
              "      <th>7</th>\n",
              "      <td>8</td>\n",
              "      <td>5</td>\n",
              "      <td>30.8</td>\n",
              "      <td>15.400</td>\n",
              "      <td>2</td>\n",
              "      <td>652.0</td>\n",
              "      <td>326.000000</td>\n",
              "      <td>2</td>\n",
              "      <td>599</td>\n",
              "      <td>299.500000</td>\n",
              "      <td>2</td>\n",
              "      <td>7.76</td>\n",
              "      <td>3.880000</td>\n",
              "      <td>2</td>\n",
              "      <td>6.740</td>\n",
              "      <td>3.370000</td>\n",
              "      <td>2</td>\n",
              "      <td>29.10</td>\n",
              "      <td>14.5500</td>\n",
              "      <td>2</td>\n",
              "      <td>0</td>\n",
              "      <td>0.0</td>\n",
              "      <td>2</td>\n",
              "      <td>2</td>\n",
              "      <td>1.00</td>\n",
              "      <td>2</td>\n",
              "      <td>12</td>\n",
              "      <td>6.000000</td>\n",
              "      <td>2</td>\n",
              "    </tr>\n",
              "  </tbody>\n",
              "</table>\n",
              "</div>"
            ],
            "text/plain": [
              "   cyl_  gear_  mpg_sum  mpg_mean  ...  am_size  carb_sum  carb_mean  carb_size\n",
              "0     4      3     21.5    21.500  ...        1         1   1.000000          1\n",
              "1     4      4    215.4    26.925  ...        8        12   1.500000          8\n",
              "2     4      5     56.4    28.200  ...        2         4   2.000000          2\n",
              "3     6      3     39.5    19.750  ...        2         2   1.000000          2\n",
              "4     6      4     79.0    19.750  ...        4        16   4.000000          4\n",
              "5     6      5     19.7    19.700  ...        1         6   6.000000          1\n",
              "6     8      3    180.6    15.050  ...       12        37   3.083333         12\n",
              "7     8      5     30.8    15.400  ...        2        12   6.000000          2\n",
              "\n",
              "[8 rows x 29 columns]"
            ]
          },
          "metadata": {
            "tags": []
          },
          "execution_count": 50
        }
      ]
    },
    {
      "cell_type": "markdown",
      "metadata": {
        "id": "Ur6L-tl3aJqi"
      },
      "source": [
        "#Bài tập trên lớp\n",
        "\n",
        "1. Dùng lệnh để for và while tính giai thừa:\n",
        "$$n! = 1\\times 2\\times ...\\times (n-1)\\times n$$\n",
        "2. Tính tổng sau bằng cả for và while:\n",
        "$$\\sum_{k = 5}^{20}\\dfrac{k^2}{k-1}$$\n",
        "3. Đặt:\n",
        "$$s_n = \\sum_{k = 1}^nk$$\n",
        "Tính tổng dưới đây bằng cả for và while:\n",
        "$$\\sum_{n = 1}^{10}s_n$$\n",
        "4. Viết chương trình tính tổng các số chia hết cho 3 và nhỏ hơn 50 bằng hai cách.\n",
        "5. Nhập vào một số nguyên dương n, dùng lệnh while để tính tổng dưới đây:\n",
        "$$\\sum_{k = 1}^n\\dfrac{1}{k}$$\n",
        "6. Tìm giá trị lớn nhất của n để:\n",
        "$$\\sum_{k = 1}^nk^2 <100 $$\n"
      ]
    },
    {
      "cell_type": "markdown",
      "metadata": {
        "id": "DApENUP_1DsG"
      },
      "source": [
        "7. Tạo một dataFrame $10\\times 4$ thực, ngẫu nhiên. Sau đó thực hiện các yêu cầu sau:\n",
        "* Vẽ histogram của cột 2.\n",
        "* Tách và gộp các cột 2, 3, 6 thành một dataFrame mới. Đặt tên các cột mới là A, B, C.\n",
        "* Phân cụm dữ liệu ở cột A thành 2 cụm $<0, \\geq 0$. "
      ]
    },
    {
      "cell_type": "markdown",
      "metadata": {
        "id": "7eBypGiSeLrC"
      },
      "source": [
        "#Bài tập về nhà\n",
        "1. Nhập vào một số nguyên dương bất kỳ, kiểm tra xem số đó có phải là số nguyên tố hay không.\n",
        "2. Tính tổ hợp $n$ chập $k$ $(k\\leq n)$, với $n, k$ được nhập từ bàn phím.\n",
        "3. Tính tổng của 10 số Fibonaci đầu tiên. (Dãy Fibonaci là dãy có 2 phần tử đầu tiên là 1, các phần tử sau đó là tổng của 2 phần tử trước đó: 1, 1, 2, 3, 5, ...).\n",
        "4. Nhập vào một vecto dương. Tính các tổng dưới đây:\n",
        "\n",
        "\n",
        "*   Tổng các phần tử chẵn\n",
        "*   Tổng các phần tử lẻ\n",
        "*   Tổng các số chính phương\n",
        "*   Tổng các số nguyên tố.\n",
        "5. Cho một vecto bất kì, đếm xem trong đó có bao nhiêu phần tử âm, bao nhiêu phần tử dương, bao nhiêu phần tử bằng 0.\n",
        "6. Tải bộ dữ liệu của Netflix ở [đây](https://data.world/chasewillden/netflix-shows). Tiến hành group by bộ data trên theo cột release_year. Sau đó vẽ biểu đồ scatter, với x là là release_year, y là median rating.\n",
        "\n"
      ]
    }
  ]
}