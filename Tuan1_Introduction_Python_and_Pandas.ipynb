{
  "nbformat": 4,
  "nbformat_minor": 0,
  "metadata": {
    "colab": {
      "name": "Tuan1 - Introduction Python and Pandas.ipynb",
      "provenance": [],
      "toc_visible": true,
      "authorship_tag": "ABX9TyOzHQrTq+oh17MdvEgSswvc",
      "include_colab_link": true
    },
    "kernelspec": {
      "name": "python3",
      "display_name": "Python 3"
    }
  },
  "cells": [
    {
      "cell_type": "markdown",
      "metadata": {
        "id": "view-in-github",
        "colab_type": "text"
      },
      "source": [
        "<a href=\"https://colab.research.google.com/github/quangnhat1395/python-dataviz-course/blob/master/Tuan1_Introduction_Python_and_Pandas.ipynb\" target=\"_parent\"><img src=\"https://colab.research.google.com/assets/colab-badge.svg\" alt=\"Open In Colab\"/></a>"
      ]
    },
    {
      "cell_type": "markdown",
      "metadata": {
        "id": "z5KjFmMTDnRD",
        "colab_type": "text"
      },
      "source": [
        "# Giới thiệu Python\n",
        "Ở phần này, ta sẽ giới thiệu các cú pháp cơ bản nhất của Python nhằm thuận tiện cho việc sử dụng Python sau này.\n"
      ]
    },
    {
      "cell_type": "markdown",
      "metadata": {
        "id": "7RmcPSrQGXL6",
        "colab_type": "text"
      },
      "source": [
        "## Chương trình Hello World\n",
        "Ta sử dụng lệnh `print(\"chuoi can in\")` để in ra màn hình một chuỗi. Chẳng hạn, để in ra dòng chữ Hello World, ta làm như sau:"
      ]
    },
    {
      "cell_type": "code",
      "metadata": {
        "id": "21bGSq7kD3BN",
        "colab_type": "code",
        "colab": {
          "base_uri": "https://localhost:8080/",
          "height": 35
        },
        "outputId": "d34aa962-aa45-4efe-9b7d-4d8a978cb793"
      },
      "source": [
        "print(\"Hello World\") #In ra dong chu Hello World"
      ],
      "execution_count": null,
      "outputs": [
        {
          "output_type": "stream",
          "text": [
            "Hello World\n"
          ],
          "name": "stdout"
        }
      ]
    },
    {
      "cell_type": "markdown",
      "metadata": {
        "id": "mJCNAp__EXgX",
        "colab_type": "text"
      },
      "source": [
        "## Trích dẫn trong Python\n",
        "Python chấp nhận trích dẫn đơn ('), kép (\") và trích dẫn tam (''' hoặc \"\"\") để biểu thị các hằng chuỗi, miễn là các trích dẫn này có cùng kiểu mở và đóng.\n",
        "\n",
        "Trích dẫn tam được sử dụng để trải rộng chuỗi được trích dẫn qua nhiều dòng. Dưới đây là minh hoạ tất cả các trích dẫn hợp lệ:"
      ]
    },
    {
      "cell_type": "code",
      "metadata": {
        "id": "ThF0GZCqEoSC",
        "colab_type": "code",
        "colab": {
          "base_uri": "https://localhost:8080/",
          "height": 90
        },
        "outputId": "6eeae177-4aa1-4e54-d269-84082ae0e53c"
      },
      "source": [
        "word = 'word'\n",
        "sentence = \"This is a sentence.\"\n",
        "paragraph = \"\"\"This is a paragraph. It is\n",
        "made up of multiple lines and sentences.\"\"\"\n",
        "print(word)\n",
        "print(sentence)\n",
        "print(paragraph)"
      ],
      "execution_count": null,
      "outputs": [
        {
          "output_type": "stream",
          "text": [
            "word\n",
            "This is a sentence.\n",
            "This is a paragraph. It is\n",
            "made up of multiple lines and sentences.\n"
          ],
          "name": "stdout"
        }
      ]
    },
    {
      "cell_type": "markdown",
      "metadata": {
        "id": "5X0krJRdFQKI",
        "colab_type": "text"
      },
      "source": [
        "## Comment trong Python\n",
        "Ta có thể sử dụng dấu \\# để comment 1 dòng đơn trong Python, hoặc sử dụng cặp dấu trích dẫn \"\"\" để comment nhiều dòng. Cụ thể như ví dụ sau:"
      ]
    },
    {
      "cell_type": "code",
      "metadata": {
        "id": "UyymzNeeFjQ6",
        "colab_type": "code",
        "colab": {
          "base_uri": "https://localhost:8080/",
          "height": 35
        },
        "outputId": "445e5beb-44f6-4beb-ac76-a78359751596"
      },
      "source": [
        "#single line comment  \n",
        "\"\"\"\n",
        "This is a comment\n",
        "written in\n",
        "more than just one line\n",
        "\"\"\"\n",
        "print(\"Hello, World!\") "
      ],
      "execution_count": null,
      "outputs": [
        {
          "output_type": "stream",
          "text": [
            "Hello, World!\n"
          ],
          "name": "stdout"
        }
      ]
    },
    {
      "cell_type": "markdown",
      "metadata": {
        "id": "qtU5cKv7G0k-",
        "colab_type": "text"
      },
      "source": [
        "## Biến trong Python\n",
        "Trong Python, chúng ta không cần khai báo biến một cách tường minh. Khi bạn gán bất cứ giá trị nào cho biến thì biến đó được khai báo một cách tự động. Phép gán được thực hiện bởi toán tử \"=\".\n",
        "\n",
        "Toán hạng trái của toán tử \"=\" là tên biến và toán hạng phải là giá trị được lưu trữ trong biến. Ví dụ:"
      ]
    },
    {
      "cell_type": "code",
      "metadata": {
        "id": "QR3xgOD8HxLN",
        "colab_type": "code",
        "colab": {
          "base_uri": "https://localhost:8080/",
          "height": 72
        },
        "outputId": "721d0b1e-4b6b-4fae-b069-089b9071cc48"
      },
      "source": [
        "a = 20          # Phep gan a bang so nguyen 20\n",
        "b = 100.1       # Phep gan b bang so thuc 100.1\n",
        "ten = \"Nhat\"       # Phep gan bien \"ten\" bang chuoi gia tri 'Nhat'\n",
        "\n",
        "print(a)\n",
        "print(b)\n",
        "print(ten)"
      ],
      "execution_count": null,
      "outputs": [
        {
          "output_type": "stream",
          "text": [
            "20\n",
            "100.1\n",
            "Nhat\n"
          ],
          "name": "stdout"
        }
      ]
    },
    {
      "cell_type": "markdown",
      "metadata": {
        "id": "scDvbkJoKUSq",
        "colab_type": "text"
      },
      "source": [
        "Ta cũng có thể gán nhiều biến trong Python bằng cách sau:"
      ]
    },
    {
      "cell_type": "code",
      "metadata": {
        "id": "JpEuHbIgKYm5",
        "colab_type": "code",
        "colab": {
          "base_uri": "https://localhost:8080/",
          "height": 53
        },
        "outputId": "1fbcb704-ba3a-4ac7-becc-b5ffa3614255"
      },
      "source": [
        "a = b = c = 1 #Gan nhieu bien cung bang gia tri 1\n",
        "\n",
        "x, y, z = 5, 10, 15  #Gan nhieu bien bang nhieu gia tri khac nhau\n",
        "\n",
        "print(a, b, c)\n",
        "print(x, y, z)"
      ],
      "execution_count": null,
      "outputs": [
        {
          "output_type": "stream",
          "text": [
            "1 1 1\n",
            "5 10 15\n"
          ],
          "name": "stdout"
        }
      ]
    },
    {
      "cell_type": "markdown",
      "metadata": {
        "id": "TtpS2GNMKivP",
        "colab_type": "text"
      },
      "source": [
        "## Kiểu dữ liệu\n",
        "Python có 5 kiểu dữ liệu chuẩn là:\n",
        "*   Kiểu Number\n",
        "*   Kiểu String\n",
        "*   Kiểu List\n",
        "*   Kiểu Tuple\n",
        "*   Kiểu Dictionary\n",
        "\n",
        "Thông thường, ta không cần khai báo kiểu dữ liệu của biến như trong C hay C++. Ta sẽ đi qua từng kiểu dữ liệu cụ thể.\n",
        "\n",
        "Để biết một biến thuộc kiểu dữ liệu nào, ta sử dụng lệnh `type(ten_bien)`. Chẳng hạn:\n",
        "\n",
        "\n",
        "\n"
      ]
    },
    {
      "cell_type": "code",
      "metadata": {
        "id": "J0F9xtrYKZQf",
        "colab_type": "code",
        "colab": {
          "base_uri": "https://localhost:8080/",
          "height": 53
        },
        "outputId": "bea178c8-cb3a-4b80-d364-df959220a615"
      },
      "source": [
        "x = 5\n",
        "print(type(x))\n",
        "y = 5.0\n",
        "print(type(y))"
      ],
      "execution_count": null,
      "outputs": [
        {
          "output_type": "stream",
          "text": [
            "<class 'int'>\n",
            "<class 'float'>\n"
          ],
          "name": "stdout"
        }
      ]
    },
    {
      "cell_type": "markdown",
      "metadata": {
        "id": "Ti6wwYQdSqvp",
        "colab_type": "text"
      },
      "source": [
        "###Kiểu số\n",
        "Python hỗ trợ 3 kiểu dữ liệu số: số nguyên, số thực, số ảo như sau:"
      ]
    },
    {
      "cell_type": "code",
      "metadata": {
        "id": "VhW8sT1gRidz",
        "colab_type": "code",
        "colab": {
          "base_uri": "https://localhost:8080/",
          "height": 72
        },
        "outputId": "8075ca2c-040c-4e31-f0ef-7117bb409b2a"
      },
      "source": [
        "x = 1    # int\n",
        "y = 2.8  # float\n",
        "z = 1j   # complex\n",
        "print(type(x))\n",
        "print(type(y))\n",
        "print(type(z))"
      ],
      "execution_count": null,
      "outputs": [
        {
          "output_type": "stream",
          "text": [
            "<class 'int'>\n",
            "<class 'float'>\n",
            "<class 'complex'>\n"
          ],
          "name": "stdout"
        }
      ]
    },
    {
      "cell_type": "markdown",
      "metadata": {
        "id": "4MjaBf6pTYXw",
        "colab_type": "text"
      },
      "source": [
        "### Kiểu chuỗi"
      ]
    },
    {
      "cell_type": "code",
      "metadata": {
        "id": "zedXp3ArTZ2A",
        "colab_type": "code",
        "colab": {
          "base_uri": "https://localhost:8080/",
          "height": 72
        },
        "outputId": "6057719c-98a5-461a-ccd9-6200af637645"
      },
      "source": [
        "print(\"Hello\")\n",
        "print('Hello')\n",
        "# Hai chuoi nay co gia tri nhu nhau\n",
        "print(type(\"Hello\"))"
      ],
      "execution_count": null,
      "outputs": [
        {
          "output_type": "stream",
          "text": [
            "Hello\n",
            "Hello\n",
            "<class 'str'>\n"
          ],
          "name": "stdout"
        }
      ]
    },
    {
      "cell_type": "markdown",
      "metadata": {
        "id": "Y3rYoJo2VFg5",
        "colab_type": "text"
      },
      "source": [
        "### Kiểu List\n",
        "\n",
        "Lưu ý: Python đếm từ 0 trở đi. Nghĩa là trong một mảng *a*, phần tử đầu tiên sẽ là *a[0]*"
      ]
    },
    {
      "cell_type": "code",
      "metadata": {
        "id": "8MrJ29j_TbSm",
        "colab_type": "code",
        "colab": {
          "base_uri": "https://localhost:8080/",
          "height": 90
        },
        "outputId": "8dc7f02d-4b92-47d2-a3ab-e3c0bae80a4a"
      },
      "source": [
        "thislist = [\"apple\", \"banana\", \"cherry\"]  #Tao 1 list\n",
        "print(thislist)\n",
        "print(thislist[1]) # Truy cap phan tu thu 2\n",
        "print(thislist[-1])  # Tra ve phan tu thu nhat tu duoi len\n",
        "thislist[1] = \"blackcurrant\"  #Thay doi gia tri cua phan tu thu 2\n",
        "print(thislist)"
      ],
      "execution_count": null,
      "outputs": [
        {
          "output_type": "stream",
          "text": [
            "['apple', 'banana', 'cherry']\n",
            "banana\n",
            "cherry\n",
            "['apple', 'blackcurrant', 'cherry']\n"
          ],
          "name": "stdout"
        }
      ]
    },
    {
      "cell_type": "markdown",
      "metadata": {
        "id": "tR6rSGlKWbGL",
        "colab_type": "text"
      },
      "source": [
        "Ta có thể in ra lần lượt các phần tử trong **List** nhờ vào vòng lặp **for** như sau:"
      ]
    },
    {
      "cell_type": "code",
      "metadata": {
        "id": "3SdMrH6LWZ1a",
        "colab_type": "code",
        "colab": {
          "base_uri": "https://localhost:8080/",
          "height": 72
        },
        "outputId": "568593d0-cb6e-41ca-8224-08494597480f"
      },
      "source": [
        " for x in thislist:\n",
        "  print(x) "
      ],
      "execution_count": null,
      "outputs": [
        {
          "output_type": "stream",
          "text": [
            "apple\n",
            "blackcurrant\n",
            "cherry\n"
          ],
          "name": "stdout"
        }
      ]
    },
    {
      "cell_type": "markdown",
      "metadata": {
        "id": "gUylgt0WWsqD",
        "colab_type": "text"
      },
      "source": [
        "Ngoài ra, ta có thể kiểm tra một phần tử có tồn tại trong List cho trước hay không nhờ lệnh **if**:"
      ]
    },
    {
      "cell_type": "code",
      "metadata": {
        "id": "nP_NkBDsVbrc",
        "colab_type": "code",
        "colab": {
          "base_uri": "https://localhost:8080/",
          "height": 35
        },
        "outputId": "b047b707-baa7-4000-cde2-ab62791ce4b8"
      },
      "source": [
        "s = \"apple\"\n",
        "if s in thislist:\n",
        "  print(\"Yes\",s,\"is in the fruits list\") \n",
        "else:\n",
        "  print(\"No\",s,\"isn't in the fruits list\")"
      ],
      "execution_count": null,
      "outputs": [
        {
          "output_type": "stream",
          "text": [
            "Yes apple is in the fruits list\n"
          ],
          "name": "stdout"
        }
      ]
    },
    {
      "cell_type": "markdown",
      "metadata": {
        "id": "ocxmJpdG0Lb9",
        "colab_type": "text"
      },
      "source": [
        "### Kiểu Tuple\n",
        "Kiểu này cũng giống như List, nhưng nằm trong cặp dấu ngoặc tròn, có đặc điểm là **không** thể thay thế phần tử thuộc Tuple được."
      ]
    },
    {
      "cell_type": "code",
      "metadata": {
        "id": "6JVGah59W1F0",
        "colab_type": "code",
        "colab": {
          "base_uri": "https://localhost:8080/",
          "height": 72
        },
        "outputId": "c6f3218c-1561-4a6d-f9eb-3bcffe36bc59"
      },
      "source": [
        "thistuple = (\"apple\", \"banana\", \"cherry\")\n",
        "print(thistuple)\n",
        "print(thistuple[1])\n",
        "print(thistuple[1:3]) #Luu y: [i:j] ---> phan tu thu [i] den phan tu thu [j - 1] theo cach dem cua python"
      ],
      "execution_count": 2,
      "outputs": [
        {
          "output_type": "stream",
          "text": [
            "('apple', 'banana', 'cherry')\n",
            "banana\n",
            "('banana', 'cherry')\n"
          ],
          "name": "stdout"
        }
      ]
    },
    {
      "cell_type": "markdown",
      "metadata": {
        "id": "hWHbYc6s1au6",
        "colab_type": "text"
      },
      "source": [
        "Ta có thể thay đổi giá trị của phần tử trong tuple bằng cách chuyển nó qua list như sau:"
      ]
    },
    {
      "cell_type": "code",
      "metadata": {
        "id": "7xf5opSc0wNY",
        "colab_type": "code",
        "colab": {
          "base_uri": "https://localhost:8080/",
          "height": 35
        },
        "outputId": "6038132d-7bdb-47e4-9b17-cc1f240395df"
      },
      "source": [
        "x = (\"apple\", \"banana\", \"cherry\")\n",
        "y = list(x)\n",
        "y[1] = \"kiwi\"\n",
        "x = tuple(y)\n",
        "\n",
        "print(x)"
      ],
      "execution_count": 3,
      "outputs": [
        {
          "output_type": "stream",
          "text": [
            "('apple', 'kiwi', 'cherry')\n"
          ],
          "name": "stdout"
        }
      ]
    },
    {
      "cell_type": "markdown",
      "metadata": {
        "id": "ZxFErAwM1po4",
        "colab_type": "text"
      },
      "source": [
        "### Kiểu Dictionary\n",
        "Đây là kiểu dữ liệu không có tính thứ bậc, có thể thay đổi các thành phần.\n",
        "Cụ thể:"
      ]
    },
    {
      "cell_type": "code",
      "metadata": {
        "id": "7cBcPjxO1sVB",
        "colab_type": "code",
        "colab": {
          "base_uri": "https://localhost:8080/",
          "height": 35
        },
        "outputId": "a3aa78a6-a91d-480c-cf1b-33e991bcf1a3"
      },
      "source": [
        "thisdict =\t{\n",
        "  \"brand\": \"Ford\",\n",
        "  \"model\": \"Mustang\",\n",
        "  \"year\": 1964\n",
        "}\n",
        "print(thisdict)"
      ],
      "execution_count": 4,
      "outputs": [
        {
          "output_type": "stream",
          "text": [
            "{'brand': 'Ford', 'model': 'Mustang', 'year': 1964}\n"
          ],
          "name": "stdout"
        }
      ]
    },
    {
      "cell_type": "markdown",
      "metadata": {
        "id": "fe-2PoGG7Wm9",
        "colab_type": "text"
      },
      "source": [
        "Truy cập các phần tử thuộc dict"
      ]
    },
    {
      "cell_type": "code",
      "metadata": {
        "id": "B92nDA567Zpr",
        "colab_type": "code",
        "colab": {
          "base_uri": "https://localhost:8080/",
          "height": 53
        },
        "outputId": "432d0d27-f015-4c69-99d7-f288a81c9163"
      },
      "source": [
        "x = thisdict[\"model\"]\n",
        "print(x)\n",
        "#hoac su dung ham get()\n",
        "x2 = thisdict.get(\"model\")\n",
        "print(x2)"
      ],
      "execution_count": 6,
      "outputs": [
        {
          "output_type": "stream",
          "text": [
            "Mustang\n",
            "Mustang\n"
          ],
          "name": "stdout"
        }
      ]
    },
    {
      "cell_type": "markdown",
      "metadata": {
        "id": "GfAoFAcn7uMW",
        "colab_type": "text"
      },
      "source": [
        "Ta có thể thay đổi dữ liệu trong dict như sau:"
      ]
    },
    {
      "cell_type": "code",
      "metadata": {
        "id": "x-N83ueH7aaG",
        "colab_type": "code",
        "colab": {
          "base_uri": "https://localhost:8080/",
          "height": 35
        },
        "outputId": "ce0e5fd9-0268-4474-cf48-498b1b71945c"
      },
      "source": [
        "thisdict =\t{\n",
        "  \"brand\": \"Ford\",\n",
        "  \"model\": \"Mustang\",\n",
        "  \"year\": 1964\n",
        "}\n",
        "thisdict[\"year\"] = 2018\n",
        "print(thisdict)"
      ],
      "execution_count": 7,
      "outputs": [
        {
          "output_type": "stream",
          "text": [
            "{'brand': 'Ford', 'model': 'Mustang', 'year': 2018}\n"
          ],
          "name": "stdout"
        }
      ]
    },
    {
      "cell_type": "markdown",
      "metadata": {
        "id": "UDA_NzQo8FLW",
        "colab_type": "text"
      },
      "source": [
        "## Các Toán tử trong Python"
      ]
    },
    {
      "cell_type": "code",
      "metadata": {
        "id": "yc4OSiT78KSK",
        "colab_type": "code",
        "colab": {
          "base_uri": "https://localhost:8080/",
          "height": 144
        },
        "outputId": "ecc23b63-1cff-4d6c-95f0-5e512ca45b1a"
      },
      "source": [
        "x = 10\n",
        "y = 3\n",
        "print(\"x + y = \", x+y)\n",
        "print(\"x - y = \", x-y)\n",
        "print(\"xy = \", x*y)\n",
        "print(\"x / y = \", x/y)\n",
        "print(\"x^y = \", x**y)\n",
        "print(\"x chia y du \", x%y)\n",
        "print(\"Phan nguyen khi chia x cho y la \", x//y)"
      ],
      "execution_count": 13,
      "outputs": [
        {
          "output_type": "stream",
          "text": [
            "x + y =  13\n",
            "x - y =  7\n",
            "xy =  30\n",
            "x / y =  3.3333333333333335\n",
            "x^y =  1000\n",
            "x chia y du  1\n",
            "Phan nguyen khi chia x cho y la  3\n"
          ],
          "name": "stdout"
        }
      ]
    },
    {
      "cell_type": "code",
      "metadata": {
        "id": "Y0Q971wK9iTv",
        "colab_type": "code",
        "colab": {
          "base_uri": "https://localhost:8080/",
          "height": 90
        },
        "outputId": "a36d56a7-9427-426d-dd2c-8251ab225b67"
      },
      "source": [
        "print(10<20)\n",
        "print(10>20)\n",
        "print(10 == 20)\n",
        "print(10!= 20)"
      ],
      "execution_count": 17,
      "outputs": [
        {
          "output_type": "stream",
          "text": [
            "True\n",
            "False\n",
            "False\n",
            "True\n"
          ],
          "name": "stdout"
        }
      ]
    },
    {
      "cell_type": "code",
      "metadata": {
        "id": "wj03Ne-q9xDe",
        "colab_type": "code",
        "colab": {
          "base_uri": "https://localhost:8080/",
          "height": 72
        },
        "outputId": "7d3903f6-a823-4c9c-bfe4-eaa944f8af05"
      },
      "source": [
        "print(x < 5 and  x < 10)\n",
        "print(x < 5 or  x < 10)\n",
        "print(not(x < 5 and  x < 10))"
      ],
      "execution_count": 20,
      "outputs": [
        {
          "output_type": "stream",
          "text": [
            "False\n",
            "True\n",
            "True\n"
          ],
          "name": "stdout"
        }
      ]
    },
    {
      "cell_type": "code",
      "metadata": {
        "id": "il0ErAqs-POp",
        "colab_type": "code",
        "colab": {
          "base_uri": "https://localhost:8080/",
          "height": 35
        },
        "outputId": "a0ce3474-5354-4923-fcc5-0233d460c33c"
      },
      "source": [
        "list1=[1,2,3,4,5] \n",
        "list2=[6,7,8,9] \n",
        "for item in list1: \n",
        "\tif item in list2: \n",
        "\t\tprint(\"Co trung lap\")       \n",
        "else: \n",
        "\tprint(\"Khong trung lap\") "
      ],
      "execution_count": 21,
      "outputs": [
        {
          "output_type": "stream",
          "text": [
            "Khong trung lap\n"
          ],
          "name": "stdout"
        }
      ]
    },
    {
      "cell_type": "markdown",
      "metadata": {
        "id": "HTE-nQGD_IoE",
        "colab_type": "text"
      },
      "source": [
        "# Sử dụng thư viện Pandas"
      ]
    },
    {
      "cell_type": "markdown",
      "metadata": {
        "id": "7HR29cmp_NN6",
        "colab_type": "text"
      },
      "source": [
        "## Cài đặt thư viện Pandas"
      ]
    },
    {
      "cell_type": "code",
      "metadata": {
        "id": "CCUHVeTZ_AYj",
        "colab_type": "code",
        "colab": {
          "base_uri": "https://localhost:8080/",
          "height": 108
        },
        "outputId": "49234d94-8649-43b9-e483-c11aefaf9f03"
      },
      "source": [
        "pip install pandas"
      ],
      "execution_count": 25,
      "outputs": [
        {
          "output_type": "stream",
          "text": [
            "Requirement already satisfied: pandas in /usr/local/lib/python3.6/dist-packages (1.0.5)\n",
            "Requirement already satisfied: pytz>=2017.2 in /usr/local/lib/python3.6/dist-packages (from pandas) (2018.9)\n",
            "Requirement already satisfied: python-dateutil>=2.6.1 in /usr/local/lib/python3.6/dist-packages (from pandas) (2.8.1)\n",
            "Requirement already satisfied: numpy>=1.13.3 in /usr/local/lib/python3.6/dist-packages (from pandas) (1.18.5)\n",
            "Requirement already satisfied: six>=1.5 in /usr/local/lib/python3.6/dist-packages (from python-dateutil>=2.6.1->pandas) (1.15.0)\n"
          ],
          "name": "stdout"
        }
      ]
    },
    {
      "cell_type": "code",
      "metadata": {
        "id": "wDdevSs1_bAZ",
        "colab_type": "code",
        "colab": {
          "base_uri": "https://localhost:8080/",
          "height": 237
        },
        "outputId": "2b069fc2-fc6e-402f-9728-a83fbd19f101"
      },
      "source": [
        "pip install seaborn #Cai dat thu vien seaborn"
      ],
      "execution_count": 27,
      "outputs": [
        {
          "output_type": "stream",
          "text": [
            "Requirement already satisfied: seaborn in /usr/local/lib/python3.6/dist-packages (0.10.1)\n",
            "Requirement already satisfied: pandas>=0.22.0 in /usr/local/lib/python3.6/dist-packages (from seaborn) (1.0.5)\n",
            "Requirement already satisfied: matplotlib>=2.1.2 in /usr/local/lib/python3.6/dist-packages (from seaborn) (3.2.2)\n",
            "Requirement already satisfied: numpy>=1.13.3 in /usr/local/lib/python3.6/dist-packages (from seaborn) (1.18.5)\n",
            "Requirement already satisfied: scipy>=1.0.1 in /usr/local/lib/python3.6/dist-packages (from seaborn) (1.4.1)\n",
            "Requirement already satisfied: pytz>=2017.2 in /usr/local/lib/python3.6/dist-packages (from pandas>=0.22.0->seaborn) (2018.9)\n",
            "Requirement already satisfied: python-dateutil>=2.6.1 in /usr/local/lib/python3.6/dist-packages (from pandas>=0.22.0->seaborn) (2.8.1)\n",
            "Requirement already satisfied: kiwisolver>=1.0.1 in /usr/local/lib/python3.6/dist-packages (from matplotlib>=2.1.2->seaborn) (1.2.0)\n",
            "Requirement already satisfied: cycler>=0.10 in /usr/local/lib/python3.6/dist-packages (from matplotlib>=2.1.2->seaborn) (0.10.0)\n",
            "Requirement already satisfied: pyparsing!=2.0.4,!=2.1.2,!=2.1.6,>=2.0.1 in /usr/local/lib/python3.6/dist-packages (from matplotlib>=2.1.2->seaborn) (2.4.7)\n",
            "Requirement already satisfied: six>=1.5 in /usr/local/lib/python3.6/dist-packages (from python-dateutil>=2.6.1->pandas>=0.22.0->seaborn) (1.15.0)\n"
          ],
          "name": "stdout"
        }
      ]
    },
    {
      "cell_type": "code",
      "metadata": {
        "id": "610cHF5yNTDY",
        "colab_type": "code",
        "colab": {
          "base_uri": "https://localhost:8080/",
          "height": 35
        },
        "outputId": "c5a444ae-595a-41ca-be82-8559ae581466"
      },
      "source": [
        "pip install numpy"
      ],
      "execution_count": 45,
      "outputs": [
        {
          "output_type": "stream",
          "text": [
            "Requirement already satisfied: numpy in /usr/local/lib/python3.6/dist-packages (1.18.5)\n"
          ],
          "name": "stdout"
        }
      ]
    },
    {
      "cell_type": "markdown",
      "metadata": {
        "id": "cDKFByD3_5Ig",
        "colab_type": "text"
      },
      "source": [
        "## Sử dụng thư viện pandas để xử lý dữ liệu"
      ]
    },
    {
      "cell_type": "code",
      "metadata": {
        "id": "F6LeZF9V_2n3",
        "colab_type": "code",
        "colab": {
          "base_uri": "https://localhost:8080/",
          "height": 73
        },
        "outputId": "d6b8d03a-a502-4ad6-c573-43ad1cba18fd"
      },
      "source": [
        "#Load pandas library\n",
        "import pandas as pd\n",
        "import seaborn as sns"
      ],
      "execution_count": 28,
      "outputs": [
        {
          "output_type": "stream",
          "text": [
            "/usr/local/lib/python3.6/dist-packages/statsmodels/tools/_testing.py:19: FutureWarning: pandas.util.testing is deprecated. Use the functions in the public API at pandas.testing instead.\n",
            "  import pandas.util.testing as tm\n"
          ],
          "name": "stderr"
        }
      ]
    },
    {
      "cell_type": "code",
      "metadata": {
        "id": "cstxsFQ4ACF2",
        "colab_type": "code",
        "colab": {
          "base_uri": "https://localhost:8080/",
          "height": 271
        },
        "outputId": "1d70fbda-5734-4e2b-f500-c0e1f6f6fc85"
      },
      "source": [
        "diamonds_df = sns.load_dataset('diamonds') #Load bo data diamonds cua thu vien seaborn\n",
        "print(diamonds_df)"
      ],
      "execution_count": 30,
      "outputs": [
        {
          "output_type": "stream",
          "text": [
            "       carat        cut color clarity  depth  table  price     x     y     z\n",
            "0       0.23      Ideal     E     SI2   61.5   55.0    326  3.95  3.98  2.43\n",
            "1       0.21    Premium     E     SI1   59.8   61.0    326  3.89  3.84  2.31\n",
            "2       0.23       Good     E     VS1   56.9   65.0    327  4.05  4.07  2.31\n",
            "3       0.29    Premium     I     VS2   62.4   58.0    334  4.20  4.23  2.63\n",
            "4       0.31       Good     J     SI2   63.3   58.0    335  4.34  4.35  2.75\n",
            "...      ...        ...   ...     ...    ...    ...    ...   ...   ...   ...\n",
            "53935   0.72      Ideal     D     SI1   60.8   57.0   2757  5.75  5.76  3.50\n",
            "53936   0.72       Good     D     SI1   63.1   55.0   2757  5.69  5.75  3.61\n",
            "53937   0.70  Very Good     D     SI1   62.8   60.0   2757  5.66  5.68  3.56\n",
            "53938   0.86    Premium     H     SI2   61.0   58.0   2757  6.15  6.12  3.74\n",
            "53939   0.75      Ideal     D     SI2   62.2   55.0   2757  5.83  5.87  3.64\n",
            "\n",
            "[53940 rows x 10 columns]\n"
          ],
          "name": "stdout"
        }
      ]
    },
    {
      "cell_type": "markdown",
      "metadata": {
        "id": "ShHSpGuOASW9",
        "colab_type": "text"
      },
      "source": [
        "## Lệnh head()"
      ]
    },
    {
      "cell_type": "code",
      "metadata": {
        "id": "EmMiT4xmALUg",
        "colab_type": "code",
        "colab": {
          "base_uri": "https://localhost:8080/",
          "height": 206
        },
        "outputId": "278c473d-24e1-4301-9c4a-2ee6291debb3"
      },
      "source": [
        "diamonds_df.head() #Xem nhanh 5 gia tri dau tien"
      ],
      "execution_count": 31,
      "outputs": [
        {
          "output_type": "execute_result",
          "data": {
            "text/html": [
              "<div>\n",
              "<style scoped>\n",
              "    .dataframe tbody tr th:only-of-type {\n",
              "        vertical-align: middle;\n",
              "    }\n",
              "\n",
              "    .dataframe tbody tr th {\n",
              "        vertical-align: top;\n",
              "    }\n",
              "\n",
              "    .dataframe thead th {\n",
              "        text-align: right;\n",
              "    }\n",
              "</style>\n",
              "<table border=\"1\" class=\"dataframe\">\n",
              "  <thead>\n",
              "    <tr style=\"text-align: right;\">\n",
              "      <th></th>\n",
              "      <th>carat</th>\n",
              "      <th>cut</th>\n",
              "      <th>color</th>\n",
              "      <th>clarity</th>\n",
              "      <th>depth</th>\n",
              "      <th>table</th>\n",
              "      <th>price</th>\n",
              "      <th>x</th>\n",
              "      <th>y</th>\n",
              "      <th>z</th>\n",
              "    </tr>\n",
              "  </thead>\n",
              "  <tbody>\n",
              "    <tr>\n",
              "      <th>0</th>\n",
              "      <td>0.23</td>\n",
              "      <td>Ideal</td>\n",
              "      <td>E</td>\n",
              "      <td>SI2</td>\n",
              "      <td>61.5</td>\n",
              "      <td>55.0</td>\n",
              "      <td>326</td>\n",
              "      <td>3.95</td>\n",
              "      <td>3.98</td>\n",
              "      <td>2.43</td>\n",
              "    </tr>\n",
              "    <tr>\n",
              "      <th>1</th>\n",
              "      <td>0.21</td>\n",
              "      <td>Premium</td>\n",
              "      <td>E</td>\n",
              "      <td>SI1</td>\n",
              "      <td>59.8</td>\n",
              "      <td>61.0</td>\n",
              "      <td>326</td>\n",
              "      <td>3.89</td>\n",
              "      <td>3.84</td>\n",
              "      <td>2.31</td>\n",
              "    </tr>\n",
              "    <tr>\n",
              "      <th>2</th>\n",
              "      <td>0.23</td>\n",
              "      <td>Good</td>\n",
              "      <td>E</td>\n",
              "      <td>VS1</td>\n",
              "      <td>56.9</td>\n",
              "      <td>65.0</td>\n",
              "      <td>327</td>\n",
              "      <td>4.05</td>\n",
              "      <td>4.07</td>\n",
              "      <td>2.31</td>\n",
              "    </tr>\n",
              "    <tr>\n",
              "      <th>3</th>\n",
              "      <td>0.29</td>\n",
              "      <td>Premium</td>\n",
              "      <td>I</td>\n",
              "      <td>VS2</td>\n",
              "      <td>62.4</td>\n",
              "      <td>58.0</td>\n",
              "      <td>334</td>\n",
              "      <td>4.20</td>\n",
              "      <td>4.23</td>\n",
              "      <td>2.63</td>\n",
              "    </tr>\n",
              "    <tr>\n",
              "      <th>4</th>\n",
              "      <td>0.31</td>\n",
              "      <td>Good</td>\n",
              "      <td>J</td>\n",
              "      <td>SI2</td>\n",
              "      <td>63.3</td>\n",
              "      <td>58.0</td>\n",
              "      <td>335</td>\n",
              "      <td>4.34</td>\n",
              "      <td>4.35</td>\n",
              "      <td>2.75</td>\n",
              "    </tr>\n",
              "  </tbody>\n",
              "</table>\n",
              "</div>"
            ],
            "text/plain": [
              "   carat      cut color clarity  depth  table  price     x     y     z\n",
              "0   0.23    Ideal     E     SI2   61.5   55.0    326  3.95  3.98  2.43\n",
              "1   0.21  Premium     E     SI1   59.8   61.0    326  3.89  3.84  2.31\n",
              "2   0.23     Good     E     VS1   56.9   65.0    327  4.05  4.07  2.31\n",
              "3   0.29  Premium     I     VS2   62.4   58.0    334  4.20  4.23  2.63\n",
              "4   0.31     Good     J     SI2   63.3   58.0    335  4.34  4.35  2.75"
            ]
          },
          "metadata": {
            "tags": []
          },
          "execution_count": 31
        }
      ]
    },
    {
      "cell_type": "markdown",
      "metadata": {
        "id": "5E29AuIXA7dp",
        "colab_type": "text"
      },
      "source": [
        "## Lệnh shape()"
      ]
    },
    {
      "cell_type": "code",
      "metadata": {
        "id": "NMcdlmehA9Pl",
        "colab_type": "code",
        "colab": {
          "base_uri": "https://localhost:8080/",
          "height": 35
        },
        "outputId": "3839ea9e-88e4-4b59-a182-cedfda6e3128"
      },
      "source": [
        "diamonds_df.shape #Tim kich co cua dataframes"
      ],
      "execution_count": 32,
      "outputs": [
        {
          "output_type": "execute_result",
          "data": {
            "text/plain": [
              "(53940, 10)"
            ]
          },
          "metadata": {
            "tags": []
          },
          "execution_count": 32
        }
      ]
    },
    {
      "cell_type": "markdown",
      "metadata": {
        "id": "EIMMaNxmBgce",
        "colab_type": "text"
      },
      "source": [
        "## Lệnh describe()"
      ]
    },
    {
      "cell_type": "code",
      "metadata": {
        "id": "HopHukLLBFOY",
        "colab_type": "code",
        "colab": {
          "base_uri": "https://localhost:8080/",
          "height": 300
        },
        "outputId": "e43a5bf4-d958-49c7-b266-439ee2f66cc6"
      },
      "source": [
        "diamonds_df.describe() #Xem tom tat cac tham so thong ke cua data"
      ],
      "execution_count": 33,
      "outputs": [
        {
          "output_type": "execute_result",
          "data": {
            "text/html": [
              "<div>\n",
              "<style scoped>\n",
              "    .dataframe tbody tr th:only-of-type {\n",
              "        vertical-align: middle;\n",
              "    }\n",
              "\n",
              "    .dataframe tbody tr th {\n",
              "        vertical-align: top;\n",
              "    }\n",
              "\n",
              "    .dataframe thead th {\n",
              "        text-align: right;\n",
              "    }\n",
              "</style>\n",
              "<table border=\"1\" class=\"dataframe\">\n",
              "  <thead>\n",
              "    <tr style=\"text-align: right;\">\n",
              "      <th></th>\n",
              "      <th>carat</th>\n",
              "      <th>depth</th>\n",
              "      <th>table</th>\n",
              "      <th>price</th>\n",
              "      <th>x</th>\n",
              "      <th>y</th>\n",
              "      <th>z</th>\n",
              "    </tr>\n",
              "  </thead>\n",
              "  <tbody>\n",
              "    <tr>\n",
              "      <th>count</th>\n",
              "      <td>53940.000000</td>\n",
              "      <td>53940.000000</td>\n",
              "      <td>53940.000000</td>\n",
              "      <td>53940.000000</td>\n",
              "      <td>53940.000000</td>\n",
              "      <td>53940.000000</td>\n",
              "      <td>53940.000000</td>\n",
              "    </tr>\n",
              "    <tr>\n",
              "      <th>mean</th>\n",
              "      <td>0.797940</td>\n",
              "      <td>61.749405</td>\n",
              "      <td>57.457184</td>\n",
              "      <td>3932.799722</td>\n",
              "      <td>5.731157</td>\n",
              "      <td>5.734526</td>\n",
              "      <td>3.538734</td>\n",
              "    </tr>\n",
              "    <tr>\n",
              "      <th>std</th>\n",
              "      <td>0.474011</td>\n",
              "      <td>1.432621</td>\n",
              "      <td>2.234491</td>\n",
              "      <td>3989.439738</td>\n",
              "      <td>1.121761</td>\n",
              "      <td>1.142135</td>\n",
              "      <td>0.705699</td>\n",
              "    </tr>\n",
              "    <tr>\n",
              "      <th>min</th>\n",
              "      <td>0.200000</td>\n",
              "      <td>43.000000</td>\n",
              "      <td>43.000000</td>\n",
              "      <td>326.000000</td>\n",
              "      <td>0.000000</td>\n",
              "      <td>0.000000</td>\n",
              "      <td>0.000000</td>\n",
              "    </tr>\n",
              "    <tr>\n",
              "      <th>25%</th>\n",
              "      <td>0.400000</td>\n",
              "      <td>61.000000</td>\n",
              "      <td>56.000000</td>\n",
              "      <td>950.000000</td>\n",
              "      <td>4.710000</td>\n",
              "      <td>4.720000</td>\n",
              "      <td>2.910000</td>\n",
              "    </tr>\n",
              "    <tr>\n",
              "      <th>50%</th>\n",
              "      <td>0.700000</td>\n",
              "      <td>61.800000</td>\n",
              "      <td>57.000000</td>\n",
              "      <td>2401.000000</td>\n",
              "      <td>5.700000</td>\n",
              "      <td>5.710000</td>\n",
              "      <td>3.530000</td>\n",
              "    </tr>\n",
              "    <tr>\n",
              "      <th>75%</th>\n",
              "      <td>1.040000</td>\n",
              "      <td>62.500000</td>\n",
              "      <td>59.000000</td>\n",
              "      <td>5324.250000</td>\n",
              "      <td>6.540000</td>\n",
              "      <td>6.540000</td>\n",
              "      <td>4.040000</td>\n",
              "    </tr>\n",
              "    <tr>\n",
              "      <th>max</th>\n",
              "      <td>5.010000</td>\n",
              "      <td>79.000000</td>\n",
              "      <td>95.000000</td>\n",
              "      <td>18823.000000</td>\n",
              "      <td>10.740000</td>\n",
              "      <td>58.900000</td>\n",
              "      <td>31.800000</td>\n",
              "    </tr>\n",
              "  </tbody>\n",
              "</table>\n",
              "</div>"
            ],
            "text/plain": [
              "              carat         depth  ...             y             z\n",
              "count  53940.000000  53940.000000  ...  53940.000000  53940.000000\n",
              "mean       0.797940     61.749405  ...      5.734526      3.538734\n",
              "std        0.474011      1.432621  ...      1.142135      0.705699\n",
              "min        0.200000     43.000000  ...      0.000000      0.000000\n",
              "25%        0.400000     61.000000  ...      4.720000      2.910000\n",
              "50%        0.700000     61.800000  ...      5.710000      3.530000\n",
              "75%        1.040000     62.500000  ...      6.540000      4.040000\n",
              "max        5.010000     79.000000  ...     58.900000     31.800000\n",
              "\n",
              "[8 rows x 7 columns]"
            ]
          },
          "metadata": {
            "tags": []
          },
          "execution_count": 33
        }
      ]
    },
    {
      "cell_type": "code",
      "metadata": {
        "id": "ttvm_6TFCX19",
        "colab_type": "code",
        "colab": {
          "base_uri": "https://localhost:8080/",
          "height": 175
        },
        "outputId": "ad9164ba-320a-47bd-95e3-ba764c046821"
      },
      "source": [
        "diamonds_df.describe(include=object)"
      ],
      "execution_count": 34,
      "outputs": [
        {
          "output_type": "execute_result",
          "data": {
            "text/html": [
              "<div>\n",
              "<style scoped>\n",
              "    .dataframe tbody tr th:only-of-type {\n",
              "        vertical-align: middle;\n",
              "    }\n",
              "\n",
              "    .dataframe tbody tr th {\n",
              "        vertical-align: top;\n",
              "    }\n",
              "\n",
              "    .dataframe thead th {\n",
              "        text-align: right;\n",
              "    }\n",
              "</style>\n",
              "<table border=\"1\" class=\"dataframe\">\n",
              "  <thead>\n",
              "    <tr style=\"text-align: right;\">\n",
              "      <th></th>\n",
              "      <th>cut</th>\n",
              "      <th>color</th>\n",
              "      <th>clarity</th>\n",
              "    </tr>\n",
              "  </thead>\n",
              "  <tbody>\n",
              "    <tr>\n",
              "      <th>count</th>\n",
              "      <td>53940</td>\n",
              "      <td>53940</td>\n",
              "      <td>53940</td>\n",
              "    </tr>\n",
              "    <tr>\n",
              "      <th>unique</th>\n",
              "      <td>5</td>\n",
              "      <td>7</td>\n",
              "      <td>8</td>\n",
              "    </tr>\n",
              "    <tr>\n",
              "      <th>top</th>\n",
              "      <td>Ideal</td>\n",
              "      <td>G</td>\n",
              "      <td>SI1</td>\n",
              "    </tr>\n",
              "    <tr>\n",
              "      <th>freq</th>\n",
              "      <td>21551</td>\n",
              "      <td>11292</td>\n",
              "      <td>13065</td>\n",
              "    </tr>\n",
              "  </tbody>\n",
              "</table>\n",
              "</div>"
            ],
            "text/plain": [
              "          cut  color clarity\n",
              "count   53940  53940   53940\n",
              "unique      5      7       8\n",
              "top     Ideal      G     SI1\n",
              "freq    21551  11292   13065"
            ]
          },
          "metadata": {
            "tags": []
          },
          "execution_count": 34
        }
      ]
    },
    {
      "cell_type": "markdown",
      "metadata": {
        "id": "rbXkp83-Fkn6",
        "colab_type": "text"
      },
      "source": [
        "## Lệnh info()"
      ]
    },
    {
      "cell_type": "code",
      "metadata": {
        "id": "xoUBUt-mElW8",
        "colab_type": "code",
        "colab": {
          "base_uri": "https://localhost:8080/",
          "height": 326
        },
        "outputId": "21e305f3-1ec9-491b-ef73-aa99fbe9ae97"
      },
      "source": [
        "diamonds_df.info()"
      ],
      "execution_count": 35,
      "outputs": [
        {
          "output_type": "stream",
          "text": [
            "<class 'pandas.core.frame.DataFrame'>\n",
            "RangeIndex: 53940 entries, 0 to 53939\n",
            "Data columns (total 10 columns):\n",
            " #   Column   Non-Null Count  Dtype  \n",
            "---  ------   --------------  -----  \n",
            " 0   carat    53940 non-null  float64\n",
            " 1   cut      53940 non-null  object \n",
            " 2   color    53940 non-null  object \n",
            " 3   clarity  53940 non-null  object \n",
            " 4   depth    53940 non-null  float64\n",
            " 5   table    53940 non-null  float64\n",
            " 6   price    53940 non-null  int64  \n",
            " 7   x        53940 non-null  float64\n",
            " 8   y        53940 non-null  float64\n",
            " 9   z        53940 non-null  float64\n",
            "dtypes: float64(6), int64(1), object(3)\n",
            "memory usage: 4.1+ MB\n"
          ],
          "name": "stdout"
        }
      ]
    },
    {
      "cell_type": "markdown",
      "metadata": {
        "id": "CU33DgCpIuWm",
        "colab_type": "text"
      },
      "source": [
        "## Truy xuất dữ liệu trong DataFrame"
      ]
    },
    {
      "cell_type": "markdown",
      "metadata": {
        "id": "5a_5Vb6zKj7q",
        "colab_type": "text"
      },
      "source": [
        "Để chọn một cột bất kỳ trong DataFrame, ta sẽ sử dụng toán tử \".\" hoặc \"[ ]\". Chẳng hạn, để chọn côt **cut** của bộ dữ liệu trên ta viết: "
      ]
    },
    {
      "cell_type": "code",
      "metadata": {
        "id": "7ozNyUqkFvQW",
        "colab_type": "code",
        "colab": {
          "base_uri": "https://localhost:8080/",
          "height": 235
        },
        "outputId": "54904443-e9f8-4281-9778-1d0a77ef470c"
      },
      "source": [
        "\n",
        "diamonds_df.cut"
      ],
      "execution_count": 36,
      "outputs": [
        {
          "output_type": "execute_result",
          "data": {
            "text/plain": [
              "0            Ideal\n",
              "1          Premium\n",
              "2             Good\n",
              "3          Premium\n",
              "4             Good\n",
              "           ...    \n",
              "53935        Ideal\n",
              "53936         Good\n",
              "53937    Very Good\n",
              "53938      Premium\n",
              "53939        Ideal\n",
              "Name: cut, Length: 53940, dtype: object"
            ]
          },
          "metadata": {
            "tags": []
          },
          "execution_count": 36
        }
      ]
    },
    {
      "cell_type": "code",
      "metadata": {
        "id": "WJHvlSISKszB",
        "colab_type": "code",
        "colab": {
          "base_uri": "https://localhost:8080/",
          "height": 235
        },
        "outputId": "0322b63f-0581-446e-dfb4-f9346a062fe8"
      },
      "source": [
        "diamonds_df['cut']"
      ],
      "execution_count": 37,
      "outputs": [
        {
          "output_type": "execute_result",
          "data": {
            "text/plain": [
              "0            Ideal\n",
              "1          Premium\n",
              "2             Good\n",
              "3          Premium\n",
              "4             Good\n",
              "           ...    \n",
              "53935        Ideal\n",
              "53936         Good\n",
              "53937    Very Good\n",
              "53938      Premium\n",
              "53939        Ideal\n",
              "Name: cut, Length: 53940, dtype: object"
            ]
          },
          "metadata": {
            "tags": []
          },
          "execution_count": 37
        }
      ]
    },
    {
      "cell_type": "markdown",
      "metadata": {
        "id": "c4zZaB-QLEhO",
        "colab_type": "text"
      },
      "source": [
        "Ngoài ra, ta có thể chọn ra những phần tử mà giá trị ở cột **cut** là **Ideal** như sau\n",
        "\n",
        "---\n",
        "\n"
      ]
    },
    {
      "cell_type": "code",
      "metadata": {
        "id": "xax7TjN3Kvkx",
        "colab_type": "code",
        "colab": {
          "base_uri": "https://localhost:8080/",
          "height": 206
        },
        "outputId": "3fbac910-7b50-441a-d61a-4a938444919d"
      },
      "source": [
        "diamonds_low_df = diamonds_df.loc[diamonds_df['cut']=='Ideal']\n",
        "diamonds_low_df.head()"
      ],
      "execution_count": 38,
      "outputs": [
        {
          "output_type": "execute_result",
          "data": {
            "text/html": [
              "<div>\n",
              "<style scoped>\n",
              "    .dataframe tbody tr th:only-of-type {\n",
              "        vertical-align: middle;\n",
              "    }\n",
              "\n",
              "    .dataframe tbody tr th {\n",
              "        vertical-align: top;\n",
              "    }\n",
              "\n",
              "    .dataframe thead th {\n",
              "        text-align: right;\n",
              "    }\n",
              "</style>\n",
              "<table border=\"1\" class=\"dataframe\">\n",
              "  <thead>\n",
              "    <tr style=\"text-align: right;\">\n",
              "      <th></th>\n",
              "      <th>carat</th>\n",
              "      <th>cut</th>\n",
              "      <th>color</th>\n",
              "      <th>clarity</th>\n",
              "      <th>depth</th>\n",
              "      <th>table</th>\n",
              "      <th>price</th>\n",
              "      <th>x</th>\n",
              "      <th>y</th>\n",
              "      <th>z</th>\n",
              "    </tr>\n",
              "  </thead>\n",
              "  <tbody>\n",
              "    <tr>\n",
              "      <th>0</th>\n",
              "      <td>0.23</td>\n",
              "      <td>Ideal</td>\n",
              "      <td>E</td>\n",
              "      <td>SI2</td>\n",
              "      <td>61.5</td>\n",
              "      <td>55.0</td>\n",
              "      <td>326</td>\n",
              "      <td>3.95</td>\n",
              "      <td>3.98</td>\n",
              "      <td>2.43</td>\n",
              "    </tr>\n",
              "    <tr>\n",
              "      <th>11</th>\n",
              "      <td>0.23</td>\n",
              "      <td>Ideal</td>\n",
              "      <td>J</td>\n",
              "      <td>VS1</td>\n",
              "      <td>62.8</td>\n",
              "      <td>56.0</td>\n",
              "      <td>340</td>\n",
              "      <td>3.93</td>\n",
              "      <td>3.90</td>\n",
              "      <td>2.46</td>\n",
              "    </tr>\n",
              "    <tr>\n",
              "      <th>13</th>\n",
              "      <td>0.31</td>\n",
              "      <td>Ideal</td>\n",
              "      <td>J</td>\n",
              "      <td>SI2</td>\n",
              "      <td>62.2</td>\n",
              "      <td>54.0</td>\n",
              "      <td>344</td>\n",
              "      <td>4.35</td>\n",
              "      <td>4.37</td>\n",
              "      <td>2.71</td>\n",
              "    </tr>\n",
              "    <tr>\n",
              "      <th>16</th>\n",
              "      <td>0.30</td>\n",
              "      <td>Ideal</td>\n",
              "      <td>I</td>\n",
              "      <td>SI2</td>\n",
              "      <td>62.0</td>\n",
              "      <td>54.0</td>\n",
              "      <td>348</td>\n",
              "      <td>4.31</td>\n",
              "      <td>4.34</td>\n",
              "      <td>2.68</td>\n",
              "    </tr>\n",
              "    <tr>\n",
              "      <th>39</th>\n",
              "      <td>0.33</td>\n",
              "      <td>Ideal</td>\n",
              "      <td>I</td>\n",
              "      <td>SI2</td>\n",
              "      <td>61.8</td>\n",
              "      <td>55.0</td>\n",
              "      <td>403</td>\n",
              "      <td>4.49</td>\n",
              "      <td>4.51</td>\n",
              "      <td>2.78</td>\n",
              "    </tr>\n",
              "  </tbody>\n",
              "</table>\n",
              "</div>"
            ],
            "text/plain": [
              "    carat    cut color clarity  depth  table  price     x     y     z\n",
              "0    0.23  Ideal     E     SI2   61.5   55.0    326  3.95  3.98  2.43\n",
              "11   0.23  Ideal     J     VS1   62.8   56.0    340  3.93  3.90  2.46\n",
              "13   0.31  Ideal     J     SI2   62.2   54.0    344  4.35  4.37  2.71\n",
              "16   0.30  Ideal     I     SI2   62.0   54.0    348  4.31  4.34  2.68\n",
              "39   0.33  Ideal     I     SI2   61.8   55.0    403  4.49  4.51  2.78"
            ]
          },
          "metadata": {
            "tags": []
          },
          "execution_count": 38
        }
      ]
    },
    {
      "cell_type": "markdown",
      "metadata": {
        "id": "KYK_eqP2Ltfu",
        "colab_type": "text"
      },
      "source": [
        "Để thêm một cột **price_per_carat** vào DataFrame đã cho, ta tiến hành như sau:"
      ]
    },
    {
      "cell_type": "code",
      "metadata": {
        "id": "dwacsFdVLaEq",
        "colab_type": "code",
        "colab": {
          "base_uri": "https://localhost:8080/",
          "height": 206
        },
        "outputId": "e6266c07-a8ff-4556-cfec-d8d929ee7387"
      },
      "source": [
        "diamonds_df['price_per_carat'] = diamonds_df['price']/diamonds_df['carat']\n",
        "diamonds_df.head()"
      ],
      "execution_count": 39,
      "outputs": [
        {
          "output_type": "execute_result",
          "data": {
            "text/html": [
              "<div>\n",
              "<style scoped>\n",
              "    .dataframe tbody tr th:only-of-type {\n",
              "        vertical-align: middle;\n",
              "    }\n",
              "\n",
              "    .dataframe tbody tr th {\n",
              "        vertical-align: top;\n",
              "    }\n",
              "\n",
              "    .dataframe thead th {\n",
              "        text-align: right;\n",
              "    }\n",
              "</style>\n",
              "<table border=\"1\" class=\"dataframe\">\n",
              "  <thead>\n",
              "    <tr style=\"text-align: right;\">\n",
              "      <th></th>\n",
              "      <th>carat</th>\n",
              "      <th>cut</th>\n",
              "      <th>color</th>\n",
              "      <th>clarity</th>\n",
              "      <th>depth</th>\n",
              "      <th>table</th>\n",
              "      <th>price</th>\n",
              "      <th>x</th>\n",
              "      <th>y</th>\n",
              "      <th>z</th>\n",
              "      <th>price_per_carat</th>\n",
              "    </tr>\n",
              "  </thead>\n",
              "  <tbody>\n",
              "    <tr>\n",
              "      <th>0</th>\n",
              "      <td>0.23</td>\n",
              "      <td>Ideal</td>\n",
              "      <td>E</td>\n",
              "      <td>SI2</td>\n",
              "      <td>61.5</td>\n",
              "      <td>55.0</td>\n",
              "      <td>326</td>\n",
              "      <td>3.95</td>\n",
              "      <td>3.98</td>\n",
              "      <td>2.43</td>\n",
              "      <td>1417.391304</td>\n",
              "    </tr>\n",
              "    <tr>\n",
              "      <th>1</th>\n",
              "      <td>0.21</td>\n",
              "      <td>Premium</td>\n",
              "      <td>E</td>\n",
              "      <td>SI1</td>\n",
              "      <td>59.8</td>\n",
              "      <td>61.0</td>\n",
              "      <td>326</td>\n",
              "      <td>3.89</td>\n",
              "      <td>3.84</td>\n",
              "      <td>2.31</td>\n",
              "      <td>1552.380952</td>\n",
              "    </tr>\n",
              "    <tr>\n",
              "      <th>2</th>\n",
              "      <td>0.23</td>\n",
              "      <td>Good</td>\n",
              "      <td>E</td>\n",
              "      <td>VS1</td>\n",
              "      <td>56.9</td>\n",
              "      <td>65.0</td>\n",
              "      <td>327</td>\n",
              "      <td>4.05</td>\n",
              "      <td>4.07</td>\n",
              "      <td>2.31</td>\n",
              "      <td>1421.739130</td>\n",
              "    </tr>\n",
              "    <tr>\n",
              "      <th>3</th>\n",
              "      <td>0.29</td>\n",
              "      <td>Premium</td>\n",
              "      <td>I</td>\n",
              "      <td>VS2</td>\n",
              "      <td>62.4</td>\n",
              "      <td>58.0</td>\n",
              "      <td>334</td>\n",
              "      <td>4.20</td>\n",
              "      <td>4.23</td>\n",
              "      <td>2.63</td>\n",
              "      <td>1151.724138</td>\n",
              "    </tr>\n",
              "    <tr>\n",
              "      <th>4</th>\n",
              "      <td>0.31</td>\n",
              "      <td>Good</td>\n",
              "      <td>J</td>\n",
              "      <td>SI2</td>\n",
              "      <td>63.3</td>\n",
              "      <td>58.0</td>\n",
              "      <td>335</td>\n",
              "      <td>4.34</td>\n",
              "      <td>4.35</td>\n",
              "      <td>2.75</td>\n",
              "      <td>1080.645161</td>\n",
              "    </tr>\n",
              "  </tbody>\n",
              "</table>\n",
              "</div>"
            ],
            "text/plain": [
              "   carat      cut color clarity  ...     x     y     z  price_per_carat\n",
              "0   0.23    Ideal     E     SI2  ...  3.95  3.98  2.43      1417.391304\n",
              "1   0.21  Premium     E     SI1  ...  3.89  3.84  2.31      1552.380952\n",
              "2   0.23     Good     E     VS1  ...  4.05  4.07  2.31      1421.739130\n",
              "3   0.29  Premium     I     VS2  ...  4.20  4.23  2.63      1151.724138\n",
              "4   0.31     Good     J     SI2  ...  4.34  4.35  2.75      1080.645161\n",
              "\n",
              "[5 rows x 11 columns]"
            ]
          },
          "metadata": {
            "tags": []
          },
          "execution_count": 39
        }
      ]
    },
    {
      "cell_type": "markdown",
      "metadata": {
        "id": "zeC12m70L3ft",
        "colab_type": "text"
      },
      "source": [
        "## Vẽ đồ thị Histogram của đồ thị\n",
        "Ta có thể vẽ đồ thị histogram cột **carat** bằng cách sau:"
      ]
    },
    {
      "cell_type": "code",
      "metadata": {
        "id": "UES3uFPvLyx0",
        "colab_type": "code",
        "colab": {
          "base_uri": "https://localhost:8080/",
          "height": 317
        },
        "outputId": "f8cffa50-9638-46ce-d723-48a66e298dce"
      },
      "source": [
        "diamonds_df.hist(column='carat')"
      ],
      "execution_count": 40,
      "outputs": [
        {
          "output_type": "execute_result",
          "data": {
            "text/plain": [
              "array([[<matplotlib.axes._subplots.AxesSubplot object at 0x7fc8267112e8>]],\n",
              "      dtype=object)"
            ]
          },
          "metadata": {
            "tags": []
          },
          "execution_count": 40
        },
        {
          "output_type": "display_data",
          "data": {
            "image/png": "[encoded data removed]",
            "text/plain": [
              "<Figure size 432x288 with 1 Axes>"
            ]
          },
          "metadata": {
            "tags": [],
            "needs_background": "light"
          }
        }
      ]
    },
    {
      "cell_type": "markdown",
      "metadata": {
        "id": "okEa8IDoMJNp",
        "colab_type": "text"
      },
      "source": [
        "Ngoài ra, ta có thể thay đổi giá trị bins của hàm hist như sau:\n"
      ]
    },
    {
      "cell_type": "code",
      "metadata": {
        "id": "4qmw6TaJMC5i",
        "colab_type": "code",
        "colab": {
          "base_uri": "https://localhost:8080/",
          "height": 317
        },
        "outputId": "12476911-a63b-453d-f6e2-79992e3bec16"
      },
      "source": [
        "diamonds_df.hist(column='carat', bins=50)"
      ],
      "execution_count": 41,
      "outputs": [
        {
          "output_type": "execute_result",
          "data": {
            "text/plain": [
              "array([[<matplotlib.axes._subplots.AxesSubplot object at 0x7fc8261adc50>]],\n",
              "      dtype=object)"
            ]
          },
          "metadata": {
            "tags": []
          },
          "execution_count": 41
        },
        {
          "output_type": "display_data",
          "data": {
            "image/png": "[encoded data removed]",
            "text/plain": [
              "<Figure size 432x288 with 1 Axes>"
            ]
          },
          "metadata": {
            "tags": [],
            "needs_background": "light"
          }
        }
      ]
    },
    {
      "cell_type": "markdown",
      "metadata": {
        "id": "PFK2zSDZMjMO",
        "colab_type": "text"
      },
      "source": [
        "Ta cũng có thể sử dụng seaborn để vẽ histogram như sau:\n"
      ]
    },
    {
      "cell_type": "code",
      "metadata": {
        "id": "si5ogl5XMpJp",
        "colab_type": "code",
        "colab": {
          "base_uri": "https://localhost:8080/",
          "height": 297
        },
        "outputId": "9e618356-9c15-4495-e4ca-0dd4b60e90f5"
      },
      "source": [
        "sns.distplot(diamonds_df.carat)"
      ],
      "execution_count": 42,
      "outputs": [
        {
          "output_type": "execute_result",
          "data": {
            "text/plain": [
              "<matplotlib.axes._subplots.AxesSubplot at 0x7fc826118f28>"
            ]
          },
          "metadata": {
            "tags": []
          },
          "execution_count": 42
        },
        {
          "output_type": "display_data",
          "data": {
            "image/png": "[encoded data removed]",
            "text/plain": [
              "<Figure size 432x288 with 1 Axes>"
            ]
          },
          "metadata": {
            "tags": [],
            "needs_background": "light"
          }
        }
      ]
    },
    {
      "cell_type": "code",
      "metadata": {
        "id": "u46iaEzwMpnP",
        "colab_type": "code",
        "colab": {
          "base_uri": "https://localhost:8080/",
          "height": 300
        },
        "outputId": "e0515869-9946-4fc3-9878-727e9a648806"
      },
      "source": [
        "sns.distplot(diamonds_df.carat, kde=False) #Loai bo do thi duong ra histogram"
      ],
      "execution_count": 43,
      "outputs": [
        {
          "output_type": "execute_result",
          "data": {
            "text/plain": [
              "<matplotlib.axes._subplots.AxesSubplot at 0x7fc8279d50b8>"
            ]
          },
          "metadata": {
            "tags": []
          },
          "execution_count": 43
        },
        {
          "output_type": "display_data",
          "data": {
            "image/png": "[encoded data removed]",
            "text/plain": [
              "<Figure size 432x288 with 1 Axes>"
            ]
          },
          "metadata": {
            "tags": [],
            "needs_background": "light"
          }
        }
      ]
    },
    {
      "cell_type": "code",
      "metadata": {
        "id": "CrS1Wa1GM1N0",
        "colab_type": "code",
        "colab": {
          "base_uri": "https://localhost:8080/",
          "height": 297
        },
        "outputId": "aebdec55-8333-4612-8afc-a22d05a5e23d"
      },
      "source": [
        "import numpy as np\n",
        "sns.distplot(np.log(diamonds_df.price), kde=False) #Ve do thi histogram cua ham log"
      ],
      "execution_count": 44,
      "outputs": [
        {
          "output_type": "execute_result",
          "data": {
            "text/plain": [
              "<matplotlib.axes._subplots.AxesSubplot at 0x7fc825f476a0>"
            ]
          },
          "metadata": {
            "tags": []
          },
          "execution_count": 44
        },
        {
          "output_type": "display_data",
          "data": {
            "image/png": "[encoded data removed]",
            "text/plain": [
              "<Figure size 432x288 with 1 Axes>"
            ]
          },
          "metadata": {
            "tags": [],
            "needs_background": "light"
          }
        }
      ]
    },
    {
      "cell_type": "markdown",
      "metadata": {
        "id": "ixAumHfHNxgy",
        "colab_type": "text"
      },
      "source": [
        "# Bài tập tuần 1\n",
        "Sinh viên làm các bài tập dưới đây bằng Python. "
      ]
    },
    {
      "cell_type": "markdown",
      "metadata": {
        "id": "mpEKLPJSN8Sm",
        "colab_type": "text"
      },
      "source": [
        "## Bài 1\n",
        " Nhập vào một tháng và năm bất kỳ. Hãy xuất ra thông báo cho biết tháng đó có bao nhiêu ngày. (*năm nhuận là năm chia hết cho 400 hoặc chia hết cho 4 mà không chia hết cho 100*)"
      ]
    },
    {
      "cell_type": "code",
      "metadata": {
        "id": "voQmILpPNPN4",
        "colab_type": "code",
        "colab": {}
      },
      "source": [
        "#Lam bai 1 o day\n",
        "#-------------Bai 1----------------"
      ],
      "execution_count": 46,
      "outputs": []
    },
    {
      "cell_type": "markdown",
      "metadata": {
        "id": "211EZG4kOTvd",
        "colab_type": "text"
      },
      "source": [
        "##Bài 2\n",
        "\n",
        " Tính tiền đi taxi từ số km nhập vào. Biết:\n",
        "\n",
        "\n",
        "*   $1$ $km$ đầu giá $15000$ đ\n",
        "*   Từ $km$ thứ $2$ đến $km$ thứ $5$ giá $13500 $ đ\n",
        "*   Từ $km$ thứ $6$ trở đi giá $11000 $ đ\n",
        "*   Nếu trên $120km$ được giảm $ 10 \\% $ tổng tiền\n",
        "\n",
        "\n",
        "\n",
        "\n"
      ]
    },
    {
      "cell_type": "code",
      "metadata": {
        "id": "U4XdFM6sOSNu",
        "colab_type": "code",
        "colab": {}
      },
      "source": [
        "#-------------------------Bai 2-------------------"
      ],
      "execution_count": 47,
      "outputs": []
    },
    {
      "cell_type": "markdown",
      "metadata": {
        "id": "QhenWhXKQRMq",
        "colab_type": "text"
      },
      "source": [
        "## Bài 3\n",
        "Nhập vào trọng lượng cơ thể $M$ (kg), và chiều cao $h$ (m). Tính chỉ số $BMI$ theo công thức sau:\n",
        "$$\n",
        "\\textrm{BMI} = \\frac{M}{h^{2}}\n",
        "$$\n",
        "Xuất ra đánh giá chỉ số **BMI** như bảng dưới đây:\n",
        "*   Dưới chuẩn: BMI ít hơn 18.5\n",
        "*   Chuẩn: BMI từ 18,5 - 25\n",
        "*   Thừa cân: BMI từ 25-30\n",
        "*   Béo - nên giảm cân: BMI 30 - 40\n",
        "*   Rất béo – cần giảm cân ngay: BMI trên 40\n",
        "\n",
        "Lưu ý, để nhận giá trị từ bàn phím, ta sử dụng lệnh **input()** như sau:\n",
        "\n",
        "\n",
        "\n"
      ]
    },
    {
      "cell_type": "code",
      "metadata": {
        "id": "0_Uij3mVQEjT",
        "colab_type": "code",
        "colab": {
          "base_uri": "https://localhost:8080/",
          "height": 53
        },
        "outputId": "c84edd6e-866f-4831-a97a-8cec759723b2"
      },
      "source": [
        "val = input(\"Enter your value: \") \n",
        "print(val)"
      ],
      "execution_count": 48,
      "outputs": [
        {
          "output_type": "stream",
          "text": [
            "Enter your value: 12\n",
            "12\n"
          ],
          "name": "stdout"
        }
      ]
    },
    {
      "cell_type": "code",
      "metadata": {
        "id": "O1HjySKXRMwy",
        "colab_type": "code",
        "colab": {}
      },
      "source": [
        "#-----------------------Bai 3 ----------------------"
      ],
      "execution_count": null,
      "outputs": []
    },
    {
      "cell_type": "markdown",
      "metadata": {
        "id": "P5w4p6aVRU6s",
        "colab_type": "text"
      },
      "source": [
        "## Bài 4\n",
        "Cho $x = 1.5, y = 4.6$. Sử dụng biến $x, y$ được định nghĩa trên, xuất ra các vector sau:\n",
        "\n",
        "\n",
        "*   $(x, x+y, x-y, xy)$\n",
        "*   ($\\sqrt{x}, \\frac{1}{x+y}, x^y, x^2+y^2$)\n",
        "*   $(\\sqrt[4]{x^4+y^5}, x\\log_{10}y, x+\\sqrt{y}+1)$"
      ]
    },
    {
      "cell_type": "code",
      "metadata": {
        "id": "JISWkZGFSzA3",
        "colab_type": "code",
        "colab": {}
      },
      "source": [
        "#---------------Bai 4-----------------"
      ],
      "execution_count": null,
      "outputs": []
    },
    {
      "cell_type": "markdown",
      "metadata": {
        "id": "PMonUGuBS1L3",
        "colab_type": "text"
      },
      "source": [
        "## Bài 5\n",
        "Cài đặt thư viện **scikit-learn**, load bộ dữ liệu **iris** vào dataFrame.\n",
        "\n",
        "\n",
        "1.   Sử dụng các lệnh head(), shape(), describe(), info() của pandas để tìm hiểu bộ data này\n",
        "2.   Vẽ biểu đồ histogram của cột **Sepal Length** và các cột khác.\n",
        "3.   Sử dụng thư viện seaborn để vẽ biểu đồ scatter của bộ data Iris\n",
        "\n",
        "\n",
        "\n"
      ]
    },
    {
      "cell_type": "code",
      "metadata": {
        "id": "dgzTZ3F8UR1e",
        "colab_type": "code",
        "colab": {}
      },
      "source": [
        "# ---------------------Bài 5-----------------"
      ],
      "execution_count": null,
      "outputs": []
    }
  ]
}